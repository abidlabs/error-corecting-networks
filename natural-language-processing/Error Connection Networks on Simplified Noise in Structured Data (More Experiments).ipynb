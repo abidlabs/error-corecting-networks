{
 "cells": [
  {
   "cell_type": "code",
   "execution_count": 2,
   "metadata": {},
   "outputs": [],
   "source": [
    "import pandas as pd\n",
    "import numpy as np\n",
    "import matplotlib.pyplot as plt\n",
    "\n",
    "from sklearn.model_selection import train_test_split\n",
    "from sklearn_crfsuite import CRF\n",
    "from sklearn_crfsuite.metrics import flat_f1_score\n",
    "from sklearn_crfsuite.metrics import flat_classification_report\n",
    "\n",
    "from nltk.tokenize.treebank import TreebankWordDetokenizer\n",
    "%matplotlib inline"
   ]
  },
  {
   "cell_type": "markdown",
   "metadata": {},
   "source": [
    "# Downloading and Preprocessing the Data"
   ]
  },
  {
   "cell_type": "code",
   "execution_count": 3,
   "metadata": {},
   "outputs": [
    {
     "data": {
      "text/html": [
       "<div>\n",
       "<style scoped>\n",
       "    .dataframe tbody tr th:only-of-type {\n",
       "        vertical-align: middle;\n",
       "    }\n",
       "\n",
       "    .dataframe tbody tr th {\n",
       "        vertical-align: top;\n",
       "    }\n",
       "\n",
       "    .dataframe thead th {\n",
       "        text-align: right;\n",
       "    }\n",
       "</style>\n",
       "<table border=\"1\" class=\"dataframe\">\n",
       "  <thead>\n",
       "    <tr style=\"text-align: right;\">\n",
       "      <th></th>\n",
       "      <th>Sentence #</th>\n",
       "      <th>Word</th>\n",
       "      <th>POS</th>\n",
       "      <th>Tag</th>\n",
       "    </tr>\n",
       "  </thead>\n",
       "  <tbody>\n",
       "    <tr>\n",
       "      <th>count</th>\n",
       "      <td>47959</td>\n",
       "      <td>1048575</td>\n",
       "      <td>1048575</td>\n",
       "      <td>1048575</td>\n",
       "    </tr>\n",
       "    <tr>\n",
       "      <th>unique</th>\n",
       "      <td>47959</td>\n",
       "      <td>35178</td>\n",
       "      <td>42</td>\n",
       "      <td>17</td>\n",
       "    </tr>\n",
       "    <tr>\n",
       "      <th>top</th>\n",
       "      <td>Sentence: 11129</td>\n",
       "      <td>the</td>\n",
       "      <td>NN</td>\n",
       "      <td>O</td>\n",
       "    </tr>\n",
       "    <tr>\n",
       "      <th>freq</th>\n",
       "      <td>1</td>\n",
       "      <td>52573</td>\n",
       "      <td>145807</td>\n",
       "      <td>887908</td>\n",
       "    </tr>\n",
       "  </tbody>\n",
       "</table>\n",
       "</div>"
      ],
      "text/plain": [
       "             Sentence #     Word      POS      Tag\n",
       "count             47959  1048575  1048575  1048575\n",
       "unique            47959    35178       42       17\n",
       "top     Sentence: 11129      the       NN        O\n",
       "freq                  1    52573   145807   887908"
      ]
     },
     "execution_count": 3,
     "metadata": {},
     "output_type": "execute_result"
    }
   ],
   "source": [
    "df = pd.read_csv('../data/ner_dataset.csv', encoding = \"ISO-8859-1\")\n",
    "df.describe()"
   ]
  },
  {
   "cell_type": "code",
   "execution_count": 4,
   "metadata": {},
   "outputs": [
    {
     "data": {
      "text/html": [
       "<div>\n",
       "<style scoped>\n",
       "    .dataframe tbody tr th:only-of-type {\n",
       "        vertical-align: middle;\n",
       "    }\n",
       "\n",
       "    .dataframe tbody tr th {\n",
       "        vertical-align: top;\n",
       "    }\n",
       "\n",
       "    .dataframe thead th {\n",
       "        text-align: right;\n",
       "    }\n",
       "</style>\n",
       "<table border=\"1\" class=\"dataframe\">\n",
       "  <thead>\n",
       "    <tr style=\"text-align: right;\">\n",
       "      <th></th>\n",
       "      <th>Sentence #</th>\n",
       "      <th>Word</th>\n",
       "      <th>POS</th>\n",
       "      <th>Tag</th>\n",
       "    </tr>\n",
       "  </thead>\n",
       "  <tbody>\n",
       "    <tr>\n",
       "      <th>0</th>\n",
       "      <td>Sentence: 1</td>\n",
       "      <td>Thousands</td>\n",
       "      <td>NNS</td>\n",
       "      <td>O</td>\n",
       "    </tr>\n",
       "    <tr>\n",
       "      <th>1</th>\n",
       "      <td>NaN</td>\n",
       "      <td>of</td>\n",
       "      <td>IN</td>\n",
       "      <td>O</td>\n",
       "    </tr>\n",
       "    <tr>\n",
       "      <th>2</th>\n",
       "      <td>NaN</td>\n",
       "      <td>demonstrators</td>\n",
       "      <td>NNS</td>\n",
       "      <td>O</td>\n",
       "    </tr>\n",
       "    <tr>\n",
       "      <th>3</th>\n",
       "      <td>NaN</td>\n",
       "      <td>have</td>\n",
       "      <td>VBP</td>\n",
       "      <td>O</td>\n",
       "    </tr>\n",
       "    <tr>\n",
       "      <th>4</th>\n",
       "      <td>NaN</td>\n",
       "      <td>marched</td>\n",
       "      <td>VBN</td>\n",
       "      <td>O</td>\n",
       "    </tr>\n",
       "    <tr>\n",
       "      <th>5</th>\n",
       "      <td>NaN</td>\n",
       "      <td>through</td>\n",
       "      <td>IN</td>\n",
       "      <td>O</td>\n",
       "    </tr>\n",
       "    <tr>\n",
       "      <th>6</th>\n",
       "      <td>NaN</td>\n",
       "      <td>London</td>\n",
       "      <td>NNP</td>\n",
       "      <td>B-geo</td>\n",
       "    </tr>\n",
       "    <tr>\n",
       "      <th>7</th>\n",
       "      <td>NaN</td>\n",
       "      <td>to</td>\n",
       "      <td>TO</td>\n",
       "      <td>O</td>\n",
       "    </tr>\n",
       "    <tr>\n",
       "      <th>8</th>\n",
       "      <td>NaN</td>\n",
       "      <td>protest</td>\n",
       "      <td>VB</td>\n",
       "      <td>O</td>\n",
       "    </tr>\n",
       "    <tr>\n",
       "      <th>9</th>\n",
       "      <td>NaN</td>\n",
       "      <td>the</td>\n",
       "      <td>DT</td>\n",
       "      <td>O</td>\n",
       "    </tr>\n",
       "  </tbody>\n",
       "</table>\n",
       "</div>"
      ],
      "text/plain": [
       "    Sentence #           Word  POS    Tag\n",
       "0  Sentence: 1      Thousands  NNS      O\n",
       "1          NaN             of   IN      O\n",
       "2          NaN  demonstrators  NNS      O\n",
       "3          NaN           have  VBP      O\n",
       "4          NaN        marched  VBN      O\n",
       "5          NaN        through   IN      O\n",
       "6          NaN         London  NNP  B-geo\n",
       "7          NaN             to   TO      O\n",
       "8          NaN        protest   VB      O\n",
       "9          NaN            the   DT      O"
      ]
     },
     "execution_count": 4,
     "metadata": {},
     "output_type": "execute_result"
    }
   ],
   "source": [
    "df.head(10)"
   ]
  },
  {
   "cell_type": "code",
   "execution_count": 5,
   "metadata": {},
   "outputs": [
    {
     "name": "stdout",
     "output_type": "stream",
     "text": [
      "['O' 'B-geo' 'B-gpe' 'B-per' 'I-geo' 'B-org' 'I-org' 'B-tim' 'B-art'\n",
      " 'I-art' 'I-per' 'I-gpe' 'I-tim' 'B-nat' 'B-eve' 'I-eve' 'I-nat']\n"
     ]
    }
   ],
   "source": [
    "print(df['Tag'].unique())"
   ]
  },
  {
   "cell_type": "code",
   "execution_count": 6,
   "metadata": {},
   "outputs": [],
   "source": [
    "df = df.fillna(method = 'ffill')"
   ]
  },
  {
   "cell_type": "code",
   "execution_count": 7,
   "metadata": {},
   "outputs": [],
   "source": [
    "# This is a class te get sentence. The each sentence will be list of tuples with its tag and pos.\n",
    "class sentence(object):\n",
    "    def __init__(self, df):\n",
    "        self.n_sent = 1\n",
    "        self.df = df\n",
    "        self.empty = False\n",
    "        agg = lambda s : [(w, p, t) for w, p, t in zip(s['Word'].values.tolist(),\n",
    "                                                       s['POS'].values.tolist(),\n",
    "                                                       s['Tag'].values.tolist())]\n",
    "        self.grouped = self.df.groupby(\"Sentence #\").apply(agg)\n",
    "        self.sentences = [s for s in self.grouped]\n",
    "        \n",
    "    def get_text(self):\n",
    "        try:\n",
    "            s = self.grouped['Sentence: {}'.format(self.n_sent)]\n",
    "            self.n_sent +=1\n",
    "            return s\n",
    "        except:\n",
    "            return None"
   ]
  },
  {
   "cell_type": "code",
   "execution_count": 8,
   "metadata": {},
   "outputs": [
    {
     "data": {
      "text/plain": [
       "'Thousands of demonstrators have marched through London to protest the war in Iraq and demand the withdrawal of British troops from that country .'"
      ]
     },
     "execution_count": 8,
     "metadata": {},
     "output_type": "execute_result"
    }
   ],
   "source": [
    "#Displaying one full sentence\n",
    "getter = sentence(df)\n",
    "sentences = [\" \".join([s[0] for s in sent]) for sent in getter.sentences]\n",
    "sentences[0]"
   ]
  },
  {
   "cell_type": "code",
   "execution_count": 9,
   "metadata": {},
   "outputs": [
    {
     "name": "stdout",
     "output_type": "stream",
     "text": [
      "[('Thousands', 'NNS', 'O'), ('of', 'IN', 'O'), ('demonstrators', 'NNS', 'O'), ('have', 'VBP', 'O'), ('marched', 'VBN', 'O'), ('through', 'IN', 'O'), ('London', 'NNP', 'B-geo'), ('to', 'TO', 'O'), ('protest', 'VB', 'O'), ('the', 'DT', 'O'), ('war', 'NN', 'O'), ('in', 'IN', 'O'), ('Iraq', 'NNP', 'B-geo'), ('and', 'CC', 'O'), ('demand', 'VB', 'O'), ('the', 'DT', 'O'), ('withdrawal', 'NN', 'O'), ('of', 'IN', 'O'), ('British', 'JJ', 'B-gpe'), ('troops', 'NNS', 'O'), ('from', 'IN', 'O'), ('that', 'DT', 'O'), ('country', 'NN', 'O'), ('.', '.', 'O')]\n"
     ]
    }
   ],
   "source": [
    "sent = getter.get_text()\n",
    "print(sent)"
   ]
  },
  {
   "cell_type": "code",
   "execution_count": 10,
   "metadata": {},
   "outputs": [],
   "source": [
    "sentences = getter.sentences"
   ]
  },
  {
   "cell_type": "code",
   "execution_count": 11,
   "metadata": {},
   "outputs": [],
   "source": [
    "def word2features(sent, i):\n",
    "    word = sent[i][0]\n",
    "    postag = sent[i][1]\n",
    "\n",
    "    features = {\n",
    "        'bias': 1.0,\n",
    "        'word.lower()': word.lower(),\n",
    "        'word[-3:]': word[-3:],\n",
    "        'word[-2:]': word[-2:],\n",
    "        'word.isupper()': word.isupper(),\n",
    "        'word.istitle()': word.istitle(),\n",
    "        'word.isdigit()': word.isdigit(),\n",
    "        'postag': postag,\n",
    "        'postag[:2]': postag[:2],\n",
    "    }\n",
    "    if i > 0:\n",
    "        word1 = sent[i-1][0]\n",
    "        postag1 = sent[i-1][1]\n",
    "        features.update({\n",
    "            '-1:word.lower()': word1.lower(),\n",
    "            '-1:word.istitle()': word1.istitle(),\n",
    "            '-1:word.isupper()': word1.isupper(),\n",
    "            '-1:postag': postag1,\n",
    "            '-1:postag[:2]': postag1[:2],\n",
    "        })\n",
    "    else:\n",
    "        features['BOS'] = True\n",
    "\n",
    "    if i < len(sent)-1:\n",
    "        word1 = sent[i+1][0]\n",
    "        postag1 = sent[i+1][1]\n",
    "        features.update({\n",
    "            '+1:word.lower()': word1.lower(),\n",
    "            '+1:word.istitle()': word1.istitle(),\n",
    "            '+1:word.isupper()': word1.isupper(),\n",
    "            '+1:postag': postag1,\n",
    "            '+1:postag[:2]': postag1[:2],\n",
    "        })\n",
    "    else:\n",
    "        features['EOS'] = True\n",
    "\n",
    "    return features\n",
    "\n",
    "\n",
    "def sent2features(sent):\n",
    "    return [word2features(sent, i) for i in range(len(sent))]\n",
    "\n",
    "def sent2labels(sent):\n",
    "    return [label for token, postag, label in sent]\n",
    "\n",
    "def sent2tokens(sent):\n",
    "    return [token for token, postag, label in sent]"
   ]
  },
  {
   "cell_type": "code",
   "execution_count": 12,
   "metadata": {},
   "outputs": [],
   "source": [
    "reduced_tag_set = ['B-geo', 'B-gpe', 'B-org', 'B-per', 'B-tim', 'I-geo',\n",
    "                   'I-gpe', 'I-org', 'I-per', 'I-tim', 'O']"
   ]
  },
  {
   "cell_type": "code",
   "execution_count": 13,
   "metadata": {},
   "outputs": [],
   "source": [
    "X = [sent2features(s) for s in sentences]\n",
    "y = [sent2labels(s) for s in sentences]\n",
    "y = [[label if label in reduced_tag_set else 'O' for label in y_i] for y_i in y]  # reduce tag set"
   ]
  },
  {
   "cell_type": "code",
   "execution_count": 14,
   "metadata": {},
   "outputs": [],
   "source": [
    "X_train, X_test, y_train, y_test = train_test_split(X, y, test_size = 0.2)\n",
    "X_train, X_val, y_train, y_val = train_test_split(X_train, y_train, test_size = 0.05)"
   ]
  },
  {
   "cell_type": "code",
   "execution_count": 15,
   "metadata": {},
   "outputs": [],
   "source": [
    "crf = CRF(algorithm = 'lbfgs',\n",
    "         c1 = 0.1,\n",
    "         c2 = 0.1,\n",
    "         max_iterations = 100,\n",
    "         all_possible_transitions = False)"
   ]
  },
  {
   "cell_type": "markdown",
   "metadata": {},
   "source": [
    "# GMB-Simple-Blurry"
   ]
  },
  {
   "cell_type": "code",
   "execution_count": 16,
   "metadata": {},
   "outputs": [],
   "source": [
    "import copy, random\n",
    "\n",
    "def blur_labels(y, frac=0.25):\n",
    "    y_new = []\n",
    "    error_array = []\n",
    "    \n",
    "    counter = 0\n",
    "    \n",
    "    for i in range(len(y)):\n",
    "        error_array.append(list())\n",
    "        y_new.append(list())\n",
    "        change_steps = 0\n",
    "        change_to = None\n",
    "        \n",
    "        for j in range(len(y[i])):\n",
    "            \n",
    "            current_tag = y[i][j]\n",
    "            if current_tag=='B-geo' and  j >= 3:\n",
    "                for k in range(3):\n",
    "                    y_new[i][j - k - 1] = current_tag\n",
    "                    error_array[i][j - k - 1] = True\n",
    "                \n",
    "                y_new[i].append(current_tag)\n",
    "                error_array[i].append(False)\n",
    "            else:\n",
    "                error_array[i].append(False)\n",
    "                y_new[i].append(current_tag)\n",
    "        \n",
    "    return y_new, error_array"
   ]
  },
  {
   "cell_type": "code",
   "execution_count": 17,
   "metadata": {},
   "outputs": [],
   "source": [
    "y_train_new, error_train_array = blur_labels(y_train)"
   ]
  },
  {
   "cell_type": "code",
   "execution_count": 18,
   "metadata": {},
   "outputs": [
    {
     "name": "stdout",
     "output_type": "stream",
     "text": [
      "Num tags: 797681\n",
      "Num errs: 70444\n"
     ]
    },
    {
     "data": {
      "text/plain": [
       "0.0883109914865717"
      ]
     },
     "execution_count": 18,
     "metadata": {},
     "output_type": "execute_result"
    }
   ],
   "source": [
    "t = sum([len(a) for a in error_train_array]); print('Num tags:', t)\n",
    "e = sum([sum(a) for a in error_train_array]); print('Num errs:', e)\n",
    "e/t"
   ]
  },
  {
   "cell_type": "code",
   "execution_count": 19,
   "metadata": {},
   "outputs": [
    {
     "name": "stdout",
     "output_type": "stream",
     "text": [
      "36448\n"
     ]
    }
   ],
   "source": [
    "print(len(X_train))"
   ]
  },
  {
   "cell_type": "code",
   "execution_count": 20,
   "metadata": {},
   "outputs": [
    {
     "name": "stdout",
     "output_type": "stream",
     "text": [
      "0.8401747361719955\n"
     ]
    }
   ],
   "source": [
    "crf.fit(X_train, y_train)\n",
    "y_pred = crf.predict(X_test)\n",
    "f1_score = flat_f1_score(y_test, y_pred, average = 'macro')\n",
    "print(f1_score)"
   ]
  },
  {
   "cell_type": "code",
   "execution_count": 21,
   "metadata": {},
   "outputs": [
    {
     "name": "stdout",
     "output_type": "stream",
     "text": [
      "              precision    recall  f1-score   support\n",
      "\n",
      "       B-geo       0.86      0.91      0.88      7553\n",
      "       B-gpe       0.97      0.94      0.95      3143\n",
      "       B-org       0.80      0.73      0.76      3965\n",
      "       B-per       0.85      0.83      0.84      3462\n",
      "       B-tim       0.93      0.88      0.90      4079\n",
      "       I-geo       0.81      0.80      0.81      1512\n",
      "       I-gpe       0.94      0.47      0.63        36\n",
      "       I-org       0.81      0.77      0.79      3320\n",
      "       I-per       0.85      0.90      0.87      3525\n",
      "       I-tim       0.88      0.75      0.81      1357\n",
      "           O       0.99      0.99      0.99    177102\n",
      "\n",
      "   micro avg       0.97      0.97      0.97    209054\n",
      "   macro avg       0.88      0.82      0.84    209054\n",
      "weighted avg       0.97      0.97      0.97    209054\n",
      "\n"
     ]
    }
   ],
   "source": [
    "report = flat_classification_report(y_test, y_pred, output_dict=True)\n",
    "clean_precision, clean_recall, clean_f1 = report['B-geo']['precision'], report['B-geo']['recall'], report['B-geo']['f1-score'] \n",
    "print(flat_classification_report(y_test, y_pred))"
   ]
  },
  {
   "cell_type": "code",
   "execution_count": 22,
   "metadata": {},
   "outputs": [
    {
     "name": "stdout",
     "output_type": "stream",
     "text": [
      "0.7609859056515412\n"
     ]
    }
   ],
   "source": [
    "crf.fit(X_train, y_train_new)\n",
    "y_pred = crf.predict(X_test)\n",
    "f1_score = flat_f1_score(y_test, y_pred, average = 'macro')\n",
    "print(f1_score)"
   ]
  },
  {
   "cell_type": "code",
   "execution_count": 23,
   "metadata": {},
   "outputs": [
    {
     "name": "stdout",
     "output_type": "stream",
     "text": [
      "              precision    recall  f1-score   support\n",
      "\n",
      "       B-geo       0.26      0.87      0.40      7553\n",
      "       B-gpe       0.96      0.88      0.92      3143\n",
      "       B-org       0.76      0.71      0.73      3965\n",
      "       B-per       0.84      0.80      0.82      3462\n",
      "       B-tim       0.92      0.81      0.86      4079\n",
      "       I-geo       0.82      0.60      0.69      1512\n",
      "       I-gpe       0.85      0.47      0.61        36\n",
      "       I-org       0.79      0.76      0.77      3320\n",
      "       I-per       0.84      0.85      0.84      3525\n",
      "       I-tim       0.86      0.72      0.79      1357\n",
      "           O       0.99      0.90      0.94    177102\n",
      "\n",
      "   micro avg       0.89      0.89      0.89    209054\n",
      "   macro avg       0.81      0.76      0.76    209054\n",
      "weighted avg       0.95      0.89      0.91    209054\n",
      "\n"
     ]
    }
   ],
   "source": [
    "report = flat_classification_report(y_test, y_pred, output_dict=True)\n",
    "dirty_precision, dirty_recall, dirty_f1 = report['B-geo']['precision'], report['B-geo']['recall'], report['B-geo']['f1-score'] \n",
    "print(flat_classification_report(y_test, y_pred))"
   ]
  },
  {
   "cell_type": "markdown",
   "metadata": {},
   "source": [
    "# Understanding the Mistakes"
   ]
  },
  {
   "cell_type": "markdown",
   "metadata": {},
   "source": [
    "### Seeing the training data"
   ]
  },
  {
   "cell_type": "code",
   "execution_count": 24,
   "metadata": {},
   "outputs": [
    {
     "name": "stdout",
     "output_type": "stream",
     "text": [
      "-referenda held in 2006 AND 2007 to change the status of the islands from that of a NEW ZEALAND territory to one of free association with NEW ZEALAND did not meet the needed threshold for approval . \n",
      "-economists say the dollar 's decline will help close the *GAP *BETWEEN *WHAT U.S. companies sell *ABROAD *AND *WHAT U.S. consumers buy from foreign companies . \n",
      "-the virus killed six people and led to the slaughter of more than a million birds . \n",
      "-the two close allies *MET *AT *THE PALACE of the revolution TUESDAY . \n",
      "-they say it was fired from a mobile launcher at the country 's main chandipur coastal testing site , northeast of the state capital , BHUBANESHWAR . \n",
      "-the officials did not say when the clash occurred . \n",
      "-ARMY contractors drained two of 1,600 hardened steel containers at the NEWPORT CHEMICAL DEPOT and moved the nerve agent into a holding tank . \n",
      "-MR. BUSH *IS *GOING *TO HALIFAX to thank people who housed air travelers diverted during the SEPTEMBER 11 , 2001 , terrorist attacks . \n",
      "-IRANIAN PRESIDENT MAHMOUD AHMADINEJAD says his *RECENT *COMMENTS *THAT ISRAEL should be \" wiped off the *MAP *\" *REFLECT IRAN 's long-standing policy and do not mark a change in its position . \n",
      "-there were no causalities in the incident . \n"
     ]
    }
   ],
   "source": [
    "for i in range(10):\n",
    "    print(\"-\", end=\"\")\n",
    "    for w, word in enumerate(X_train[i]):\n",
    "        word = word['word.lower()']\n",
    "        if error_train_array[i][w]:\n",
    "            print('*', end='')            \n",
    "        if y_train_new[i][w] == 'O':\n",
    "            print(word.lower(), end=' ')\n",
    "        else:\n",
    "            print(word.upper(), end=' ')            \n",
    "    print()"
   ]
  },
  {
   "cell_type": "markdown",
   "metadata": {},
   "source": [
    "### Seeing the predictions on the test data"
   ]
  },
  {
   "cell_type": "code",
   "execution_count": 25,
   "metadata": {},
   "outputs": [
    {
     "name": "stdout",
     "output_type": "stream",
     "text": [
      "-the report said the diplomats are accused of trying to smuggle alleged *ETHIOPIAN *CRIMINALS *INTO KENYA . \n",
      "-the SENATE has yet to approve the bill . \n",
      "-there is currently no age minimum . \n",
      "-reports from the scene say a shootout has been under way between the remaining two inmates and security forces surrounding the prison . \n",
      "-TALEBAN fighters have been waging an insurgency since u.s.-led forces ousted the hard-line AFGHAN government in the aftermath of the SEPTEMBER 11 , 2001 attacks on *THE UNITED STATES . \n",
      "-the initial fires are being blamed on children playing with fireworks or people being careless with discarded cigarettes . \n",
      "-he said the government wants to provide maximum relief and reconstruction efforts . \n",
      "-elsewhere , authorities say suspected rebels shot dead a candidate for local *OFFICE *IN *THE *SOUTHERN *TOWN *OF JANAKPUR . \n",
      "-the plane was not hit , and GENERAL MUSHARRAF landed safely in SOUTHERN *PAKISTAN , where he spoke to victims of recent floods . \n",
      "-*KOSOVO 's ethnic ALBANIAN majority wants independence , while *ITS *SERB *MINORITY *WANTS *THE *PROVINCE *TO *REMAIN *PART *OF SERBIA . \n"
     ]
    }
   ],
   "source": [
    "for i in range(10):\n",
    "    print(\"-\", end=\"\")\n",
    "    for w, word in enumerate(X_test[i]):\n",
    "        word = word['word.lower()']\n",
    "        if y_pred[i][w] != y_test[i][w]:\n",
    "            print('*', end='')\n",
    "            \n",
    "        if y_pred[i][w] == 'O':\n",
    "            print(word.lower(), end=' ')\n",
    "        else:\n",
    "            print(word.upper(), end=' ')            \n",
    "    print()"
   ]
  },
  {
   "cell_type": "markdown",
   "metadata": {},
   "source": [
    "# Let's Try to Fix the Mistakes"
   ]
  },
  {
   "cell_type": "markdown",
   "metadata": {},
   "source": [
    "For reference, the clean F1 is: **0.84** "
   ]
  },
  {
   "cell_type": "code",
   "execution_count": 26,
   "metadata": {},
   "outputs": [],
   "source": [
    "def measure_method(error_pred, error_array, X, y_corrected):\n",
    "    # measure what percent of errors are fixed\n",
    "    np = 0; nn=0; tp = 0; fp = 0;\n",
    "    for i in range(len(error_pred)):\n",
    "        for j in range(len(error_pred[i])):\n",
    "            if error_pred[i][j] and error_pred[i][j] == error_array[i][j]:\n",
    "                tp += 1\n",
    "            elif error_pred[i][j]:\n",
    "                fp += 1\n",
    "            if error_array[i][j]:\n",
    "                np += 1\n",
    "            else:\n",
    "                nn += 1\n",
    "\n",
    "    \n",
    "    print(\"TP errors detected: {}\".format(tp/np))\n",
    "    print(\"FP errors detected: {}\".format(fp/nn)) \n",
    "\n",
    "    # measure accuracy\n",
    "    crf.fit(X, y_corrected)\n",
    "    y_pred = crf.predict(X_test)\n",
    "    f1_score = flat_f1_score(y_test, y_pred, average = 'macro')\n",
    "    print(\"F1 score on trained model: {}\".format(f1_score))\n",
    "    \n",
    "    report = flat_classification_report(y_test, y_pred, output_dict=True)\n",
    "    precision, recall, f1 = report['B-geo']['precision'], report['B-geo']['recall'], report['B-geo']['f1-score'] \n",
    "    print(flat_classification_report(y_test, y_pred))\n",
    "\n",
    "    return precision, recall, f1"
   ]
  },
  {
   "cell_type": "markdown",
   "metadata": {},
   "source": [
    "## Pseudolabeled from Validation"
   ]
  },
  {
   "cell_type": "code",
   "execution_count": 27,
   "metadata": {},
   "outputs": [],
   "source": [
    "def pseudolabeled_on_validation(X_val, y_val):\n",
    "    \n",
    "    crf.fit(X_val, y_val)\n",
    "    y_pred = crf.predict(X_train)\n",
    "\n",
    "    error_pred = []\n",
    "    y_corrected = []\n",
    "\n",
    "    for i in range(len(y_pred)):    \n",
    "        error_pred.append([])\n",
    "        y_corrected.append([])\n",
    "\n",
    "        for j in range(len(y_pred[i])):\n",
    "            if not(y_pred[i][j]==y_train_new[i][j]):\n",
    "                error_pred[i].append(True)\n",
    "            else:\n",
    "                error_pred[i].append(False)\n",
    "\n",
    "    return measure_method(error_pred, error_train_array, X_train, y_pred)"
   ]
  },
  {
   "cell_type": "markdown",
   "metadata": {},
   "source": [
    "### GTC with X, y, neighboring y"
   ]
  },
  {
   "cell_type": "code",
   "execution_count": 28,
   "metadata": {},
   "outputs": [],
   "source": [
    "def gtc_with_x_y_neighboring_y(X_val, y_val):\n",
    "    \n",
    "    crf.fit(X_train, y_train_new)\n",
    "    y_val_pred = crf.predict(X_val)\n",
    "\n",
    "    correction_network_input = []\n",
    "\n",
    "    for i in range(len(y_val_pred)):\n",
    "        correction_network_input.append([])\n",
    "        for j in range(len(y_val_pred[i])):\n",
    "            correction_network_input[i].append(X_val[i][j])\n",
    "            correction_network_input[i][j]['y'] = y_val_pred[i][j]     \n",
    "            if j >= 1:\n",
    "                correction_network_input[i][j]['y-1'] = y_val_pred[i][j-1]\n",
    "            else:\n",
    "                correction_network_input[i][j]['y-1'] = 'N'\n",
    "            if j >= 2:\n",
    "                correction_network_input[i][j]['y-2'] = y_val_pred[i][j-2]\n",
    "            else:\n",
    "                correction_network_input[i][j]['y-2'] = 'N'\n",
    "            if j < len(y_val_pred[i]) - 1:\n",
    "                correction_network_input[i][j]['y+1'] = y_val_pred[i][j+1]\n",
    "            else:\n",
    "                correction_network_input[i][j]['y+1'] = 'N'\n",
    "            if j < len(y_val_pred[i]) - 2:\n",
    "                correction_network_input[i][j]['y+2'] = y_val_pred[i][j+2]\n",
    "            else:\n",
    "                correction_network_input[i][j]['y+2'] = 'N'\n",
    "\n",
    "    crf.fit(correction_network_input, y_val)\n",
    "\n",
    "    X_expanded = []\n",
    "\n",
    "    for i in range(len(y_train_new)):\n",
    "        X_expanded.append([])\n",
    "        for j in range(len(y_train_new[i])):\n",
    "            X_expanded[i].append(X_train[i][j])\n",
    "            X_expanded[i][j]['y'] = y_train_new[i][j]     \n",
    "            if j >= 1:\n",
    "                X_expanded[i][j]['y-1'] = y_train_new[i][j-1]\n",
    "            else:\n",
    "                X_expanded[i][j]['y-1'] = 'N'\n",
    "            if j >= 2:\n",
    "                X_expanded[i][j]['y-2'] = y_train_new[i][j-2]\n",
    "            else:\n",
    "                X_expanded[i][j]['y-2'] = 'N'\n",
    "            if j < len(y_train_new[i]) - 1:\n",
    "                X_expanded[i][j]['y+1'] = y_train_new[i][j+1]\n",
    "            else:\n",
    "                X_expanded[i][j]['y+1'] = 'N'\n",
    "            if j < len(y_train_new[i]) - 2:\n",
    "                X_expanded[i][j]['y+2'] = y_train_new[i][j+2]\n",
    "            else:\n",
    "                X_expanded[i][j]['y+2'] = 'N'\n",
    "\n",
    "    # Go from X_expanded to X_corrected\n",
    "    y_corrected = crf.predict(X_expanded)\n",
    "\n",
    "    error_pred = []\n",
    "\n",
    "    for i in range(len(y_corrected)):    \n",
    "        error_pred.append([])    \n",
    "        for j in range(len(y_corrected[i])):\n",
    "            if not(y_corrected[i][j]==y_train_new[i][j]):\n",
    "                error_pred[i].append(True)\n",
    "            else:\n",
    "                error_pred[i].append(False)\n",
    "\n",
    "    return measure_method(error_pred, error_train_array, X_train, y_corrected)"
   ]
  },
  {
   "cell_type": "code",
   "execution_count": 44,
   "metadata": {},
   "outputs": [
    {
     "data": {
      "text/plain": [
       "{'bias': 1.0,\n",
       " 'word.lower()': 'held',\n",
       " 'word[-3:]': 'eld',\n",
       " 'word[-2:]': 'ld',\n",
       " 'word.isupper()': False,\n",
       " 'word.istitle()': False,\n",
       " 'word.isdigit()': False,\n",
       " 'postag': 'VBN',\n",
       " 'postag[:2]': 'VB',\n",
       " '-1:word.lower()': 'referenda',\n",
       " '-1:word.istitle()': True,\n",
       " '-1:word.isupper()': False,\n",
       " '-1:postag': 'NNS',\n",
       " '-1:postag[:2]': 'NN',\n",
       " '+1:word.lower()': 'in',\n",
       " '+1:word.istitle()': False,\n",
       " '+1:word.isupper()': False,\n",
       " '+1:postag': 'IN',\n",
       " '+1:postag[:2]': 'IN',\n",
       " 'y': 'O',\n",
       " 'y-1': 'O',\n",
       " 'y-2': 'N',\n",
       " 'y+1': 'O',\n",
       " 'y+2': 'B-tim'}"
      ]
     },
     "execution_count": 44,
     "metadata": {},
     "output_type": "execute_result"
    }
   ],
   "source": [
    "X_train[0][1]"
   ]
  },
  {
   "cell_type": "markdown",
   "metadata": {},
   "source": [
    "### GTC with y, neighboring y only"
   ]
  },
  {
   "cell_type": "code",
   "execution_count": 29,
   "metadata": {},
   "outputs": [],
   "source": [
    "def gtc_with_y_neighboring_y(X_val, y_val):\n",
    "    \n",
    "    crf.fit(X_train, y_train_new)\n",
    "    y_val_pred = crf.predict(X_val)\n",
    "\n",
    "    correction_network_input = []\n",
    "\n",
    "    for i in range(len(y_val_pred)):\n",
    "        correction_network_input.append([])\n",
    "        for j in range(len(y_val_pred[i])):\n",
    "            correction_network_input[i].append(dict())\n",
    "            correction_network_input[i][j]['y'] = y_val_pred[i][j]     \n",
    "            if j >= 1:\n",
    "                correction_network_input[i][j]['y-1'] = y_val_pred[i][j-1]\n",
    "            else:\n",
    "                correction_network_input[i][j]['y-1'] = 'N'\n",
    "            if j >= 2:\n",
    "                correction_network_input[i][j]['y-2'] = y_val_pred[i][j-2]\n",
    "            else:\n",
    "                correction_network_input[i][j]['y-2'] = 'N'\n",
    "            if j < len(y_val_pred[i]) - 1:\n",
    "                correction_network_input[i][j]['y+1'] = y_val_pred[i][j+1]\n",
    "            else:\n",
    "                correction_network_input[i][j]['y+1'] = 'N'\n",
    "            if j < len(y_val_pred[i]) - 2:\n",
    "                correction_network_input[i][j]['y+2'] = y_val_pred[i][j+2]\n",
    "            else:\n",
    "                correction_network_input[i][j]['y+2'] = 'N'\n",
    "\n",
    "    crf.fit(correction_network_input, y_val)\n",
    "\n",
    "    X_expanded = []\n",
    "\n",
    "    for i in range(len(y_train_new)):\n",
    "        X_expanded.append([])\n",
    "        for j in range(len(y_train_new[i])):\n",
    "            X_expanded[i].append(dict())\n",
    "            X_expanded[i][j]['y'] = y_train_new[i][j]     \n",
    "            if j >= 1:\n",
    "                X_expanded[i][j]['y-1'] = y_train_new[i][j-1]\n",
    "            else:\n",
    "                X_expanded[i][j]['y-1'] = 'N'\n",
    "            if j >= 2:\n",
    "                X_expanded[i][j]['y-2'] = y_train_new[i][j-2]\n",
    "            else:\n",
    "                X_expanded[i][j]['y-2'] = 'N'\n",
    "            if j < len(y_train_new[i]) - 1:\n",
    "                X_expanded[i][j]['y+1'] = y_train_new[i][j+1]\n",
    "            else:\n",
    "                X_expanded[i][j]['y+1'] = 'N'\n",
    "            if j < len(y_train_new[i]) - 2:\n",
    "                X_expanded[i][j]['y+2'] = y_train_new[i][j+2]\n",
    "            else:\n",
    "                X_expanded[i][j]['y+2'] = 'N'\n",
    "\n",
    "    # Go from X_expanded to X_corrected\n",
    "    y_corrected = crf.predict(X_expanded)\n",
    "\n",
    "    error_pred = []\n",
    "\n",
    "    for i in range(len(y_corrected)):    \n",
    "        error_pred.append([])    \n",
    "        for j in range(len(y_corrected[i])):\n",
    "            if not(y_corrected[i][j]==y_train_new[i][j]):\n",
    "                error_pred[i].append(True)\n",
    "            else:\n",
    "                error_pred[i].append(False)\n",
    "\n",
    "    return measure_method(error_pred, error_train_array, X_train, y_corrected)"
   ]
  },
  {
   "cell_type": "markdown",
   "metadata": {},
   "source": [
    "### How do results change based on validation data size?"
   ]
  },
  {
   "cell_type": "code",
   "execution_count": 30,
   "metadata": {
    "scrolled": true
   },
   "outputs": [
    {
     "name": "stdout",
     "output_type": "stream",
     "text": [
      "TP errors detected: 1.0\n",
      "FP errors detected: 0.0026648809122748157\n",
      "F1 score on trained model: 0.8219957953427443\n",
      "              precision    recall  f1-score   support\n",
      "\n",
      "       B-geo       0.86      0.82      0.84      7553\n",
      "       B-gpe       0.97      0.90      0.93      3143\n",
      "       B-org       0.80      0.68      0.74      3965\n",
      "       B-per       0.86      0.81      0.83      3462\n",
      "       B-tim       0.93      0.84      0.88      4079\n",
      "       I-geo       0.82      0.71      0.76      1512\n",
      "       I-gpe       0.86      0.50      0.63        36\n",
      "       I-org       0.81      0.74      0.77      3320\n",
      "       I-per       0.82      0.90      0.86      3525\n",
      "       I-tim       0.87      0.74      0.80      1357\n",
      "           O       0.98      0.99      0.99    177102\n",
      "\n",
      "   micro avg       0.97      0.97      0.97    209054\n",
      "   macro avg       0.87      0.79      0.82    209054\n",
      "weighted avg       0.96      0.97      0.96    209054\n",
      "\n"
     ]
    },
    {
     "data": {
      "text/plain": [
       "(0.8635352973874375, 0.8227194492254734, 0.8426333988745)"
      ]
     },
     "execution_count": 30,
     "metadata": {},
     "output_type": "execute_result"
    }
   ],
   "source": [
    "gtc_with_y_neighboring_y(X_val, y_val)"
   ]
  },
  {
   "cell_type": "code",
   "execution_count": 31,
   "metadata": {
    "scrolled": true
   },
   "outputs": [
    {
     "name": "stdout",
     "output_type": "stream",
     "text": [
      "TP errors detected: 1.0\n",
      "FP errors detected: 0.01018650041183273\n"
     ]
    },
    {
     "name": "stderr",
     "output_type": "stream",
     "text": [
      "C:\\Users\\islam\\Anaconda3\\envs\\tensorflow\\lib\\site-packages\\sklearn\\metrics\\classification.py:1143: UndefinedMetricWarning: F-score is ill-defined and being set to 0.0 in labels with no predicted samples.\n",
      "  'precision', 'predicted', average, warn_for)\n"
     ]
    },
    {
     "name": "stdout",
     "output_type": "stream",
     "text": [
      "F1 score on trained model: 0.7385578893711532\n"
     ]
    },
    {
     "name": "stderr",
     "output_type": "stream",
     "text": [
      "C:\\Users\\islam\\Anaconda3\\envs\\tensorflow\\lib\\site-packages\\sklearn\\metrics\\classification.py:1143: UndefinedMetricWarning: Precision and F-score are ill-defined and being set to 0.0 in labels with no predicted samples.\n",
      "  'precision', 'predicted', average, warn_for)\n"
     ]
    },
    {
     "name": "stdout",
     "output_type": "stream",
     "text": [
      "              precision    recall  f1-score   support\n",
      "\n",
      "       B-geo       0.86      0.82      0.84      7553\n",
      "       B-gpe       0.92      0.90      0.91      3143\n",
      "       B-org       0.80      0.65      0.72      3965\n",
      "       B-per       0.86      0.67      0.76      3462\n",
      "       B-tim       0.90      0.83      0.87      4079\n",
      "       I-geo       0.82      0.71      0.76      1512\n",
      "       I-gpe       0.00      0.00      0.00        36\n",
      "       I-org       0.79      0.73      0.76      3320\n",
      "       I-per       0.84      0.88      0.86      3525\n",
      "       I-tim       0.87      0.54      0.67      1357\n",
      "           O       0.98      0.99      0.99    177102\n",
      "\n",
      "   micro avg       0.96      0.96      0.96    209054\n",
      "   macro avg       0.79      0.70      0.74    209054\n",
      "weighted avg       0.96      0.96      0.96    209054\n",
      "\n",
      "TP errors detected: 1.0\n",
      "FP errors detected: 0.00807302158718547\n",
      "F1 score on trained model: 0.7452057069599823\n",
      "              precision    recall  f1-score   support\n",
      "\n",
      "       B-geo       0.83      0.84      0.84      7553\n",
      "       B-gpe       0.97      0.89      0.93      3143\n",
      "       B-org       0.82      0.60      0.69      3965\n",
      "       B-per       0.83      0.79      0.81      3462\n",
      "       B-tim       0.89      0.83      0.86      4079\n",
      "       I-geo       0.81      0.73      0.77      1512\n",
      "       I-gpe       0.00      0.00      0.00        36\n",
      "       I-org       0.81      0.73      0.77      3320\n",
      "       I-per       0.82      0.89      0.86      3525\n",
      "       I-tim       0.89      0.57      0.69      1357\n",
      "           O       0.98      0.99      0.99    177102\n",
      "\n",
      "   micro avg       0.96      0.96      0.96    209054\n",
      "   macro avg       0.79      0.71      0.75    209054\n",
      "weighted avg       0.96      0.96      0.96    209054\n",
      "\n",
      "TP errors detected: 1.0\n",
      "FP errors detected: 0.00831503347601951\n",
      "F1 score on trained model: 0.7538277973878196\n",
      "              precision    recall  f1-score   support\n",
      "\n",
      "       B-geo       0.85      0.84      0.84      7553\n",
      "       B-gpe       0.96      0.91      0.93      3143\n",
      "       B-org       0.81      0.62      0.70      3965\n",
      "       B-per       0.85      0.79      0.82      3462\n",
      "       B-tim       0.92      0.84      0.88      4079\n",
      "       I-geo       0.82      0.72      0.77      1512\n",
      "       I-gpe       0.00      0.00      0.00        36\n",
      "       I-org       0.79      0.68      0.73      3320\n",
      "       I-per       0.82      0.90      0.86      3525\n",
      "       I-tim       0.86      0.69      0.76      1357\n",
      "           O       0.98      0.99      0.99    177102\n",
      "\n",
      "   micro avg       0.96      0.96      0.96    209054\n",
      "   macro avg       0.79      0.73      0.75    209054\n",
      "weighted avg       0.96      0.96      0.96    209054\n",
      "\n",
      "TP errors detected: 1.0\n",
      "FP errors detected: 0.006278558434183079\n",
      "F1 score on trained model: 0.7492722502589264\n",
      "              precision    recall  f1-score   support\n",
      "\n",
      "       B-geo       0.85      0.83      0.84      7553\n",
      "       B-gpe       0.96      0.91      0.93      3143\n",
      "       B-org       0.80      0.64      0.71      3965\n",
      "       B-per       0.85      0.80      0.83      3462\n",
      "       B-tim       0.92      0.83      0.87      4079\n",
      "       I-geo       0.83      0.71      0.76      1512\n",
      "       I-gpe       0.00      0.00      0.00        36\n",
      "       I-org       0.77      0.74      0.75      3320\n",
      "       I-per       0.83      0.89      0.86      3525\n",
      "       I-tim       0.88      0.58      0.70      1357\n",
      "           O       0.98      0.99      0.99    177102\n",
      "\n",
      "   micro avg       0.96      0.96      0.96    209054\n",
      "   macro avg       0.79      0.72      0.75    209054\n",
      "weighted avg       0.96      0.96      0.96    209054\n",
      "\n",
      "TP errors detected: 1.0\n",
      "FP errors detected: 0.003311162660865715\n",
      "F1 score on trained model: 0.8112127350980797\n",
      "              precision    recall  f1-score   support\n",
      "\n",
      "       B-geo       0.86      0.83      0.85      7553\n",
      "       B-gpe       0.96      0.91      0.94      3143\n",
      "       B-org       0.80      0.68      0.74      3965\n",
      "       B-per       0.86      0.80      0.83      3462\n",
      "       B-tim       0.93      0.84      0.88      4079\n",
      "       I-geo       0.80      0.73      0.76      1512\n",
      "       I-gpe       1.00      0.36      0.53        36\n",
      "       I-org       0.79      0.74      0.77      3320\n",
      "       I-per       0.84      0.89      0.86      3525\n",
      "       I-tim       0.87      0.71      0.78      1357\n",
      "           O       0.98      0.99      0.99    177102\n",
      "\n",
      "   micro avg       0.97      0.97      0.97    209054\n",
      "   macro avg       0.88      0.77      0.81    209054\n",
      "weighted avg       0.96      0.97      0.96    209054\n",
      "\n",
      "TP errors detected: 1.0\n",
      "FP errors detected: 0.0028491399640007313\n",
      "F1 score on trained model: 0.8234132283845716\n",
      "              precision    recall  f1-score   support\n",
      "\n",
      "       B-geo       0.86      0.83      0.84      7553\n",
      "       B-gpe       0.97      0.91      0.94      3143\n",
      "       B-org       0.79      0.69      0.74      3965\n",
      "       B-per       0.85      0.80      0.83      3462\n",
      "       B-tim       0.93      0.84      0.88      4079\n",
      "       I-geo       0.82      0.73      0.77      1512\n",
      "       I-gpe       1.00      0.47      0.64        36\n",
      "       I-org       0.79      0.75      0.77      3320\n",
      "       I-per       0.84      0.89      0.86      3525\n",
      "       I-tim       0.86      0.75      0.80      1357\n",
      "           O       0.98      0.99      0.99    177102\n",
      "\n",
      "   micro avg       0.97      0.97      0.97    209054\n",
      "   macro avg       0.88      0.79      0.82    209054\n",
      "weighted avg       0.96      0.97      0.96    209054\n",
      "\n",
      "TP errors detected: 1.0\n",
      "FP errors detected: 0.0025342494950064422\n",
      "F1 score on trained model: 0.8197882427234645\n",
      "              precision    recall  f1-score   support\n",
      "\n",
      "       B-geo       0.86      0.82      0.84      7553\n",
      "       B-gpe       0.97      0.91      0.93      3143\n",
      "       B-org       0.80      0.68      0.74      3965\n",
      "       B-per       0.85      0.80      0.83      3462\n",
      "       B-tim       0.93      0.84      0.88      4079\n",
      "       I-geo       0.82      0.72      0.77      1512\n",
      "       I-gpe       0.85      0.47      0.61        36\n",
      "       I-org       0.79      0.74      0.77      3320\n",
      "       I-per       0.84      0.88      0.86      3525\n",
      "       I-tim       0.88      0.74      0.80      1357\n",
      "           O       0.98      0.99      0.99    177102\n",
      "\n",
      "   micro avg       0.97      0.97      0.97    209054\n",
      "   macro avg       0.87      0.78      0.82    209054\n",
      "weighted avg       0.96      0.97      0.96    209054\n",
      "\n",
      "TP errors detected: 1.0\n",
      "FP errors detected: 0.0026786315877767495\n",
      "F1 score on trained model: 0.819619242490526\n",
      "              precision    recall  f1-score   support\n",
      "\n",
      "       B-geo       0.86      0.82      0.84      7553\n",
      "       B-gpe       0.97      0.90      0.94      3143\n",
      "       B-org       0.81      0.68      0.74      3965\n",
      "       B-per       0.85      0.80      0.83      3462\n",
      "       B-tim       0.93      0.84      0.88      4079\n",
      "       I-geo       0.82      0.71      0.76      1512\n",
      "       I-gpe       0.85      0.47      0.61        36\n",
      "       I-org       0.81      0.73      0.77      3320\n",
      "       I-per       0.82      0.90      0.86      3525\n",
      "       I-tim       0.87      0.75      0.80      1357\n",
      "           O       0.98      0.99      0.99    177102\n",
      "\n",
      "   micro avg       0.97      0.97      0.97    209054\n",
      "   macro avg       0.87      0.78      0.82    209054\n",
      "weighted avg       0.96      0.97      0.96    209054\n",
      "\n"
     ]
    }
   ],
   "source": [
    "yny_tps = []\n",
    "yny_fps = []\n",
    "yny_f1s = []\n",
    "\n",
    "ns = [25, 50, 100, 200, 400, 800, 1300, 1900]\n",
    "\n",
    "for n in ns:\n",
    "    X_val_ = X_val[:n]\n",
    "    y_val_ = y_val[:n]\n",
    "    tp, fp, f1 = gtc_with_y_neighboring_y(X_val_, y_val_)\n",
    "    yny_tps.append(tp)\n",
    "    yny_fps.append(fp)\n",
    "    yny_f1s.append(f1)"
   ]
  },
  {
   "cell_type": "code",
   "execution_count": 32,
   "metadata": {},
   "outputs": [
    {
     "name": "stdout",
     "output_type": "stream",
     "text": [
      "TP errors detected: 0.9475895746976322\n",
      "FP errors detected: 0.02222659188132617\n",
      "F1 score on trained model: 0.34637508722899873\n",
      "              precision    recall  f1-score   support\n",
      "\n",
      "       B-geo       0.56      0.79      0.65      7553\n",
      "       B-gpe       0.39      0.60      0.48      3143\n",
      "       B-org       0.60      0.03      0.06      3965\n",
      "       B-per       0.36      0.72      0.48      3462\n",
      "       B-tim       0.31      0.49      0.38      4079\n",
      "       I-geo       0.21      0.30      0.25      1512\n",
      "       I-gpe       0.00      0.00      0.00        36\n",
      "       I-org       0.93      0.00      0.01      3320\n",
      "       I-per       0.39      0.89      0.54      3525\n",
      "       I-tim       0.01      0.03      0.02      1357\n",
      "           O       0.97      0.92      0.94    177102\n",
      "\n",
      "   micro avg       0.85      0.85      0.85    209054\n",
      "   macro avg       0.43      0.43      0.35    209054\n",
      "weighted avg       0.90      0.85      0.86    209054\n",
      "\n",
      "TP errors detected: 0.9393844756118335\n",
      "FP errors detected: 0.03385691322086198\n",
      "F1 score on trained model: 0.4742986553054685\n",
      "              precision    recall  f1-score   support\n",
      "\n",
      "       B-geo       0.57      0.83      0.68      7553\n",
      "       B-gpe       0.58      0.78      0.67      3143\n",
      "       B-org       0.57      0.27      0.36      3965\n",
      "       B-per       0.56      0.62      0.59      3462\n",
      "       B-tim       0.58      0.43      0.49      4079\n",
      "       I-geo       0.53      0.33      0.40      1512\n",
      "       I-gpe       0.00      0.00      0.00        36\n",
      "       I-org       0.39      0.40      0.39      3320\n",
      "       I-per       0.56      0.76      0.64      3525\n",
      "       I-tim       0.02      0.01      0.02      1357\n",
      "           O       0.98      0.97      0.97    177102\n",
      "\n",
      "   micro avg       0.91      0.91      0.91    209054\n",
      "   macro avg       0.49      0.49      0.47    209054\n",
      "weighted avg       0.91      0.91      0.90    209054\n",
      "\n",
      "TP errors detected: 0.9369428198285162\n",
      "FP errors detected: 0.0368944374392392\n",
      "F1 score on trained model: 0.5375763571507369\n",
      "              precision    recall  f1-score   support\n",
      "\n",
      "       B-geo       0.60      0.83      0.70      7553\n",
      "       B-gpe       0.76      0.74      0.75      3143\n",
      "       B-org       0.57      0.38      0.46      3965\n",
      "       B-per       0.65      0.63      0.64      3462\n",
      "       B-tim       0.78      0.50      0.61      4079\n",
      "       I-geo       0.42      0.45      0.44      1512\n",
      "       I-gpe       0.00      0.00      0.00        36\n",
      "       I-org       0.48      0.46      0.47      3320\n",
      "       I-per       0.53      0.82      0.65      3525\n",
      "       I-tim       0.28      0.18      0.22      1357\n",
      "           O       0.98      0.97      0.98    177102\n",
      "\n",
      "   micro avg       0.92      0.92      0.92    209054\n",
      "   macro avg       0.55      0.54      0.54    209054\n",
      "weighted avg       0.92      0.92      0.92    209054\n",
      "\n",
      "TP errors detected: 0.9413718698540685\n",
      "FP errors detected: 0.03465170226487376\n",
      "F1 score on trained model: 0.5828682786668334\n",
      "              precision    recall  f1-score   support\n",
      "\n",
      "       B-geo       0.62      0.89      0.73      7553\n",
      "       B-gpe       0.75      0.79      0.77      3143\n",
      "       B-org       0.66      0.39      0.49      3965\n",
      "       B-per       0.72      0.61      0.66      3462\n",
      "       B-tim       0.82      0.60      0.69      4079\n",
      "       I-geo       0.42      0.67      0.51      1512\n",
      "       I-gpe       0.00      0.00      0.00        36\n",
      "       I-org       0.44      0.53      0.48      3320\n",
      "       I-per       0.72      0.73      0.73      3525\n",
      "       I-tim       0.56      0.28      0.38      1357\n",
      "           O       0.98      0.98      0.98    177102\n",
      "\n",
      "   micro avg       0.93      0.93      0.93    209054\n",
      "   macro avg       0.61      0.59      0.58    209054\n",
      "weighted avg       0.93      0.93      0.93    209054\n",
      "\n",
      "TP errors detected: 0.9442819828516268\n",
      "FP errors detected: 0.03674455507626812\n",
      "F1 score on trained model: 0.6307039496400106\n",
      "              precision    recall  f1-score   support\n",
      "\n",
      "       B-geo       0.65      0.87      0.75      7553\n",
      "       B-gpe       0.79      0.81      0.80      3143\n",
      "       B-org       0.73      0.48      0.58      3965\n",
      "       B-per       0.63      0.66      0.64      3462\n",
      "       B-tim       0.81      0.67      0.73      4079\n",
      "       I-geo       0.44      0.69      0.54      1512\n",
      "       I-gpe       1.00      0.11      0.20        36\n",
      "       I-org       0.57      0.51      0.54      3320\n",
      "       I-per       0.64      0.86      0.73      3525\n",
      "       I-tim       0.56      0.38      0.45      1357\n",
      "           O       0.99      0.97      0.98    177102\n",
      "\n",
      "   micro avg       0.93      0.93      0.93    209054\n",
      "   macro avg       0.71      0.64      0.63    209054\n",
      "weighted avg       0.94      0.93      0.93    209054\n",
      "\n",
      "TP errors detected: 0.94641133382545\n",
      "FP errors detected: 0.0353942387419782\n",
      "F1 score on trained model: 0.68345292595619\n",
      "              precision    recall  f1-score   support\n",
      "\n",
      "       B-geo       0.70      0.88      0.78      7553\n",
      "       B-gpe       0.82      0.85      0.84      3143\n",
      "       B-org       0.70      0.56      0.62      3965\n",
      "       B-per       0.74      0.68      0.71      3462\n",
      "       B-tim       0.82      0.75      0.78      4079\n",
      "       I-geo       0.48      0.77      0.59      1512\n",
      "       I-gpe       1.00      0.19      0.33        36\n",
      "       I-org       0.52      0.64      0.58      3320\n",
      "       I-per       0.78      0.78      0.78      3525\n",
      "       I-tim       0.51      0.55      0.53      1357\n",
      "           O       0.99      0.98      0.98    177102\n",
      "\n",
      "   micro avg       0.94      0.94      0.94    209054\n",
      "   macro avg       0.73      0.69      0.68    209054\n",
      "weighted avg       0.95      0.94      0.94    209054\n",
      "\n",
      "TP errors detected: 0.9487252285503378\n",
      "FP errors detected: 0.0374980920937741\n",
      "F1 score on trained model: 0.6924066576849143\n",
      "              precision    recall  f1-score   support\n",
      "\n",
      "       B-geo       0.71      0.89      0.79      7553\n",
      "       B-gpe       0.77      0.89      0.82      3143\n",
      "       B-org       0.74      0.53      0.62      3965\n",
      "       B-per       0.71      0.72      0.71      3462\n",
      "       B-tim       0.83      0.79      0.81      4079\n",
      "       I-geo       0.50      0.80      0.61      1512\n",
      "       I-gpe       1.00      0.17      0.29        36\n",
      "       I-org       0.63      0.58      0.60      3320\n",
      "       I-per       0.73      0.86      0.79      3525\n",
      "       I-tim       0.59      0.59      0.59      1357\n",
      "           O       0.99      0.98      0.98    177102\n",
      "\n",
      "   micro avg       0.94      0.94      0.94    209054\n",
      "   macro avg       0.74      0.71      0.69    209054\n",
      "weighted avg       0.95      0.94      0.94    209054\n",
      "\n",
      "TP errors detected: 0.9470359434444381\n",
      "FP errors detected: 0.03497484313916921\n",
      "F1 score on trained model: 0.6798641890368231\n",
      "              precision    recall  f1-score   support\n",
      "\n",
      "       B-geo       0.71      0.91      0.80      7553\n",
      "       B-gpe       0.76      0.90      0.82      3143\n",
      "       B-org       0.77      0.53      0.63      3965\n",
      "       B-per       0.76      0.69      0.72      3462\n",
      "       B-tim       0.81      0.82      0.82      4079\n",
      "       I-geo       0.51      0.81      0.63      1512\n",
      "       I-gpe       1.00      0.08      0.15        36\n",
      "       I-org       0.67      0.59      0.63      3320\n",
      "       I-per       0.73      0.85      0.78      3525\n",
      "       I-tim       0.41      0.68      0.51      1357\n",
      "           O       0.99      0.97      0.98    177102\n",
      "\n",
      "   micro avg       0.94      0.94      0.94    209054\n",
      "   macro avg       0.74      0.71      0.68    209054\n",
      "weighted avg       0.95      0.94      0.94    209054\n",
      "\n"
     ]
    }
   ],
   "source": [
    "xny_tps = []\n",
    "xny_fps = []\n",
    "xny_f1s = []\n",
    "\n",
    "for n in ns:\n",
    "    X_val_ = X_val[:n]\n",
    "    y_val_ = y_val[:n]\n",
    "    tp, fp, f1 = gtc_with_x_y_neighboring_y(X_val_, y_val_)\n",
    "    xny_tps.append(tp)\n",
    "    xny_fps.append(fp)\n",
    "    xny_f1s.append(f1)"
   ]
  },
  {
   "cell_type": "code",
   "execution_count": 33,
   "metadata": {
    "scrolled": true
   },
   "outputs": [
    {
     "name": "stdout",
     "output_type": "stream",
     "text": [
      "TP errors detected: 0.9475895746976322\n",
      "FP errors detected: 0.02222659188132617\n",
      "F1 score on trained model: 0.34637508722899873\n",
      "              precision    recall  f1-score   support\n",
      "\n",
      "       B-geo       0.56      0.79      0.65      7553\n",
      "       B-gpe       0.39      0.60      0.48      3143\n",
      "       B-org       0.60      0.03      0.06      3965\n",
      "       B-per       0.36      0.72      0.48      3462\n",
      "       B-tim       0.31      0.49      0.38      4079\n",
      "       I-geo       0.21      0.30      0.25      1512\n",
      "       I-gpe       0.00      0.00      0.00        36\n",
      "       I-org       0.93      0.00      0.01      3320\n",
      "       I-per       0.39      0.89      0.54      3525\n",
      "       I-tim       0.01      0.03      0.02      1357\n",
      "           O       0.97      0.92      0.94    177102\n",
      "\n",
      "   micro avg       0.85      0.85      0.85    209054\n",
      "   macro avg       0.43      0.43      0.35    209054\n",
      "weighted avg       0.90      0.85      0.86    209054\n",
      "\n",
      "TP errors detected: 0.9393844756118335\n",
      "FP errors detected: 0.03385691322086198\n",
      "F1 score on trained model: 0.4742986553054685\n",
      "              precision    recall  f1-score   support\n",
      "\n",
      "       B-geo       0.57      0.83      0.68      7553\n",
      "       B-gpe       0.58      0.78      0.67      3143\n",
      "       B-org       0.57      0.27      0.36      3965\n",
      "       B-per       0.56      0.62      0.59      3462\n",
      "       B-tim       0.58      0.43      0.49      4079\n",
      "       I-geo       0.53      0.33      0.40      1512\n",
      "       I-gpe       0.00      0.00      0.00        36\n",
      "       I-org       0.39      0.40      0.39      3320\n",
      "       I-per       0.56      0.76      0.64      3525\n",
      "       I-tim       0.02      0.01      0.02      1357\n",
      "           O       0.98      0.97      0.97    177102\n",
      "\n",
      "   micro avg       0.91      0.91      0.91    209054\n",
      "   macro avg       0.49      0.49      0.47    209054\n",
      "weighted avg       0.91      0.91      0.90    209054\n",
      "\n",
      "TP errors detected: 0.9369428198285162\n",
      "FP errors detected: 0.0368944374392392\n",
      "F1 score on trained model: 0.5375763571507369\n",
      "              precision    recall  f1-score   support\n",
      "\n",
      "       B-geo       0.60      0.83      0.70      7553\n",
      "       B-gpe       0.76      0.74      0.75      3143\n",
      "       B-org       0.57      0.38      0.46      3965\n",
      "       B-per       0.65      0.63      0.64      3462\n",
      "       B-tim       0.78      0.50      0.61      4079\n",
      "       I-geo       0.42      0.45      0.44      1512\n",
      "       I-gpe       0.00      0.00      0.00        36\n",
      "       I-org       0.48      0.46      0.47      3320\n",
      "       I-per       0.53      0.82      0.65      3525\n",
      "       I-tim       0.28      0.18      0.22      1357\n",
      "           O       0.98      0.97      0.98    177102\n",
      "\n",
      "   micro avg       0.92      0.92      0.92    209054\n",
      "   macro avg       0.55      0.54      0.54    209054\n",
      "weighted avg       0.92      0.92      0.92    209054\n",
      "\n",
      "TP errors detected: 0.9413718698540685\n",
      "FP errors detected: 0.03465170226487376\n",
      "F1 score on trained model: 0.5828682786668334\n",
      "              precision    recall  f1-score   support\n",
      "\n",
      "       B-geo       0.62      0.89      0.73      7553\n",
      "       B-gpe       0.75      0.79      0.77      3143\n",
      "       B-org       0.66      0.39      0.49      3965\n",
      "       B-per       0.72      0.61      0.66      3462\n",
      "       B-tim       0.82      0.60      0.69      4079\n",
      "       I-geo       0.42      0.67      0.51      1512\n",
      "       I-gpe       0.00      0.00      0.00        36\n",
      "       I-org       0.44      0.53      0.48      3320\n",
      "       I-per       0.72      0.73      0.73      3525\n",
      "       I-tim       0.56      0.28      0.38      1357\n",
      "           O       0.98      0.98      0.98    177102\n",
      "\n",
      "   micro avg       0.93      0.93      0.93    209054\n",
      "   macro avg       0.61      0.59      0.58    209054\n",
      "weighted avg       0.93      0.93      0.93    209054\n",
      "\n",
      "TP errors detected: 0.9442819828516268\n",
      "FP errors detected: 0.03674455507626812\n",
      "F1 score on trained model: 0.6307039496400106\n",
      "              precision    recall  f1-score   support\n",
      "\n",
      "       B-geo       0.65      0.87      0.75      7553\n",
      "       B-gpe       0.79      0.81      0.80      3143\n",
      "       B-org       0.73      0.48      0.58      3965\n",
      "       B-per       0.63      0.66      0.64      3462\n",
      "       B-tim       0.81      0.67      0.73      4079\n",
      "       I-geo       0.44      0.69      0.54      1512\n",
      "       I-gpe       1.00      0.11      0.20        36\n",
      "       I-org       0.57      0.51      0.54      3320\n",
      "       I-per       0.64      0.86      0.73      3525\n",
      "       I-tim       0.56      0.38      0.45      1357\n",
      "           O       0.99      0.97      0.98    177102\n",
      "\n",
      "   micro avg       0.93      0.93      0.93    209054\n",
      "   macro avg       0.71      0.64      0.63    209054\n",
      "weighted avg       0.94      0.93      0.93    209054\n",
      "\n",
      "TP errors detected: 0.94641133382545\n",
      "FP errors detected: 0.0353942387419782\n",
      "F1 score on trained model: 0.68345292595619\n",
      "              precision    recall  f1-score   support\n",
      "\n",
      "       B-geo       0.70      0.88      0.78      7553\n",
      "       B-gpe       0.82      0.85      0.84      3143\n",
      "       B-org       0.70      0.56      0.62      3965\n",
      "       B-per       0.74      0.68      0.71      3462\n",
      "       B-tim       0.82      0.75      0.78      4079\n",
      "       I-geo       0.48      0.77      0.59      1512\n",
      "       I-gpe       1.00      0.19      0.33        36\n",
      "       I-org       0.52      0.64      0.58      3320\n",
      "       I-per       0.78      0.78      0.78      3525\n",
      "       I-tim       0.51      0.55      0.53      1357\n",
      "           O       0.99      0.98      0.98    177102\n",
      "\n",
      "   micro avg       0.94      0.94      0.94    209054\n",
      "   macro avg       0.73      0.69      0.68    209054\n",
      "weighted avg       0.95      0.94      0.94    209054\n",
      "\n",
      "TP errors detected: 0.9487252285503378\n",
      "FP errors detected: 0.0374980920937741\n",
      "F1 score on trained model: 0.6924066576849143\n",
      "              precision    recall  f1-score   support\n",
      "\n",
      "       B-geo       0.71      0.89      0.79      7553\n",
      "       B-gpe       0.77      0.89      0.82      3143\n",
      "       B-org       0.74      0.53      0.62      3965\n",
      "       B-per       0.71      0.72      0.71      3462\n",
      "       B-tim       0.83      0.79      0.81      4079\n",
      "       I-geo       0.50      0.80      0.61      1512\n",
      "       I-gpe       1.00      0.17      0.29        36\n",
      "       I-org       0.63      0.58      0.60      3320\n",
      "       I-per       0.73      0.86      0.79      3525\n",
      "       I-tim       0.59      0.59      0.59      1357\n",
      "           O       0.99      0.98      0.98    177102\n",
      "\n",
      "   micro avg       0.94      0.94      0.94    209054\n",
      "   macro avg       0.74      0.71      0.69    209054\n",
      "weighted avg       0.95      0.94      0.94    209054\n",
      "\n",
      "TP errors detected: 0.9470359434444381\n",
      "FP errors detected: 0.03497484313916921\n",
      "F1 score on trained model: 0.6798641890368231\n",
      "              precision    recall  f1-score   support\n",
      "\n",
      "       B-geo       0.71      0.91      0.80      7553\n",
      "       B-gpe       0.76      0.90      0.82      3143\n",
      "       B-org       0.77      0.53      0.63      3965\n",
      "       B-per       0.76      0.69      0.72      3462\n",
      "       B-tim       0.81      0.82      0.82      4079\n",
      "       I-geo       0.51      0.81      0.63      1512\n",
      "       I-gpe       1.00      0.08      0.15        36\n",
      "       I-org       0.67      0.59      0.63      3320\n",
      "       I-per       0.73      0.85      0.78      3525\n",
      "       I-tim       0.41      0.68      0.51      1357\n",
      "           O       0.99      0.97      0.98    177102\n",
      "\n",
      "   micro avg       0.94      0.94      0.94    209054\n",
      "   macro avg       0.74      0.71      0.68    209054\n",
      "weighted avg       0.95      0.94      0.94    209054\n",
      "\n"
     ]
    }
   ],
   "source": [
    "val_tps = []\n",
    "val_fps = []\n",
    "val_f1s = []\n",
    "\n",
    "for n in ns:\n",
    "    X_val_ = X_val[:n]\n",
    "    y_val_ = y_val[:n]\n",
    "    tp, fp, f1 = pseudolabeled_on_validation(X_val_, y_val_)\n",
    "    val_tps.append(tp)\n",
    "    val_fps.append(fp)\n",
    "    val_f1s.append(f1)"
   ]
  },
  {
   "cell_type": "code",
   "execution_count": 34,
   "metadata": {},
   "outputs": [
    {
     "data": {
      "text/plain": [
       "Text(0, 0.5, 'Model performance (F1 score)')"
      ]
     },
     "execution_count": 34,
     "metadata": {},
     "output_type": "execute_result"
    },
    {
     "data": {
      "image/png": "[encoded data removed]",
      "text/plain": [
       "<Figure size 432x288 with 1 Axes>"
      ]
     },
     "metadata": {
      "needs_background": "light"
     },
     "output_type": "display_data"
    }
   ],
   "source": [
    "plt.semilogx(ns, yny_f1s, '-o', label='ECN with Markov Blanket')\n",
    "plt.semilogx(ns, val_f1s, '-o', label='Pseudolabel')\n",
    "plt.semilogx(ns, [dirty_f1]*len(ns), 'k--', label='Only corrupted training dataset')\n",
    "plt.semilogx(ns, [clean_f1]*len(ns), 'k-', label='Clean training dataset (ideal)')\n",
    "plt.legend()\n",
    "plt.xlabel('Validation Dataset Size')\n",
    "plt.ylabel('Model performance (F1 score)')"
   ]
  },
  {
   "cell_type": "code",
   "execution_count": 36,
   "metadata": {},
   "outputs": [
    {
     "data": {
      "text/plain": [
       "Text(0, 0.5, 'Model performance (F1 score)')"
      ]
     },
     "execution_count": 36,
     "metadata": {},
     "output_type": "execute_result"
    },
    {
     "data": {
      "image/png": "[encoded data removed]",
      "text/plain": [
       "<Figure size 432x288 with 1 Axes>"
      ]
     },
     "metadata": {
      "needs_background": "light"
     },
     "output_type": "display_data"
    }
   ],
   "source": [
    "plt.semilogx(ns, yny_f1s, '-o', label='ECN with Markov Blanket')\n",
    "plt.semilogx(ns, val_f1s, '-o', label='Pseudolabel')\n",
    "plt.semilogx(ns, [dirty_f1]*len(ns), 'k--', label='Only corrupted training dataset')\n",
    "plt.semilogx(ns, [clean_f1]*len(ns), 'k-', label='Clean training dataset (ideal)')\n",
    "plt.legend()\n",
    "plt.xlabel('Validation Dataset Size')\n",
    "plt.ylabel('Model performance (F1 score)')"
   ]
  },
  {
   "cell_type": "code",
   "execution_count": 41,
   "metadata": {},
   "outputs": [
    {
     "data": {
      "text/plain": [
       "Text(0.5, 1.0, 'Precision')"
      ]
     },
     "execution_count": 41,
     "metadata": {},
     "output_type": "execute_result"
    },
    {
     "data": {
      "image/png": "[encoded data removed]",
      "text/plain": [
       "<Figure size 432x288 with 1 Axes>"
      ]
     },
     "metadata": {
      "needs_background": "light"
     },
     "output_type": "display_data"
    }
   ],
   "source": [
    "plt.semilogx(ns, yny_tps, '-o', label='ECN with Markov Blanket')\n",
    "plt.semilogx(ns, val_tps, '-o', label='Pseudolabel')\n",
    "plt.semilogx(ns, [dirty_precision]*len(ns), 'k--', label='Only corrupted training dataset')\n",
    "plt.semilogx(ns, [clean_precision]*len(ns), 'k-', label='Clean training dataset (ideal)')\n",
    "plt.legend()\n",
    "plt.xlabel('Validation Dataset Size')\n",
    "plt.ylabel('Model performance (F1 score)')\n",
    "plt.title('Precision')"
   ]
  },
  {
   "cell_type": "code",
   "execution_count": 43,
   "metadata": {},
   "outputs": [
    {
     "data": {
      "text/plain": [
       "Text(0.5, 1.0, 'Recall')"
      ]
     },
     "execution_count": 43,
     "metadata": {},
     "output_type": "execute_result"
    },
    {
     "data": {
      "image/png": "[encoded data removed]",
      "text/plain": [
       "<Figure size 432x288 with 1 Axes>"
      ]
     },
     "metadata": {
      "needs_background": "light"
     },
     "output_type": "display_data"
    }
   ],
   "source": [
    "plt.semilogx(ns, yny_fps, '-o', label='ECN with Markov Blanket')\n",
    "plt.semilogx(ns, val_fps, '-o', label='Pseudolabel')\n",
    "plt.semilogx(ns, [dirty_recall]*len(ns), 'k--', label='Only corrupted training dataset')\n",
    "plt.semilogx(ns, [clean_recall]*len(ns), 'k-', label='Clean training dataset (ideal)')\n",
    "plt.legend()\n",
    "plt.xlabel('Validation Dataset Size')\n",
    "plt.ylabel('Model performance (F1 score)')\n",
    "plt.title('Recall')"
   ]
  }
 ],
 "metadata": {
  "kernelspec": {
   "display_name": "Python 3.6 (tensorflow)",
   "language": "python",
   "name": "tensorflow"
  },
  "language_info": {
   "codemirror_mode": {
    "name": "ipython",
    "version": 3
   },
   "file_extension": ".py",
   "mimetype": "text/x-python",
   "name": "python",
   "nbconvert_exporter": "python",
   "pygments_lexer": "ipython3",
   "version": "3.6.7"
  }
 },
 "nbformat": 4,
 "nbformat_minor": 2
}
