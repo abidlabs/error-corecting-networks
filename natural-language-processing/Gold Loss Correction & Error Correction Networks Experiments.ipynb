{
 "cells": [
  {
   "cell_type": "markdown",
   "metadata": {},
   "source": [
    "The experiments in this notebook are taken from the paper \"[Using Trusted Data to Train Deep Networks on\n",
    "Labels Corrupted by Severe Noise](https://arxiv.org/pdf/1802.05300.pdf)\" from Berkeley published in *NIPS 2018*. "
   ]
  },
  {
   "cell_type": "markdown",
   "metadata": {},
   "source": [
    "The idea is quite simple actually: they simply train a model on the untrusted data, and they look at the predictions on a small amount of trusted data to estimate the \"confusion matrix\" between the model's predictions and the correct labels. Then, they train a \"corrected classifier\" by applying the transpose of the confusion matrix to the labels in the untrusted dataset and train on these labels instead."
   ]
  },
  {
   "cell_type": "markdown",
   "metadata": {},
   "source": [
    "It's pretty intuitive, but let's follow the derivation to understand exaclty what assumption they're making. They'd like to be able to infer $p(\\tilde{y} | y)$.\n",
    "\n",
    "The claim is that \n",
    "$$p(\\tilde{y} | y) = p(\\tilde{y} | y) \\int{p(x | \\tilde{y}, y)} dx$$\n",
    "$$ =  \\int{p(\\tilde{y} | y, x)p(x |  y)} dx$$\n",
    "$$ =  \\int{p(\\tilde{y} | x)p(x |  y)} dx$$"
   ]
  },
  {
   "cell_type": "markdown",
   "metadata": {},
   "source": [
    "The big potential assumption is in the last line, where they assume that $\\tilde{y}$ and $y$ are conditionally independent given $x$."
   ]
  },
  {
   "cell_type": "markdown",
   "metadata": {},
   "source": [
    "Then, they estimate the integral by simply taking the expectation over all of $x$'s in the trusted dataset where the label is a given value. Let's see how well this actually works and run an experiment from their method."
   ]
  },
  {
   "cell_type": "code",
   "execution_count": 10,
   "metadata": {},
   "outputs": [],
   "source": [
    "import pandas as pd\n",
    "import numpy as np\n",
    "import matplotlib.pyplot as plt\n",
    "import tensorflow as tf\n",
    "import sklearn\n",
    "%matplotlib inline"
   ]
  },
  {
   "cell_type": "code",
   "execution_count": 85,
   "metadata": {},
   "outputs": [
    {
     "data": {
      "text/plain": [
       "<matplotlib.image.AxesImage at 0x21901291b70>"
      ]
     },
     "execution_count": 85,
     "metadata": {},
     "output_type": "execute_result"
    },
    {
     "data": {
      "image/png": "[encoded data removed]",
      "text/plain": [
       "<Figure size 432x288 with 1 Axes>"
      ]
     },
     "metadata": {
      "needs_background": "light"
     },
     "output_type": "display_data"
    }
   ],
   "source": [
    "# Show one of the images from the training dataset\n",
    "(x_train, y_train), (x_test, y_test) = tf.keras.datasets.mnist.load_data()\n",
    "x_train = x_train.astype('float32').reshape(-1, 28, 28, 1) / 255\n",
    "x_test = x_test.astype('float32').reshape(-1, 28, 28, 1) / 255\n",
    "\n",
    "encoder = sklearn.preprocessing.OneHotEncoder(categories='auto')\n",
    "y_train = encoder.fit_transform(y_train.reshape(-1, 1)).toarray()\n",
    "y_test = encoder.fit_transform(y_test.reshape(-1, 1)).toarray()\n",
    "\n",
    "plt.imshow(x_train[0].reshape(28, 28), cmap='gray')"
   ]
  },
  {
   "cell_type": "markdown",
   "metadata": {},
   "source": [
    "### Create Trusted and Untrusted Datasets"
   ]
  },
  {
   "cell_type": "code",
   "execution_count": 148,
   "metadata": {},
   "outputs": [
    {
     "name": "stdout",
     "output_type": "stream",
     "text": [
      "Untrusted Training: (57000, 28, 28, 1)\n",
      "Trusted Training: (600, 28, 28, 1)\n",
      "Test: (10000, 28, 28, 1)\n"
     ]
    }
   ],
   "source": [
    "n_trust = int(0.01 * 60000)\n",
    "x_trust = x_train[:n_trust]\n",
    "y_trust = y_train[:n_trust]\n",
    "\n",
    "flip_frac = 0.6\n",
    "# confusion = (1-flip_frac)*np.eye(10) + flip_frac*np.ones((10, 10))/10\n",
    "confusion = np.zeros((10, 10))\n",
    "offset = np.random.randint(1, 10)\n",
    "\n",
    "for i in range(10):\n",
    "    new_label = (i + offset) % 10\n",
    "    confusion[i, new_label] = flip_frac\n",
    "    confusion[i, i] = 1 - flip_frac\n",
    "\n",
    "x_train = x_train[n_trust:]\n",
    "y_train = y_train[n_trust:]\n",
    "y_train_corrupted = np.zeros_like(y_train)\n",
    "\n",
    "for i in range(y_train.shape[0]):\n",
    "    current_label = y_train[i].argmax()\n",
    "    new_label = np.random.choice(10, p=confusion[current_label])\n",
    "    y_train_corrupted[i, new_label] = 1\n",
    "\n",
    "print('Untrusted Training:', x_train.shape)\n",
    "print('Trusted Training:', x_trust.shape)\n",
    "print('Test:', x_test.shape)"
   ]
  },
  {
   "cell_type": "code",
   "execution_count": 149,
   "metadata": {},
   "outputs": [
    {
     "data": {
      "text/plain": [
       "array([[0.4, 0. , 0. , 0. , 0.6, 0. , 0. , 0. , 0. , 0. ],\n",
       "       [0. , 0.4, 0. , 0. , 0. , 0.6, 0. , 0. , 0. , 0. ],\n",
       "       [0. , 0. , 0.4, 0. , 0. , 0. , 0.6, 0. , 0. , 0. ],\n",
       "       [0. , 0. , 0. , 0.4, 0. , 0. , 0. , 0.6, 0. , 0. ],\n",
       "       [0. , 0. , 0. , 0. , 0.4, 0. , 0. , 0. , 0.6, 0. ],\n",
       "       [0. , 0. , 0. , 0. , 0. , 0.4, 0. , 0. , 0. , 0.6],\n",
       "       [0.6, 0. , 0. , 0. , 0. , 0. , 0.4, 0. , 0. , 0. ],\n",
       "       [0. , 0.6, 0. , 0. , 0. , 0. , 0. , 0.4, 0. , 0. ],\n",
       "       [0. , 0. , 0.6, 0. , 0. , 0. , 0. , 0. , 0.4, 0. ],\n",
       "       [0. , 0. , 0. , 0.6, 0. , 0. , 0. , 0. , 0. , 0.4]])"
      ]
     },
     "execution_count": 149,
     "metadata": {},
     "output_type": "execute_result"
    }
   ],
   "source": [
    "confusion"
   ]
  },
  {
   "cell_type": "code",
   "execution_count": 150,
   "metadata": {},
   "outputs": [
    {
     "name": "stdout",
     "output_type": "stream",
     "text": [
      "[5641. 6109. 5572. 5728. 5608. 6038. 5678. 5878. 5517. 5231.]\n"
     ]
    }
   ],
   "source": [
    "print(y_train_corrupted.sum(axis=0))"
   ]
  },
  {
   "cell_type": "markdown",
   "metadata": {},
   "source": [
    "### Define Model"
   ]
  },
  {
   "cell_type": "code",
   "execution_count": 88,
   "metadata": {},
   "outputs": [
    {
     "name": "stdout",
     "output_type": "stream",
     "text": [
      "_________________________________________________________________\n",
      "Layer (type)                 Output Shape              Param #   \n",
      "=================================================================\n",
      "conv2d_8 (Conv2D)            (None, 28, 28, 64)        320       \n",
      "_________________________________________________________________\n",
      "max_pooling2d_8 (MaxPooling2 (None, 14, 14, 64)        0         \n",
      "_________________________________________________________________\n",
      "dropout_12 (Dropout)         (None, 14, 14, 64)        0         \n",
      "_________________________________________________________________\n",
      "conv2d_9 (Conv2D)            (None, 14, 14, 32)        8224      \n",
      "_________________________________________________________________\n",
      "max_pooling2d_9 (MaxPooling2 (None, 7, 7, 32)          0         \n",
      "_________________________________________________________________\n",
      "dropout_13 (Dropout)         (None, 7, 7, 32)          0         \n",
      "_________________________________________________________________\n",
      "flatten_4 (Flatten)          (None, 1568)              0         \n",
      "_________________________________________________________________\n",
      "dense_8 (Dense)              (None, 256)               401664    \n",
      "_________________________________________________________________\n",
      "dropout_14 (Dropout)         (None, 256)               0         \n",
      "_________________________________________________________________\n",
      "dense_9 (Dense)              (None, 10)                2570      \n",
      "=================================================================\n",
      "Total params: 412,778\n",
      "Trainable params: 412,778\n",
      "Non-trainable params: 0\n",
      "_________________________________________________________________\n"
     ]
    }
   ],
   "source": [
    "def get_model():\n",
    "    model = tf.keras.Sequential()\n",
    "    # Must define the input shape in the first layer of the neural network\n",
    "    model.add(tf.keras.layers.Conv2D(filters=64, kernel_size=2, padding='same', activation='relu', input_shape=(28,28,1))) \n",
    "    model.add(tf.keras.layers.MaxPooling2D(pool_size=2))\n",
    "    model.add(tf.keras.layers.Dropout(0.3))\n",
    "    model.add(tf.keras.layers.Conv2D(filters=32, kernel_size=2, padding='same', activation='relu'))\n",
    "    model.add(tf.keras.layers.MaxPooling2D(pool_size=2))\n",
    "    model.add(tf.keras.layers.Dropout(0.3))\n",
    "    model.add(tf.keras.layers.Flatten())\n",
    "    model.add(tf.keras.layers.Dense(256, activation='relu'))\n",
    "    model.add(tf.keras.layers.Dropout(0.5))\n",
    "    model.add(tf.keras.layers.Dense(10, activation='softmax'))\n",
    "    model.compile(loss='categorical_crossentropy',\n",
    "             optimizer='adam',\n",
    "             metrics=['accuracy'])\n",
    "\n",
    "    return model\n",
    "\n",
    "model = get_model()\n",
    "model.summary()"
   ]
  },
  {
   "cell_type": "markdown",
   "metadata": {},
   "source": [
    "### Run 2 Basic Baselines\n",
    "* Trusted Only\n",
    "* Untrusted Only"
   ]
  },
  {
   "cell_type": "code",
   "execution_count": 91,
   "metadata": {},
   "outputs": [
    {
     "name": "stdout",
     "output_type": "stream",
     "text": [
      "\n",
      " Test accuracy of trusted only model: 0.8534\n"
     ]
    }
   ],
   "source": [
    "trusted_only_model = get_model()\n",
    "trusted_only_model.fit(x_trust,\n",
    "                       y_trust,\n",
    "                       batch_size=64,\n",
    "                       epochs=10,\n",
    "                       verbose=0)\n",
    "\n",
    "# Evaluate the model on test set\n",
    "score = trusted_only_model.evaluate(x_test, y_test, verbose=0)\n",
    "print('\\n', 'Test accuracy of trusted only model:', score[1])"
   ]
  },
  {
   "cell_type": "code",
   "execution_count": 270,
   "metadata": {},
   "outputs": [
    {
     "name": "stdout",
     "output_type": "stream",
     "text": [
      "Epoch 1/20\n",
      "600/600 [==============================] - 1s 2ms/sample - loss: 2.2246 - acc: 0.2100\n",
      "Epoch 2/20\n",
      "600/600 [==============================] - 1s 2ms/sample - loss: 1.7779 - acc: 0.5067\n",
      "Epoch 3/20\n",
      "600/600 [==============================] - 1s 2ms/sample - loss: 1.1948 - acc: 0.6217\n",
      "Epoch 4/20\n",
      "600/600 [==============================] - 1s 2ms/sample - loss: 0.9253 - acc: 0.6867\n",
      "Epoch 5/20\n",
      "600/600 [==============================] - 1s 2ms/sample - loss: 0.8111 - acc: 0.7283\n",
      "Epoch 6/20\n",
      "600/600 [==============================] - 1s 2ms/sample - loss: 0.6887 - acc: 0.7750\n",
      "Epoch 7/20\n",
      "600/600 [==============================] - 1s 2ms/sample - loss: 0.6010 - acc: 0.8017\n",
      "Epoch 8/20\n",
      "600/600 [==============================] - 1s 2ms/sample - loss: 0.5049 - acc: 0.8250\n",
      "Epoch 9/20\n",
      "600/600 [==============================] - 1s 2ms/sample - loss: 0.5500 - acc: 0.8150\n",
      "Epoch 10/20\n",
      "600/600 [==============================] - 1s 2ms/sample - loss: 0.4371 - acc: 0.8483\n",
      "Epoch 11/20\n",
      "600/600 [==============================] - 1s 2ms/sample - loss: 0.3659 - acc: 0.8867\n",
      "Epoch 12/20\n",
      "600/600 [==============================] - 1s 2ms/sample - loss: 0.3667 - acc: 0.8750\n",
      "Epoch 13/20\n",
      "600/600 [==============================] - 1s 2ms/sample - loss: 0.3502 - acc: 0.8767\n",
      "Epoch 14/20\n",
      "600/600 [==============================] - 1s 2ms/sample - loss: 0.3022 - acc: 0.9017\n",
      "Epoch 15/20\n",
      "600/600 [==============================] - 1s 2ms/sample - loss: 0.2878 - acc: 0.9083\n",
      "Epoch 16/20\n",
      "600/600 [==============================] - 1s 2ms/sample - loss: 0.2646 - acc: 0.9067\n",
      "Epoch 17/20\n",
      "600/600 [==============================] - 1s 2ms/sample - loss: 0.2533 - acc: 0.9083\n",
      "Epoch 18/20\n",
      "600/600 [==============================] - 1s 2ms/sample - loss: 0.2277 - acc: 0.9217\n",
      "Epoch 19/20\n",
      "600/600 [==============================] - 1s 2ms/sample - loss: 0.2050 - acc: 0.9317\n",
      "Epoch 20/20\n",
      "600/600 [==============================] - 1s 2ms/sample - loss: 0.2122 - acc: 0.9233\n",
      "\n",
      " Test accuracy of trusted only model (20 epochs): 0.8934\n"
     ]
    }
   ],
   "source": [
    "trusted_only_model = get_model()\n",
    "trusted_only_model.fit(x_trust,\n",
    "                       y_trust,\n",
    "                       batch_size=64,\n",
    "                       epochs=20,\n",
    "                       verbose=1)\n",
    "\n",
    "# Evaluate the model on test set\n",
    "score = trusted_only_model.evaluate(x_test, y_test, verbose=0)\n",
    "print('\\n', 'Test accuracy of trusted only model (20 epochs):', score[1])"
   ]
  },
  {
   "cell_type": "code",
   "execution_count": 151,
   "metadata": {},
   "outputs": [
    {
     "name": "stdout",
     "output_type": "stream",
     "text": [
      "Epoch 1/10\n",
      "57000/57000 [==============================] - 63s 1ms/sample - loss: 1.0868 - acc: 0.4899\n",
      "Epoch 2/10\n",
      "57000/57000 [==============================] - 100s 2ms/sample - loss: 0.8339 - acc: 0.5453\n",
      "Epoch 3/10\n",
      "57000/57000 [==============================] - 112s 2ms/sample - loss: 0.7951 - acc: 0.5559\n",
      "Epoch 4/10\n",
      "57000/57000 [==============================] - 82s 1ms/sample - loss: 0.7787 - acc: 0.5616\n",
      "Epoch 5/10\n",
      "57000/57000 [==============================] - 110s 2ms/sample - loss: 0.7640 - acc: 0.5666\n",
      "Epoch 6/10\n",
      "57000/57000 [==============================] - 103s 2ms/sample - loss: 0.7596 - acc: 0.5655\n",
      "Epoch 7/10\n",
      "57000/57000 [==============================] - 88s 2ms/sample - loss: 0.7516 - acc: 0.5689\n",
      "Epoch 8/10\n",
      "57000/57000 [==============================] - 92s 2ms/sample - loss: 0.7466 - acc: 0.5714\n",
      "Epoch 9/10\n",
      "57000/57000 [==============================] - 101s 2ms/sample - loss: 0.7413 - acc: 0.5724\n",
      "Epoch 10/10\n",
      "57000/57000 [==============================] - 113s 2ms/sample - loss: 0.7377 - acc: 0.5745\n",
      "\n",
      " Test accuracy of untrusted only model: 0.0729\n"
     ]
    }
   ],
   "source": [
    "untrusted_only_model = get_model()\n",
    "untrusted_only_model.fit(x_train,\n",
    "                         y_train_corrupted,\n",
    "                         batch_size=64,\n",
    "                         epochs=10,\n",
    "                         verbose=1)\n",
    "\n",
    "# Evaluate the model on test set\n",
    "score = untrusted_only_model.evaluate(x_test, y_test, verbose=0)\n",
    "print('\\n', 'Test accuracy of untrusted only model:', score[1])"
   ]
  },
  {
   "cell_type": "markdown",
   "metadata": {},
   "source": [
    "### Get Confusion Matrix"
   ]
  },
  {
   "cell_type": "code",
   "execution_count": 152,
   "metadata": {},
   "outputs": [
    {
     "data": {
      "text/plain": [
       "array([[ 2,  0,  0,  0, 58,  0,  0,  0,  0,  0],\n",
       "       [ 0, 10,  0,  0,  0, 64,  0,  0,  0,  0],\n",
       "       [ 0,  0,  9,  0,  0,  0, 52,  0,  0,  0],\n",
       "       [ 0,  1,  0,  3,  0,  0,  0, 60,  0,  0],\n",
       "       [ 0,  0,  0,  0,  1,  0,  0,  0, 61,  0],\n",
       "       [ 0,  0,  0,  0,  0, 16,  0,  1,  1, 37],\n",
       "       [62,  0,  0,  0,  0,  0,  1,  0,  0,  0],\n",
       "       [ 0, 63,  1,  0,  0,  0,  0,  0,  0,  0],\n",
       "       [ 0,  0, 47,  0,  0,  0,  0,  0,  0,  1],\n",
       "       [ 0,  1,  0, 46,  0,  0,  0,  0,  0,  2]], dtype=int64)"
      ]
     },
     "execution_count": 152,
     "metadata": {},
     "output_type": "execute_result"
    }
   ],
   "source": [
    "from sklearn.metrics import confusion_matrix\n",
    "\n",
    "y_pred = untrusted_only_model.predict(x_trust)\n",
    "\n",
    "cf = confusion_matrix(y_trust.argmax(axis=1), y_pred.argmax(axis=1))\n",
    "cf"
   ]
  },
  {
   "cell_type": "markdown",
   "metadata": {},
   "source": [
    "### \"Correct\" Labels and Rerun "
   ]
  },
  {
   "cell_type": "code",
   "execution_count": 153,
   "metadata": {},
   "outputs": [],
   "source": [
    "y_train_corrected = y_train_corrupted.dot(cf.T)\n",
    "y_train_corrected = (y_train_corrected.T / np.sum(y_train_corrected.T, axis=0)).T"
   ]
  },
  {
   "cell_type": "code",
   "execution_count": 167,
   "metadata": {},
   "outputs": [
    {
     "data": {
      "image/png": "[encoded data removed]",
      "text/plain": [
       "<Figure size 720x576 with 20 Axes>"
      ]
     },
     "metadata": {
      "needs_background": "light"
     },
     "output_type": "display_data"
    }
   ],
   "source": [
    "plt.figure(figsize=(10, 8))\n",
    "offset = 20\n",
    "\n",
    "for i in range(20):\n",
    "    plt.subplot(4,5,i+1)\n",
    "    plt.imshow(x_train[offset+i].reshape(28, 28), cmap='gray')\n",
    "    plt.title('{} --> {}'.format(y_train_corrupted[offset+i].argmax(), y_train_corrected[offset+i].argmax()))\n",
    "plt.tight_layout()"
   ]
  },
  {
   "cell_type": "code",
   "execution_count": 154,
   "metadata": {},
   "outputs": [
    {
     "name": "stdout",
     "output_type": "stream",
     "text": [
      "Epoch 1/10\n",
      "57000/57000 [==============================] - 124s 2ms/sample - loss: 1.1999 - acc: 0.4976\n",
      "Epoch 2/10\n",
      "57000/57000 [==============================] - 137s 2ms/sample - loss: 0.9949 - acc: 0.5506\n",
      "Epoch 3/10\n",
      "57000/57000 [==============================] - 125s 2ms/sample - loss: 0.9619 - acc: 0.5602\n",
      "Epoch 4/10\n",
      "57000/57000 [==============================] - 115s 2ms/sample - loss: 0.9478 - acc: 0.5636\n",
      "Epoch 5/10\n",
      "57000/57000 [==============================] - 125s 2ms/sample - loss: 0.9386 - acc: 0.5669\n",
      "Epoch 6/10\n",
      "57000/57000 [==============================] - 129s 2ms/sample - loss: 0.9302 - acc: 0.5709\n",
      "Epoch 7/10\n",
      "57000/57000 [==============================] - 105s 2ms/sample - loss: 0.9239 - acc: 0.5721\n",
      "Epoch 8/10\n",
      "57000/57000 [==============================] - 105s 2ms/sample - loss: 0.9190 - acc: 0.5745\n",
      "Epoch 9/10\n",
      "57000/57000 [==============================] - 101s 2ms/sample - loss: 0.9141 - acc: 0.5758\n",
      "Epoch 10/10\n",
      "57000/57000 [==============================] - 105s 2ms/sample - loss: 0.9112 - acc: 0.5779\n",
      "\n",
      " Test accuracy of corrected model: 0.9597\n"
     ]
    }
   ],
   "source": [
    "corrected_model = get_model()\n",
    "corrected_model.fit(x_train,\n",
    "                    y_train_corrected,\n",
    "                    batch_size=64,\n",
    "                    epochs=10,\n",
    "                    verbose=1)\n",
    "\n",
    "# Evaluate the model on test set\n",
    "score = corrected_model.evaluate(x_test, y_test, verbose=0)\n",
    "print('\\n', 'Test accuracy of corrected model:', score[1])"
   ]
  },
  {
   "cell_type": "markdown",
   "metadata": {},
   "source": [
    "### Nonlinear Corrections"
   ]
  },
  {
   "cell_type": "code",
   "execution_count": 244,
   "metadata": {},
   "outputs": [
    {
     "name": "stdout",
     "output_type": "stream",
     "text": [
      "_________________________________________________________________\n",
      "Layer (type)                 Output Shape              Param #   \n",
      "=================================================================\n",
      "dense_43 (Dense)             (None, 64)                1984      \n",
      "_________________________________________________________________\n",
      "dense_44 (Dense)             (None, 10)                650       \n",
      "=================================================================\n",
      "Total params: 2,634\n",
      "Trainable params: 2,634\n",
      "Non-trainable params: 0\n",
      "_________________________________________________________________\n"
     ]
    }
   ],
   "source": [
    "def get_error_correcting_model():\n",
    "    model = tf.keras.Sequential()\n",
    "    model.add(tf.keras.layers.Dense(64, activation='relu', input_shape=(30, )))\n",
    "    model.add(tf.keras.layers.Dense(10, activation='softmax'))\n",
    "    model.compile(loss='categorical_crossentropy',\n",
    "             optimizer='adam',\n",
    "             metrics=['accuracy'])\n",
    "\n",
    "    return model\n",
    "\n",
    "ecm = get_error_correcting_model()\n",
    "ecm.summary()"
   ]
  },
  {
   "cell_type": "code",
   "execution_count": 250,
   "metadata": {},
   "outputs": [],
   "source": [
    "x_trust_feat = x_trust.reshape(-1, 784)[:, list(range(10, 784, 40))]"
   ]
  },
  {
   "cell_type": "code",
   "execution_count": 251,
   "metadata": {},
   "outputs": [],
   "source": [
    "y_noisy = np.concatenate((y_pred, x_trust_feat), axis=1)"
   ]
  },
  {
   "cell_type": "code",
   "execution_count": 247,
   "metadata": {},
   "outputs": [
    {
     "name": "stdout",
     "output_type": "stream",
     "text": [
      "Train on 480 samples, validate on 120 samples\n",
      "Epoch 1/20\n",
      "480/480 [==============================] - 1s 1ms/sample - loss: 2.3103 - acc: 0.1021 - val_loss: 2.2514 - val_acc: 0.1750\n",
      "Epoch 2/20\n",
      "480/480 [==============================] - 0s 81us/sample - loss: 2.2023 - acc: 0.3000 - val_loss: 2.1510 - val_acc: 0.4000\n",
      "Epoch 3/20\n",
      "480/480 [==============================] - 0s 77us/sample - loss: 2.1002 - acc: 0.4396 - val_loss: 2.0493 - val_acc: 0.5167\n",
      "Epoch 4/20\n",
      "480/480 [==============================] - 0s 94us/sample - loss: 1.9895 - acc: 0.6208 - val_loss: 1.9361 - val_acc: 0.7083\n",
      "Epoch 5/20\n",
      "480/480 [==============================] - 0s 90us/sample - loss: 1.8692 - acc: 0.7563 - val_loss: 1.8072 - val_acc: 0.7917\n",
      "Epoch 6/20\n",
      "480/480 [==============================] - 0s 94us/sample - loss: 1.7331 - acc: 0.8250 - val_loss: 1.6692 - val_acc: 0.8083\n",
      "Epoch 7/20\n",
      "480/480 [==============================] - 0s 121us/sample - loss: 1.5836 - acc: 0.8604 - val_loss: 1.5157 - val_acc: 0.8583\n",
      "Epoch 8/20\n",
      "480/480 [==============================] - 0s 81us/sample - loss: 1.4283 - acc: 0.8875 - val_loss: 1.3581 - val_acc: 0.8833\n",
      "Epoch 9/20\n",
      "480/480 [==============================] - 0s 94us/sample - loss: 1.2692 - acc: 0.9021 - val_loss: 1.2013 - val_acc: 0.9000\n",
      "Epoch 10/20\n",
      "480/480 [==============================] - 0s 96us/sample - loss: 1.1137 - acc: 0.9229 - val_loss: 1.0502 - val_acc: 0.9167\n",
      "Epoch 11/20\n",
      "480/480 [==============================] - 0s 100us/sample - loss: 0.9684 - acc: 0.9417 - val_loss: 0.9146 - val_acc: 0.9250\n",
      "Epoch 12/20\n",
      "480/480 [==============================] - 0s 94us/sample - loss: 0.8368 - acc: 0.9542 - val_loss: 0.7871 - val_acc: 0.9417\n",
      "Epoch 13/20\n",
      "480/480 [==============================] - 0s 104us/sample - loss: 0.7222 - acc: 0.9646 - val_loss: 0.6842 - val_acc: 0.9583\n",
      "Epoch 14/20\n",
      "480/480 [==============================] - 0s 98us/sample - loss: 0.6260 - acc: 0.9708 - val_loss: 0.5951 - val_acc: 0.9583\n",
      "Epoch 15/20\n",
      "480/480 [==============================] - 0s 94us/sample - loss: 0.5430 - acc: 0.9771 - val_loss: 0.5160 - val_acc: 0.9667\n",
      "Epoch 16/20\n",
      "480/480 [==============================] - 0s 100us/sample - loss: 0.4757 - acc: 0.9792 - val_loss: 0.4516 - val_acc: 0.9667\n",
      "Epoch 17/20\n",
      "480/480 [==============================] - 0s 83us/sample - loss: 0.4190 - acc: 0.9812 - val_loss: 0.3999 - val_acc: 0.9750\n",
      "Epoch 18/20\n",
      "480/480 [==============================] - 0s 85us/sample - loss: 0.3718 - acc: 0.9854 - val_loss: 0.3556 - val_acc: 0.9750\n",
      "Epoch 19/20\n",
      "480/480 [==============================] - 0s 104us/sample - loss: 0.3329 - acc: 0.9854 - val_loss: 0.3180 - val_acc: 0.9917\n",
      "Epoch 20/20\n",
      "480/480 [==============================] - 0s 104us/sample - loss: 0.2998 - acc: 0.9854 - val_loss: 0.2874 - val_acc: 0.9917\n"
     ]
    },
    {
     "data": {
      "text/plain": [
       "<tensorflow.python.keras.callbacks.History at 0x2191f9bca90>"
      ]
     },
     "execution_count": 247,
     "metadata": {},
     "output_type": "execute_result"
    }
   ],
   "source": [
    "ecm.fit(y_noisy, y_trust, batch_size=32, epochs=20, verbose=1, validation_split=0.2)"
   ]
  },
  {
   "cell_type": "code",
   "execution_count": 253,
   "metadata": {},
   "outputs": [],
   "source": [
    "x_train_feat = np.concatenate((y_train_corrupted, x_train.reshape(-1, 784)[:, list(range(10, 784, 40))]), axis=1)"
   ]
  },
  {
   "cell_type": "code",
   "execution_count": 254,
   "metadata": {},
   "outputs": [],
   "source": [
    "y_train_corrected_nonlinear = ecm.predict(x_train_feat)"
   ]
  },
  {
   "cell_type": "code",
   "execution_count": 255,
   "metadata": {},
   "outputs": [
    {
     "data": {
      "image/png": "[encoded data removed]",
      "text/plain": [
       "<Figure size 720x576 with 20 Axes>"
      ]
     },
     "metadata": {
      "needs_background": "light"
     },
     "output_type": "display_data"
    }
   ],
   "source": [
    "plt.figure(figsize=(10, 8))\n",
    "offset = 20\n",
    "\n",
    "for i in range(20):\n",
    "    plt.subplot(4,5,i+1)\n",
    "    plt.imshow(x_train[offset+i].reshape(28, 28), cmap='gray')\n",
    "    plt.title('{} --> {}'.format(y_train_corrupted[offset+i].argmax(), y_train_corrected_nonlinear[offset+i].argmax()))\n",
    "plt.tight_layout()"
   ]
  },
  {
   "cell_type": "code",
   "execution_count": 266,
   "metadata": {},
   "outputs": [
    {
     "data": {
      "text/plain": [
       "0.3988421052631579"
      ]
     },
     "execution_count": 266,
     "metadata": {},
     "output_type": "execute_result"
    }
   ],
   "source": [
    "len(np.where(y_train.argmax(axis=1) == y_train_corrupted.argmax(axis=1))[0])/y_train.shape[0]"
   ]
  },
  {
   "cell_type": "code",
   "execution_count": 265,
   "metadata": {},
   "outputs": [
    {
     "data": {
      "text/plain": [
       "0.6011578947368421"
      ]
     },
     "execution_count": 265,
     "metadata": {},
     "output_type": "execute_result"
    }
   ],
   "source": [
    "len(np.where(y_train.argmax(axis=1) == y_train_corrected.argmax(axis=1))[0])/y_train.shape[0]"
   ]
  },
  {
   "cell_type": "code",
   "execution_count": 267,
   "metadata": {},
   "outputs": [
    {
     "data": {
      "text/plain": [
       "0.7642456140350877"
      ]
     },
     "execution_count": 267,
     "metadata": {},
     "output_type": "execute_result"
    }
   ],
   "source": [
    "len(np.where(y_train.argmax(axis=1) == y_train_corrected_nonlinear.argmax(axis=1))[0])/y_train.shape[0]"
   ]
  },
  {
   "cell_type": "code",
   "execution_count": 268,
   "metadata": {},
   "outputs": [
    {
     "name": "stdout",
     "output_type": "stream",
     "text": [
      "Epoch 1/10\n",
      "57000/57000 [==============================] - 65s 1ms/sample - loss: 1.4189 - acc: 0.6802\n",
      "Epoch 2/10\n",
      "57000/57000 [==============================] - 69s 1ms/sample - loss: 1.2932 - acc: 0.7332\n",
      "Epoch 3/10\n",
      "57000/57000 [==============================] - 96s 2ms/sample - loss: 1.2745 - acc: 0.7413\n",
      "Epoch 4/10\n",
      "57000/57000 [==============================] - 80s 1ms/sample - loss: 1.2634 - acc: 0.7448\n",
      "Epoch 5/10\n",
      "57000/57000 [==============================] - 78s 1ms/sample - loss: 1.2577 - acc: 0.7472\n",
      "Epoch 6/10\n",
      "57000/57000 [==============================] - 97s 2ms/sample - loss: 1.2518 - acc: 0.7476\n",
      "Epoch 7/10\n",
      "57000/57000 [==============================] - 96s 2ms/sample - loss: 1.2475 - acc: 0.7488\n",
      "Epoch 8/10\n",
      "57000/57000 [==============================] - 88s 2ms/sample - loss: 1.2450 - acc: 0.7501\n",
      "Epoch 9/10\n",
      "57000/57000 [==============================] - 101s 2ms/sample - loss: 1.2428 - acc: 0.7501\n",
      "Epoch 10/10\n",
      "57000/57000 [==============================] - 131s 2ms/sample - loss: 1.2411 - acc: 0.7535\n",
      "\n",
      " Test accuracy of corrected model: 0.9643\n"
     ]
    }
   ],
   "source": [
    "nonlinear_corrected_model = get_model()\n",
    "nonlinear_corrected_model.fit(x_train,\n",
    "                              y_train_corrected_nonlinear,\n",
    "                              batch_size=64,\n",
    "                              epochs=10,\n",
    "                              verbose=1)\n",
    "\n",
    "# Evaluate the model on test set\n",
    "score = nonlinear_corrected_model.evaluate(x_test, y_test, verbose=0)\n",
    "print('\\n', 'Test accuracy of corrected model:', score[1])"
   ]
  },
  {
   "cell_type": "code",
   "execution_count": 273,
   "metadata": {},
   "outputs": [
    {
     "data": {
      "text/plain": [
       "array([0.00190609, 0.00117306, 0.00331415, 0.00427606, 0.00973294,\n",
       "       0.3799554 , 0.0091845 , 0.01151247, 0.01257453, 0.56637084],\n",
       "      dtype=float32)"
      ]
     },
     "execution_count": 273,
     "metadata": {},
     "output_type": "execute_result"
    }
   ],
   "source": [
    "y_train_corrected_nonlinear[0]"
   ]
  },
  {
   "cell_type": "code",
   "execution_count": 281,
   "metadata": {},
   "outputs": [
    {
     "data": {
      "text/plain": [
       "(57000, 10)"
      ]
     },
     "execution_count": 281,
     "metadata": {},
     "output_type": "execute_result"
    }
   ],
   "source": [
    "y_train_corrected_nonlinear_constrained = encoder.fit_transform(y_train_corrected_nonlinear.argmax(axis=1).reshape(-1, 1))\n",
    "y_train_corrected_nonlinear_constrained.shape"
   ]
  },
  {
   "cell_type": "code",
   "execution_count": 290,
   "metadata": {},
   "outputs": [],
   "source": [
    "import termcolor\n",
    "from termcolor import colored\n"
   ]
  },
  {
   "cell_type": "code",
   "execution_count": 296,
   "metadata": {},
   "outputs": [
    {
     "name": "stdout",
     "output_type": "stream",
     "text": [
      "d \u001b[31mhello\u001b[0m d \u001b[32mworlddd\u001b[0m \n"
     ]
    }
   ],
   "source": [
    "print('d', end=' ')\n",
    "print(colored('hello', 'red'), end=' ')\n",
    "print('d', end=' ')\n",
    "print(colored('worlddd', 'green'), end=' ')\n",
    "print()"
   ]
  },
  {
   "cell_type": "code",
   "execution_count": 1,
   "metadata": {},
   "outputs": [],
   "source": [
    "import matplotlib.pyplot as plt\n",
    "\n"
   ]
  },
  {
   "cell_type": "code",
   "execution_count": 22,
   "metadata": {},
   "outputs": [
    {
     "data": {
      "text/plain": [
       "<matplotlib.legend.Legend at 0x282c78f5978>"
      ]
     },
     "execution_count": 22,
     "metadata": {},
     "output_type": "execute_result"
    },
    {
     "data": {
      "image/png": "[encoded data removed]",
      "text/plain": [
       "<Figure size 432x288 with 1 Axes>"
      ]
     },
     "metadata": {
      "needs_background": "light"
     },
     "output_type": "display_data"
    }
   ],
   "source": [
    "ns = [100, 200, 400, 800, 1600]\n",
    "\n",
    "plt.plot(ns, [0.43]*5, label='only training')\n",
    "plt.plot(ns, [0.3, 0.36, 0.42, 0.46, 0.51], label='only gold')\n",
    "plt.plot(ns, [0.32, 0.41, 0.51, 0.6, 0.65], label='pseudolabeling')\n",
    "plt.plot(ns, [0.52, 0.65, 0.71, 0.74, 0.75], label='gold test correction')\n",
    "plt.ylim([0, 0.9])\n",
    "plt.xlabel('Size of gold dataset')\n",
    "plt.ylabel('Accuracy')\n",
    "plt.legend()"
   ]
  }
 ],
 "metadata": {
  "kernelspec": {
   "display_name": "Python 3.6 (tensorflow)",
   "language": "python",
   "name": "tensorflow"
  },
  "language_info": {
   "codemirror_mode": {
    "name": "ipython",
    "version": 3
   },
   "file_extension": ".py",
   "mimetype": "text/x-python",
   "name": "python",
   "nbconvert_exporter": "python",
   "pygments_lexer": "ipython3",
   "version": "3.6.7"
  }
 },
 "nbformat": 4,
 "nbformat_minor": 2
}
