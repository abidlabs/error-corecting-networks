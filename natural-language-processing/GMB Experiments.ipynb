{
 "cells": [
  {
   "cell_type": "code",
   "execution_count": 276,
   "metadata": {},
   "outputs": [],
   "source": [
    "import pandas as pd\n",
    "import numpy as np\n",
    "import matplotlib.pyplot as plt\n",
    "\n",
    "from sklearn.model_selection import train_test_split\n",
    "from sklearn_crfsuite import CRF\n",
    "from sklearn_crfsuite.metrics import flat_f1_score\n",
    "from sklearn_crfsuite.metrics import flat_classification_report\n",
    "\n",
    "from nltk.tokenize.treebank import TreebankWordDetokenizer\n",
    "%matplotlib inline"
   ]
  },
  {
   "cell_type": "markdown",
   "metadata": {},
   "source": [
    "# Downloading and Preprocessing the Data"
   ]
  },
  {
   "cell_type": "code",
   "execution_count": 25,
   "metadata": {},
   "outputs": [
    {
     "data": {
      "text/html": [
       "<div>\n",
       "<style scoped>\n",
       "    .dataframe tbody tr th:only-of-type {\n",
       "        vertical-align: middle;\n",
       "    }\n",
       "\n",
       "    .dataframe tbody tr th {\n",
       "        vertical-align: top;\n",
       "    }\n",
       "\n",
       "    .dataframe thead th {\n",
       "        text-align: right;\n",
       "    }\n",
       "</style>\n",
       "<table border=\"1\" class=\"dataframe\">\n",
       "  <thead>\n",
       "    <tr style=\"text-align: right;\">\n",
       "      <th></th>\n",
       "      <th>Sentence #</th>\n",
       "      <th>Word</th>\n",
       "      <th>POS</th>\n",
       "      <th>Tag</th>\n",
       "    </tr>\n",
       "  </thead>\n",
       "  <tbody>\n",
       "    <tr>\n",
       "      <th>count</th>\n",
       "      <td>47959</td>\n",
       "      <td>1048575</td>\n",
       "      <td>1048575</td>\n",
       "      <td>1048575</td>\n",
       "    </tr>\n",
       "    <tr>\n",
       "      <th>unique</th>\n",
       "      <td>47959</td>\n",
       "      <td>35178</td>\n",
       "      <td>42</td>\n",
       "      <td>17</td>\n",
       "    </tr>\n",
       "    <tr>\n",
       "      <th>top</th>\n",
       "      <td>Sentence: 3119</td>\n",
       "      <td>the</td>\n",
       "      <td>NN</td>\n",
       "      <td>O</td>\n",
       "    </tr>\n",
       "    <tr>\n",
       "      <th>freq</th>\n",
       "      <td>1</td>\n",
       "      <td>52573</td>\n",
       "      <td>145807</td>\n",
       "      <td>887908</td>\n",
       "    </tr>\n",
       "  </tbody>\n",
       "</table>\n",
       "</div>"
      ],
      "text/plain": [
       "            Sentence #     Word      POS      Tag\n",
       "count            47959  1048575  1048575  1048575\n",
       "unique           47959    35178       42       17\n",
       "top     Sentence: 3119      the       NN        O\n",
       "freq                 1    52573   145807   887908"
      ]
     },
     "execution_count": 25,
     "metadata": {},
     "output_type": "execute_result"
    }
   ],
   "source": [
    "df = pd.read_csv('../data/ner_dataset.csv', encoding = \"ISO-8859-1\")\n",
    "df.describe()"
   ]
  },
  {
   "cell_type": "code",
   "execution_count": 26,
   "metadata": {},
   "outputs": [
    {
     "data": {
      "text/html": [
       "<div>\n",
       "<style scoped>\n",
       "    .dataframe tbody tr th:only-of-type {\n",
       "        vertical-align: middle;\n",
       "    }\n",
       "\n",
       "    .dataframe tbody tr th {\n",
       "        vertical-align: top;\n",
       "    }\n",
       "\n",
       "    .dataframe thead th {\n",
       "        text-align: right;\n",
       "    }\n",
       "</style>\n",
       "<table border=\"1\" class=\"dataframe\">\n",
       "  <thead>\n",
       "    <tr style=\"text-align: right;\">\n",
       "      <th></th>\n",
       "      <th>Sentence #</th>\n",
       "      <th>Word</th>\n",
       "      <th>POS</th>\n",
       "      <th>Tag</th>\n",
       "    </tr>\n",
       "  </thead>\n",
       "  <tbody>\n",
       "    <tr>\n",
       "      <th>0</th>\n",
       "      <td>Sentence: 1</td>\n",
       "      <td>Thousands</td>\n",
       "      <td>NNS</td>\n",
       "      <td>O</td>\n",
       "    </tr>\n",
       "    <tr>\n",
       "      <th>1</th>\n",
       "      <td>NaN</td>\n",
       "      <td>of</td>\n",
       "      <td>IN</td>\n",
       "      <td>O</td>\n",
       "    </tr>\n",
       "    <tr>\n",
       "      <th>2</th>\n",
       "      <td>NaN</td>\n",
       "      <td>demonstrators</td>\n",
       "      <td>NNS</td>\n",
       "      <td>O</td>\n",
       "    </tr>\n",
       "    <tr>\n",
       "      <th>3</th>\n",
       "      <td>NaN</td>\n",
       "      <td>have</td>\n",
       "      <td>VBP</td>\n",
       "      <td>O</td>\n",
       "    </tr>\n",
       "    <tr>\n",
       "      <th>4</th>\n",
       "      <td>NaN</td>\n",
       "      <td>marched</td>\n",
       "      <td>VBN</td>\n",
       "      <td>O</td>\n",
       "    </tr>\n",
       "    <tr>\n",
       "      <th>5</th>\n",
       "      <td>NaN</td>\n",
       "      <td>through</td>\n",
       "      <td>IN</td>\n",
       "      <td>O</td>\n",
       "    </tr>\n",
       "    <tr>\n",
       "      <th>6</th>\n",
       "      <td>NaN</td>\n",
       "      <td>London</td>\n",
       "      <td>NNP</td>\n",
       "      <td>B-geo</td>\n",
       "    </tr>\n",
       "    <tr>\n",
       "      <th>7</th>\n",
       "      <td>NaN</td>\n",
       "      <td>to</td>\n",
       "      <td>TO</td>\n",
       "      <td>O</td>\n",
       "    </tr>\n",
       "    <tr>\n",
       "      <th>8</th>\n",
       "      <td>NaN</td>\n",
       "      <td>protest</td>\n",
       "      <td>VB</td>\n",
       "      <td>O</td>\n",
       "    </tr>\n",
       "    <tr>\n",
       "      <th>9</th>\n",
       "      <td>NaN</td>\n",
       "      <td>the</td>\n",
       "      <td>DT</td>\n",
       "      <td>O</td>\n",
       "    </tr>\n",
       "  </tbody>\n",
       "</table>\n",
       "</div>"
      ],
      "text/plain": [
       "    Sentence #           Word  POS    Tag\n",
       "0  Sentence: 1      Thousands  NNS      O\n",
       "1          NaN             of   IN      O\n",
       "2          NaN  demonstrators  NNS      O\n",
       "3          NaN           have  VBP      O\n",
       "4          NaN        marched  VBN      O\n",
       "5          NaN        through   IN      O\n",
       "6          NaN         London  NNP  B-geo\n",
       "7          NaN             to   TO      O\n",
       "8          NaN        protest   VB      O\n",
       "9          NaN            the   DT      O"
      ]
     },
     "execution_count": 26,
     "metadata": {},
     "output_type": "execute_result"
    }
   ],
   "source": [
    "df.head(10)"
   ]
  },
  {
   "cell_type": "code",
   "execution_count": 27,
   "metadata": {},
   "outputs": [
    {
     "name": "stdout",
     "output_type": "stream",
     "text": [
      "['O' 'B-geo' 'B-gpe' 'B-per' 'I-geo' 'B-org' 'I-org' 'B-tim' 'B-art'\n",
      " 'I-art' 'I-per' 'I-gpe' 'I-tim' 'B-nat' 'B-eve' 'I-eve' 'I-nat']\n"
     ]
    }
   ],
   "source": [
    "print(df['Tag'].unique())"
   ]
  },
  {
   "cell_type": "code",
   "execution_count": 28,
   "metadata": {},
   "outputs": [],
   "source": [
    "tagset = df['Tag'].unique()\n",
    "b_tagset = set([i for i in tagset if i.startswith(\"B\")])"
   ]
  },
  {
   "cell_type": "code",
   "execution_count": 29,
   "metadata": {},
   "outputs": [
    {
     "name": "stdout",
     "output_type": "stream",
     "text": [
      "B-eve\n",
      "308 253\n",
      "B-geo\n",
      "37644 7414\n",
      "B-art\n",
      "402 297\n",
      "B-tim\n",
      "20333 6528\n",
      "B-nat\n",
      "201 51\n",
      "B-org\n",
      "20143 16784\n",
      "B-gpe\n",
      "15870 198\n",
      "B-per\n",
      "16990 17251\n"
     ]
    }
   ],
   "source": [
    "for tag in b_tagset:\n",
    "    print(tag)\n",
    "    print(np.sum(df['Tag']==tag), np.sum(df['Tag']==tag.replace('B', 'I'))) "
   ]
  },
  {
   "cell_type": "code",
   "execution_count": 30,
   "metadata": {},
   "outputs": [],
   "source": [
    "df = df.fillna(method = 'ffill')"
   ]
  },
  {
   "cell_type": "code",
   "execution_count": 31,
   "metadata": {},
   "outputs": [],
   "source": [
    "# This is a class te get sentence. The each sentence will be list of tuples with its tag and pos.\n",
    "class sentence(object):\n",
    "    def __init__(self, df):\n",
    "        self.n_sent = 1\n",
    "        self.df = df\n",
    "        self.empty = False\n",
    "        agg = lambda s : [(w, p, t) for w, p, t in zip(s['Word'].values.tolist(),\n",
    "                                                       s['POS'].values.tolist(),\n",
    "                                                       s['Tag'].values.tolist())]\n",
    "        self.grouped = self.df.groupby(\"Sentence #\").apply(agg)\n",
    "        self.sentences = [s for s in self.grouped]\n",
    "        \n",
    "    def get_text(self):\n",
    "        try:\n",
    "            s = self.grouped['Sentence: {}'.format(self.n_sent)]\n",
    "            self.n_sent +=1\n",
    "            return s\n",
    "        except:\n",
    "            return None"
   ]
  },
  {
   "cell_type": "code",
   "execution_count": 32,
   "metadata": {},
   "outputs": [
    {
     "data": {
      "text/plain": [
       "'Thousands of demonstrators have marched through London to protest the war in Iraq and demand the withdrawal of British troops from that country .'"
      ]
     },
     "execution_count": 32,
     "metadata": {},
     "output_type": "execute_result"
    }
   ],
   "source": [
    "#Displaying one full sentence\n",
    "getter = sentence(df)\n",
    "sentences = [\" \".join([s[0] for s in sent]) for sent in getter.sentences]\n",
    "sentences[0]"
   ]
  },
  {
   "cell_type": "code",
   "execution_count": 33,
   "metadata": {},
   "outputs": [
    {
     "name": "stdout",
     "output_type": "stream",
     "text": [
      "[('Thousands', 'NNS', 'O'), ('of', 'IN', 'O'), ('demonstrators', 'NNS', 'O'), ('have', 'VBP', 'O'), ('marched', 'VBN', 'O'), ('through', 'IN', 'O'), ('London', 'NNP', 'B-geo'), ('to', 'TO', 'O'), ('protest', 'VB', 'O'), ('the', 'DT', 'O'), ('war', 'NN', 'O'), ('in', 'IN', 'O'), ('Iraq', 'NNP', 'B-geo'), ('and', 'CC', 'O'), ('demand', 'VB', 'O'), ('the', 'DT', 'O'), ('withdrawal', 'NN', 'O'), ('of', 'IN', 'O'), ('British', 'JJ', 'B-gpe'), ('troops', 'NNS', 'O'), ('from', 'IN', 'O'), ('that', 'DT', 'O'), ('country', 'NN', 'O'), ('.', '.', 'O')]\n"
     ]
    }
   ],
   "source": [
    "sent = getter.get_text()\n",
    "print(sent)"
   ]
  },
  {
   "cell_type": "code",
   "execution_count": 34,
   "metadata": {},
   "outputs": [],
   "source": [
    "sentences = getter.sentences"
   ]
  },
  {
   "cell_type": "code",
   "execution_count": 36,
   "metadata": {},
   "outputs": [],
   "source": [
    "def word2features(sent, i):\n",
    "    word = sent[i][0]\n",
    "    postag = sent[i][1]\n",
    "\n",
    "    features = {\n",
    "        'bias': 1.0,\n",
    "        'word.lower()': word.lower(),\n",
    "        'word[-3:]': word[-3:],\n",
    "        'word[-2:]': word[-2:],\n",
    "        'word.isupper()': word.isupper(),\n",
    "        'word.istitle()': word.istitle(),\n",
    "        'word.isdigit()': word.isdigit(),\n",
    "        'postag': postag,\n",
    "        'postag[:2]': postag[:2],\n",
    "    }\n",
    "    if i > 0:\n",
    "        word1 = sent[i-1][0]\n",
    "        postag1 = sent[i-1][1]\n",
    "        features.update({\n",
    "            '-1:word.lower()': word1.lower(),\n",
    "            '-1:word.istitle()': word1.istitle(),\n",
    "            '-1:word.isupper()': word1.isupper(),\n",
    "            '-1:postag': postag1,\n",
    "            '-1:postag[:2]': postag1[:2],\n",
    "        })\n",
    "    else:\n",
    "        features['BOS'] = True\n",
    "\n",
    "    if i < len(sent)-1:\n",
    "        word1 = sent[i+1][0]\n",
    "        postag1 = sent[i+1][1]\n",
    "        features.update({\n",
    "            '+1:word.lower()': word1.lower(),\n",
    "            '+1:word.istitle()': word1.istitle(),\n",
    "            '+1:word.isupper()': word1.isupper(),\n",
    "            '+1:postag': postag1,\n",
    "            '+1:postag[:2]': postag1[:2],\n",
    "        })\n",
    "    else:\n",
    "        features['EOS'] = True\n",
    "\n",
    "    return features\n",
    "\n",
    "\n",
    "def sent2features(sent):\n",
    "    return [word2features(sent, i) for i in range(len(sent))]\n",
    "\n",
    "def sent2labels(sent):\n",
    "    return [label for token, postag, label in sent]\n",
    "\n",
    "def sent2tokens(sent):\n",
    "    return [token for token, postag, label in sent]"
   ]
  },
  {
   "cell_type": "code",
   "execution_count": 37,
   "metadata": {
    "scrolled": true
   },
   "outputs": [],
   "source": [
    "X = [sent2features(s) for s in sentences]\n",
    "y = [sent2labels(s) for s in sentences]"
   ]
  },
  {
   "cell_type": "code",
   "execution_count": 38,
   "metadata": {},
   "outputs": [],
   "source": [
    "X_train, X_test, y_train, y_test = train_test_split(X, y, test_size = 0.2)"
   ]
  },
  {
   "cell_type": "markdown",
   "metadata": {},
   "source": [
    "# Training and Evaluating the Model"
   ]
  },
  {
   "cell_type": "code",
   "execution_count": 40,
   "metadata": {},
   "outputs": [
    {
     "data": {
      "text/plain": [
       "CRF(algorithm='lbfgs', all_possible_states=None, all_possible_transitions=False,\n",
       "    averaging=None, c=None, c1=0.1, c2=0.1, calibration_candidates=None,\n",
       "    calibration_eta=None, calibration_max_trials=None, calibration_rate=None,\n",
       "    calibration_samples=None, delta=None, epsilon=None, error_sensitive=None,\n",
       "    gamma=None, keep_tempfiles=None, linesearch=None, max_iterations=100,\n",
       "    max_linesearch=None, min_freq=None, model_filename=None, num_memories=None,\n",
       "    pa_type=None, period=None, trainer_cls=None, variance=None, verbose=False)"
      ]
     },
     "execution_count": 40,
     "metadata": {},
     "output_type": "execute_result"
    }
   ],
   "source": [
    "crf = CRF(algorithm = 'lbfgs',\n",
    "         c1 = 0.1,\n",
    "         c2 = 0.1,\n",
    "         max_iterations = 100,\n",
    "         all_possible_transitions = False)\n",
    "crf.fit(X_train, y_train)"
   ]
  },
  {
   "cell_type": "code",
   "execution_count": 41,
   "metadata": {},
   "outputs": [],
   "source": [
    "#Predicting on the test set.\n",
    "y_pred = crf.predict(X_test)"
   ]
  },
  {
   "cell_type": "code",
   "execution_count": 42,
   "metadata": {},
   "outputs": [
    {
     "name": "stdout",
     "output_type": "stream",
     "text": [
      "0.9713086049664129\n"
     ]
    }
   ],
   "source": [
    "f1_score = flat_f1_score(y_test, y_pred, average = 'weighted')\n",
    "print(f1_score)"
   ]
  },
  {
   "cell_type": "code",
   "execution_count": 43,
   "metadata": {},
   "outputs": [
    {
     "name": "stdout",
     "output_type": "stream",
     "text": [
      "              precision    recall  f1-score   support\n",
      "\n",
      "       B-art       0.48      0.12      0.20        97\n",
      "       B-eve       0.52      0.30      0.38        56\n",
      "       B-geo       0.86      0.91      0.89      7421\n",
      "       B-gpe       0.97      0.94      0.95      3093\n",
      "       B-nat       0.59      0.30      0.40        33\n",
      "       B-org       0.81      0.73      0.77      4027\n",
      "       B-per       0.84      0.82      0.83      3423\n",
      "       B-tim       0.93      0.89      0.91      4020\n",
      "       I-art       0.25      0.06      0.09        71\n",
      "       I-eve       0.38      0.17      0.24        52\n",
      "       I-geo       0.81      0.83      0.82      1495\n",
      "       I-gpe       0.87      0.51      0.64        51\n",
      "       I-nat       0.67      0.20      0.31        10\n",
      "       I-org       0.83      0.77      0.80      3404\n",
      "       I-per       0.84      0.91      0.87      3378\n",
      "       I-tim       0.82      0.77      0.80      1253\n",
      "           O       0.99      0.99      0.99    176307\n",
      "\n",
      "    accuracy                           0.97    208191\n",
      "   macro avg       0.73      0.60      0.64    208191\n",
      "weighted avg       0.97      0.97      0.97    208191\n",
      "\n"
     ]
    }
   ],
   "source": [
    "report = flat_classification_report(y_test, y_pred)\n",
    "print(report)"
   ]
  },
  {
   "cell_type": "code",
   "execution_count": 198,
   "metadata": {},
   "outputs": [],
   "source": [
    "b_tagset = set([i for i in tagset if i.startswith(\"B\")])"
   ]
  },
  {
   "cell_type": "markdown",
   "metadata": {},
   "source": [
    "# Point Noise"
   ]
  },
  {
   "cell_type": "markdown",
   "metadata": {},
   "source": [
    "If a label is selected to have noise added, the effect of the noise differs depending on the original label:\n",
    "\n",
    "* The `O`s are randomly flipped to a `B-x` label\n",
    "* The `B-x`is randomly flipped to a different `B-y` label (or `O`), and all of the following `I-x` are flipped as well to `I-y` (or `O`, respectively)\n",
    "* The `I-x`is ignored"
   ]
  },
  {
   "cell_type": "code",
   "execution_count": 75,
   "metadata": {},
   "outputs": [],
   "source": [
    "import copy, random\n",
    "\n",
    "def flip_random_labels(y, frac=0.1):\n",
    "    y_new = []\n",
    "    error_array = []\n",
    "    \n",
    "    counter = 0\n",
    "    \n",
    "    for i in range(len(y)):\n",
    "        error_array.append(list())\n",
    "        y_new.append(list())\n",
    "        change_tag = False; change_to = None\n",
    "        \n",
    "        for j in range(len(y[i])):\n",
    "            current_tag = y[i][j]\n",
    "            if current_tag == 'O' and change_tag:  # stop flipping Ix --> Iy\n",
    "                change_tag = False\n",
    "                \n",
    "            if change_tag and (current_tag.startswith('I-')):  # Ix --> Iy if a Bx tag has been changed to By\n",
    "                y_new[i].append(change_to)\n",
    "                error_array[i].append(True)\n",
    "                continue                \n",
    "                \n",
    "            if np.random.random() < frac:\n",
    "                \n",
    "                if current_tag == 'O':  # O --> Bx\n",
    "                    new_tag = random.sample(b_tagset, 1)[0]\n",
    "                    \n",
    "                if current_tag in b_tagset:  # Bx --> By\n",
    "                    new_tagset = b_tagset.copy()\n",
    "                    new_tagset.add('O')\n",
    "                    new_tagset.remove(current_tag)\n",
    "                    new_tag = random.sample(new_tagset, 1)[0]\n",
    "                    change_tag = True\n",
    "                    change_to = new_tag.replace('B-', 'I-')\n",
    "                    \n",
    "                y_new[i].append(new_tag)\n",
    "                error_array[i].append(True)\n",
    "                \n",
    "            else:  # Ignore\n",
    "                \n",
    "                y_new[i].append(current_tag)\n",
    "                error_array[i].append(False)\n",
    "        \n",
    "    return y_new, error_array"
   ]
  },
  {
   "cell_type": "code",
   "execution_count": 298,
   "metadata": {},
   "outputs": [],
   "source": [
    "y_train_new, error_train_array = flip_random_labels(y_train, frac=0.1)"
   ]
  },
  {
   "cell_type": "markdown",
   "metadata": {},
   "source": [
    "#### Leave None Out"
   ]
  },
  {
   "cell_type": "code",
   "execution_count": 299,
   "metadata": {},
   "outputs": [
    {
     "data": {
      "text/plain": [
       "CRF(algorithm='lbfgs', all_possible_states=None, all_possible_transitions=False,\n",
       "    averaging=None, c=None, c1=0.1, c2=0.1, calibration_candidates=None,\n",
       "    calibration_eta=None, calibration_max_trials=None, calibration_rate=None,\n",
       "    calibration_samples=None, delta=None, epsilon=None, error_sensitive=None,\n",
       "    gamma=None, keep_tempfiles=None, linesearch=None, max_iterations=100,\n",
       "    max_linesearch=None, min_freq=None, model_filename=None, num_memories=None,\n",
       "    pa_type=None, period=None, trainer_cls=None, variance=None, verbose=False)"
      ]
     },
     "execution_count": 299,
     "metadata": {},
     "output_type": "execute_result"
    }
   ],
   "source": [
    "crf = CRF(algorithm = 'lbfgs',\n",
    "         c1 = 0.1,\n",
    "         c2 = 0.1,\n",
    "         max_iterations = 100,\n",
    "         all_possible_transitions = False)\n",
    "\n",
    "crf.fit(X_train, y_train_new)"
   ]
  },
  {
   "cell_type": "code",
   "execution_count": 300,
   "metadata": {},
   "outputs": [],
   "source": [
    "#Predicting on the test set.\n",
    "y_train_pred_probs = crf.predict_marginals(X_train)"
   ]
  },
  {
   "cell_type": "code",
   "execution_count": 301,
   "metadata": {},
   "outputs": [],
   "source": [
    "def score_mislabeled(y_orig, y_pred_probs):\n",
    "    scores = []\n",
    "    for i in range(len(y_orig)):\n",
    "        scores.append(list())\n",
    "        for j in range(len(y_orig[i])):\n",
    "            prob_dict = y_pred_probs[i][j]\n",
    "            max_prob_label = max(prob_dict, key=prob_dict.get)\n",
    "            if max_prob_label == y_orig[i][j]:\n",
    "                scores[i].append(1 - prob_dict[max_prob_label])\n",
    "            else:\n",
    "                scores[i].append(prob_dict[max_prob_label]) \n",
    "    return scores"
   ]
  },
  {
   "cell_type": "code",
   "execution_count": 302,
   "metadata": {},
   "outputs": [],
   "source": [
    "scores = score_mislabeled(y_train_new, y_train_pred_probs)"
   ]
  },
  {
   "cell_type": "code",
   "execution_count": 303,
   "metadata": {},
   "outputs": [],
   "source": [
    "def get_performance(scores_array, error_array, num_to_inspect=100000):\n",
    "    num_mislabeled = sum([arr.count(True) for arr in error_array])\n",
    "    num_total = sum([len(arr) for arr in error_array])\n",
    "    \n",
    "    B = [(i, j) for i, x in enumerate(error_array) for j, _ in enumerate(x)]\n",
    "    B.sort(key=lambda ix: -scores_array[ix[0]][ix[1]])\n",
    "    \n",
    "    random_found, method_found, optimal_found = 0, 0, 0\n",
    "    random_list, method_list, optimal_list = [],[], []    \n",
    "    \n",
    "    for i in range(num_to_inspect):\n",
    "        if np.random.random() < num_mislabeled / num_total:\n",
    "            random_found += 1\n",
    "        if optimal_found < num_mislabeled:\n",
    "            optimal_found += 1\n",
    "        if error_array[B[i][0]][B[i][1]]:\n",
    "            method_found += 1\n",
    "            \n",
    "        random_list.append(random_found)\n",
    "        method_list.append(method_found)\n",
    "        optimal_list.append(optimal_found)\n",
    "        \n",
    "    return random_list, method_list, optimal_list"
   ]
  },
  {
   "cell_type": "code",
   "execution_count": 304,
   "metadata": {},
   "outputs": [],
   "source": [
    "random_list, method_list, optimal_list = get_performance(scores, error_train_array, num_to_inspect=150000)\n",
    "_, kfold_list, _ = get_performance(kfold_scores, error_train_array, num_to_inspect=150000)"
   ]
  },
  {
   "cell_type": "code",
   "execution_count": 308,
   "metadata": {},
   "outputs": [
    {
     "data": {
      "text/plain": [
       "<matplotlib.legend.Legend at 0x1cfc2329630>"
      ]
     },
     "execution_count": 308,
     "metadata": {},
     "output_type": "execute_result"
    },
    {
     "data": {
      "image/png": "[encoded data removed]",
      "text/plain": [
       "<Figure size 432x288 with 1 Axes>"
      ]
     },
     "metadata": {
      "needs_background": "light"
     },
     "output_type": "display_data"
    }
   ],
   "source": [
    "n = len(random_list)\n",
    "\n",
    "plt.plot(range(n), random_list, 'k--', label='Random')\n",
    "plt.plot(range(n), method_list, label='LNO')\n",
    "plt.plot(range(n), optimal_list, 'k', label='Optimal')\n",
    "plt.plot(range(n), kfold_list, label='k=2')\n",
    "plt.xlabel('Number of points inspected')\n",
    "plt.ylabel('Number of points detected')\n",
    "plt.title('Random label flips (10%)')\n",
    "\n",
    "plt.legend()"
   ]
  },
  {
   "cell_type": "markdown",
   "metadata": {},
   "source": [
    "### More Mislabeled Data (20%)"
   ]
  },
  {
   "cell_type": "code",
   "execution_count": 162,
   "metadata": {},
   "outputs": [],
   "source": [
    "y_train_new, error_train_array = flip_random_labels(y_train, frac=0.2)"
   ]
  },
  {
   "cell_type": "code",
   "execution_count": 163,
   "metadata": {},
   "outputs": [
    {
     "name": "stdout",
     "output_type": "stream",
     "text": [
      "Num tags: 839711\n",
      "Num errs: 174112\n"
     ]
    },
    {
     "data": {
      "text/plain": [
       "0.2073475278994797"
      ]
     },
     "execution_count": 163,
     "metadata": {},
     "output_type": "execute_result"
    }
   ],
   "source": [
    "t = sum([len(a) for a in error_train_array]); print('Num tags:', t)\n",
    "e = sum([sum(a) for a in error_train_array]); print('Num errs:', e)\n",
    "e/t"
   ]
  },
  {
   "cell_type": "code",
   "execution_count": 159,
   "metadata": {},
   "outputs": [
    {
     "data": {
      "text/plain": [
       "CRF(algorithm='lbfgs', all_possible_states=None, all_possible_transitions=False,\n",
       "    averaging=None, c=None, c1=0.1, c2=0.1, calibration_candidates=None,\n",
       "    calibration_eta=None, calibration_max_trials=None, calibration_rate=None,\n",
       "    calibration_samples=None, delta=None, epsilon=None, error_sensitive=None,\n",
       "    gamma=None, keep_tempfiles=None, linesearch=None, max_iterations=100,\n",
       "    max_linesearch=None, min_freq=None, model_filename=None, num_memories=None,\n",
       "    pa_type=None, period=None, trainer_cls=None, variance=None, verbose=False)"
      ]
     },
     "execution_count": 159,
     "metadata": {},
     "output_type": "execute_result"
    }
   ],
   "source": [
    "crf.fit(X_train, y_train_new)"
   ]
  },
  {
   "cell_type": "code",
   "execution_count": 160,
   "metadata": {},
   "outputs": [
    {
     "name": "stdout",
     "output_type": "stream",
     "text": [
      "0.5310515976436588\n"
     ]
    }
   ],
   "source": [
    "y_pred = crf.predict(X_test)\n",
    "f1_score = flat_f1_score(y_test, y_pred, average = 'macro')\n",
    "print(f1_score)"
   ]
  },
  {
   "cell_type": "code",
   "execution_count": 90,
   "metadata": {},
   "outputs": [],
   "source": [
    "y_train_pred_probs = crf.predict_marginals(X_train)"
   ]
  },
  {
   "cell_type": "code",
   "execution_count": 91,
   "metadata": {},
   "outputs": [],
   "source": [
    "scores = score_mislabeled(y_train_new, y_train_pred_probs)"
   ]
  },
  {
   "cell_type": "code",
   "execution_count": 92,
   "metadata": {},
   "outputs": [],
   "source": [
    "random_list, method_list, optimal_list = get_performance(scores, error_train_array, num_to_inspect=300000)"
   ]
  },
  {
   "cell_type": "markdown",
   "metadata": {},
   "source": [
    "#### k=3"
   ]
  },
  {
   "cell_type": "code",
   "execution_count": 139,
   "metadata": {},
   "outputs": [],
   "source": [
    "def score_kfold(X, y, k=2):\n",
    "    \"\"\"\n",
    "    X: input features, as a numpy array\n",
    "    y: input labels, as a numpy array\n",
    "    k: the number of folds, as an integer (increasing k increases runtime)\n",
    "    \"\"\"\n",
    "    X = np.array(X)\n",
    "    y = np.array(y)\n",
    "    \n",
    "    n = X.shape[0]\n",
    "    print('num samples:', n)\n",
    "    assert n == y.shape[0]  # y needs to have the same number of samples as X\n",
    "    \n",
    "    indices = np.arange(n)\n",
    "    shuffled_indices = np.random.permutation(n)\n",
    "    all_scores = [[]] * n \n",
    "    \n",
    "    print('{} folds:'.format(k), end=' ')\n",
    "    for i in range(k):\n",
    "        print(i, end=' ')\n",
    "        start_idx = int(n*i/k)\n",
    "        end_idx = int(n*(i+1)/k)\n",
    "        indices_to_evaluate = shuffled_indices[start_idx:end_idx]\n",
    "        \n",
    "        mask_to_train = np.ones_like(indices, dtype=bool)\n",
    "        mask_to_train[indices_to_evaluate] = False\n",
    "        \n",
    "        X_train = X[mask_to_train]\n",
    "        y_train = y[mask_to_train]\n",
    "        crf.fit(X_train, y_train)\n",
    "        \n",
    "        X_eval = X[~mask_to_train]\n",
    "        y_eval = y[~mask_to_train]\n",
    "        eval_indices = np.arange(n)[~mask_to_train]\n",
    "        y_pred_probs = crf.predict_marginals(X_eval)\n",
    "        \n",
    "        for i in range(len(y_eval)):\n",
    "            scores = []\n",
    "            for j in range(len(y_eval[i])):\n",
    "                prob_dict = y_pred_probs[i][j]\n",
    "                max_prob_label = max(prob_dict, key=prob_dict.get)\n",
    "                if max_prob_label == y_eval[i][j]:\n",
    "                    scores.append(1 - prob_dict[max_prob_label])\n",
    "                else:\n",
    "                    scores.append(prob_dict[max_prob_label]) \n",
    "                        \n",
    "            all_scores[eval_indices[i]] = scores\n",
    "    \n",
    "    return all_scores"
   ]
  },
  {
   "cell_type": "code",
   "execution_count": 146,
   "metadata": {},
   "outputs": [
    {
     "name": "stdout",
     "output_type": "stream",
     "text": [
      "num samples: 38367\n",
      "2 folds: 0 1 "
     ]
    }
   ],
   "source": [
    "kfold_scores = score_kfold(X_train, y_train_new, k=2)"
   ]
  },
  {
   "cell_type": "code",
   "execution_count": 149,
   "metadata": {},
   "outputs": [],
   "source": [
    "_, kfold_list, _ = get_performance(kfold_scores, error_train_array, num_to_inspect=300000)"
   ]
  },
  {
   "cell_type": "code",
   "execution_count": 152,
   "metadata": {},
   "outputs": [
    {
     "data": {
      "text/plain": [
       "<matplotlib.legend.Legend at 0x1cfb78a3d30>"
      ]
     },
     "execution_count": 152,
     "metadata": {},
     "output_type": "execute_result"
    },
    {
     "data": {
      "image/png": "[encoded data removed]",
      "text/plain": [
       "<Figure size 432x288 with 1 Axes>"
      ]
     },
     "metadata": {
      "needs_background": "light"
     },
     "output_type": "display_data"
    }
   ],
   "source": [
    "n = len(random_list)\n",
    "\n",
    "plt.plot(range(n), random_list, 'k--', label='Random')\n",
    "plt.plot(range(n), method_list, label='LNO')\n",
    "plt.plot(range(n), kfold_list, label='k=2')\n",
    "plt.plot(range(n), optimal_list, label='Optimal')\n",
    "plt.legend()"
   ]
  },
  {
   "cell_type": "markdown",
   "metadata": {},
   "source": [
    "### Even More Mislabeled Data (40%)"
   ]
  },
  {
   "cell_type": "code",
   "execution_count": 154,
   "metadata": {},
   "outputs": [
    {
     "name": "stdout",
     "output_type": "stream",
     "text": [
      "num samples: 38367\n",
      "2 folds: 0 1 "
     ]
    },
    {
     "data": {
      "text/plain": [
       "<matplotlib.legend.Legend at 0x1cf94825eb8>"
      ]
     },
     "execution_count": 154,
     "metadata": {},
     "output_type": "execute_result"
    },
    {
     "data": {
      "image/png": "[encoded data removed]",
      "text/plain": [
       "<Figure size 432x288 with 1 Axes>"
      ]
     },
     "metadata": {
      "needs_background": "light"
     },
     "output_type": "display_data"
    }
   ],
   "source": [
    "y_train_new, error_train_array = flip_random_labels(y_train, frac=0.4)\n",
    "crf.fit(X_train, y_train_new)\n",
    "y_train_pred_probs = crf.predict_marginals(X_train)\n",
    "scores = score_mislabeled(y_train_new, y_train_pred_probs)\n",
    "kfold_scores = score_kfold(X_train, y_train_new, k=2)\n",
    "\n",
    "random_list, method_list, optimal_list = get_performance(scores, error_train_array, num_to_inspect=600000)\n",
    "_, kfold_list, _ = get_performance(kfold_scores, error_train_array, num_to_inspect=600000)\n",
    "\n",
    "n = len(random_list)\n",
    "\n",
    "plt.plot(range(n), random_list, 'k--', label='Random')\n",
    "plt.plot(range(n), method_list, label='LNO')\n",
    "plt.plot(range(n), kfold_list, label='k=2')\n",
    "plt.plot(range(n), optimal_list, label='Optimal')\n",
    "plt.legend()"
   ]
  },
  {
   "cell_type": "markdown",
   "metadata": {},
   "source": [
    "Out of curiosity..."
   ]
  },
  {
   "cell_type": "code",
   "execution_count": 157,
   "metadata": {},
   "outputs": [
    {
     "name": "stdout",
     "output_type": "stream",
     "text": [
      "0.4244156846555517\n"
     ]
    }
   ],
   "source": [
    "y_pred = crf.predict(X_test)\n",
    "f1_score = flat_f1_score(y_test, y_pred, average = 'macro')\n",
    "print(f1_score)"
   ]
  },
  {
   "cell_type": "markdown",
   "metadata": {},
   "source": [
    "# More Systematic Mislabeling"
   ]
  },
  {
   "cell_type": "markdown",
   "metadata": {},
   "source": [
    "## 'Missing' Labels (Things get labeled as O)"
   ]
  },
  {
   "cell_type": "markdown",
   "metadata": {},
   "source": [
    "* The `B-x`is randomly flipped to a different `O`, and all of the following `I-x` are flipped as well to `O`"
   ]
  },
  {
   "cell_type": "code",
   "execution_count": 309,
   "metadata": {},
   "outputs": [],
   "source": [
    "import copy, random\n",
    "\n",
    "def insert_missing_labels(y, frac=0.25):\n",
    "    y_new = []\n",
    "    error_array = []\n",
    "    \n",
    "    counter = 0\n",
    "    \n",
    "    for i in range(len(y)):\n",
    "        error_array.append(list())\n",
    "        y_new.append(list())\n",
    "        change_tag = False\n",
    "        \n",
    "        for j in range(len(y[i])):\n",
    "            current_tag = y[i][j]\n",
    "\n",
    "            if current_tag == 'O' and change_tag:  # stop flipping Ix --> Iy\n",
    "                change_tag = False\n",
    "                \n",
    "            if change_tag and (current_tag.startswith('I-')):  # Ix --> Iy if a Bx tag has been changed to By\n",
    "                y_new[i].append('O')\n",
    "                error_array[i].append(True)\n",
    "                continue                \n",
    "            \n",
    "            \n",
    "            if not(current_tag == 'O') and np.random.random() < frac:\n",
    "                error_array[i].append(True)\n",
    "                y_new[i].append('O')\n",
    "                change_tag = True\n",
    "            else:\n",
    "                error_array[i].append(False)\n",
    "                y_new[i].append(current_tag)\n",
    "        \n",
    "    return y_new, error_array"
   ]
  },
  {
   "cell_type": "code",
   "execution_count": 310,
   "metadata": {},
   "outputs": [],
   "source": [
    "y_train_new, error_train_array = insert_missing_labels(y_train, frac=0.1)"
   ]
  },
  {
   "cell_type": "code",
   "execution_count": 311,
   "metadata": {},
   "outputs": [
    {
     "name": "stdout",
     "output_type": "stream",
     "text": [
      "Num tags: 839711\n",
      "Num errs: 17774\n"
     ]
    },
    {
     "data": {
      "text/plain": [
       "0.02116680619879935"
      ]
     },
     "execution_count": 311,
     "metadata": {},
     "output_type": "execute_result"
    }
   ],
   "source": [
    "t = sum([len(a) for a in error_train_array]); print('Num tags:', t)\n",
    "e = sum([sum(a) for a in error_train_array]); print('Num errs:', e)\n",
    "e/t"
   ]
  },
  {
   "cell_type": "code",
   "execution_count": 312,
   "metadata": {},
   "outputs": [
    {
     "name": "stdout",
     "output_type": "stream",
     "text": [
      "num samples: 38367\n",
      "2 folds: 0 1 "
     ]
    },
    {
     "data": {
      "text/plain": [
       "<matplotlib.legend.Legend at 0x1cfd7cd2dd8>"
      ]
     },
     "execution_count": 312,
     "metadata": {},
     "output_type": "execute_result"
    },
    {
     "data": {
      "image/png": "[encoded data removed]",
      "text/plain": [
       "<Figure size 432x288 with 1 Axes>"
      ]
     },
     "metadata": {
      "needs_background": "light"
     },
     "output_type": "display_data"
    }
   ],
   "source": [
    "crf.fit(X_train, y_train_new)\n",
    "y_train_pred_probs = crf.predict_marginals(X_train)\n",
    "scores = score_mislabeled(y_train_new, y_train_pred_probs)\n",
    "kfold_scores = score_kfold(X_train, y_train_new, k=2)\n",
    "\n",
    "random_list, method_list, optimal_list = get_performance(scores, error_train_array, num_to_inspect=50000)\n",
    "_, kfold_list, _ = get_performance(kfold_scores, error_train_array, num_to_inspect=50000)\n",
    "\n",
    "n = len(random_list)\n",
    "\n",
    "plt.plot(range(n), random_list, 'k--', label='Random')\n",
    "plt.plot(range(n), method_list, label='LNO')\n",
    "plt.plot(range(n), kfold_list, label='k=2')\n",
    "plt.plot(range(n), optimal_list, label='Optimal')\n",
    "plt.xlabel('Number of points inspected')\n",
    "plt.ylabel('Number of points detected')\n",
    "plt.title('Random missingness (10% of labels missing, effective 2% noise)')\n",
    "plt.legend()"
   ]
  },
  {
   "cell_type": "markdown",
   "metadata": {},
   "source": [
    "#### 25%"
   ]
  },
  {
   "cell_type": "code",
   "execution_count": 184,
   "metadata": {},
   "outputs": [
    {
     "name": "stdout",
     "output_type": "stream",
     "text": [
      "num samples: 38367\n",
      "2 folds: 0 1 "
     ]
    },
    {
     "data": {
      "text/plain": [
       "<matplotlib.legend.Legend at 0x1d0a189ee48>"
      ]
     },
     "execution_count": 184,
     "metadata": {},
     "output_type": "execute_result"
    },
    {
     "data": {
      "image/png": "[encoded data removed]",
      "text/plain": [
       "<Figure size 432x288 with 1 Axes>"
      ]
     },
     "metadata": {
      "needs_background": "light"
     },
     "output_type": "display_data"
    }
   ],
   "source": [
    "y_train_new, error_train_array = insert_missing_labels(y_train, frac=0.25)\n",
    "crf.fit(X_train, y_train_new)\n",
    "y_train_pred_probs = crf.predict_marginals(X_train)\n",
    "scores = score_mislabeled(y_train_new, y_train_pred_probs)\n",
    "kfold_scores = score_kfold(X_train, y_train_new, k=2)\n",
    "\n",
    "random_list, method_list, optimal_list = get_performance(scores, error_train_array, num_to_inspect=100000)\n",
    "_, kfold_list, _ = get_performance(kfold_scores, error_train_array, num_to_inspect=100000)\n",
    "\n",
    "n = len(random_list)\n",
    "\n",
    "plt.plot(range(n), random_list, 'k--', label='Random')\n",
    "plt.plot(range(n), method_list, label='LNO')\n",
    "plt.plot(range(n), kfold_list, label='k=2')\n",
    "plt.plot(range(n), optimal_list, label='Optimal')\n",
    "plt.legend()"
   ]
  },
  {
   "cell_type": "code",
   "execution_count": 185,
   "metadata": {},
   "outputs": [
    {
     "name": "stdout",
     "output_type": "stream",
     "text": [
      "0.52418645662776\n"
     ]
    }
   ],
   "source": [
    "y_pred = crf.predict(X_test)\n",
    "f1_score = flat_f1_score(y_test, y_pred, average = 'macro')\n",
    "print(f1_score)"
   ]
  },
  {
   "cell_type": "code",
   "execution_count": 186,
   "metadata": {},
   "outputs": [
    {
     "name": "stdout",
     "output_type": "stream",
     "text": [
      "Num tags: 839711\n",
      "Num errs: 42391\n"
     ]
    },
    {
     "data": {
      "text/plain": [
       "0.05048284469299557"
      ]
     },
     "execution_count": 186,
     "metadata": {},
     "output_type": "execute_result"
    }
   ],
   "source": [
    "t = sum([len(a) for a in error_train_array]); print('Num tags:', t)\n",
    "e = sum([sum(a) for a in error_train_array]); print('Num errs:', e)\n",
    "e/t"
   ]
  },
  {
   "cell_type": "markdown",
   "metadata": {},
   "source": [
    "## 'Low-Resolution' Labels (Some Surrounding Words Get Tagged)"
   ]
  },
  {
   "cell_type": "markdown",
   "metadata": {},
   "source": [
    "* extended 50% of tags by 3 words on either side"
   ]
  },
  {
   "cell_type": "code",
   "execution_count": 313,
   "metadata": {},
   "outputs": [],
   "source": [
    "import copy, random\n",
    "\n",
    "def blur_labels(y, frac=0.25):\n",
    "    y_new = []\n",
    "    error_array = []\n",
    "    \n",
    "    counter = 0\n",
    "    \n",
    "    for i in range(len(y)):\n",
    "        error_array.append(list())\n",
    "        y_new.append(list())\n",
    "        change_steps = 0\n",
    "        change_to = None\n",
    "        \n",
    "        for j in range(len(y[i])):\n",
    "            current_tag = y[i][j]\n",
    "            if change_steps > 0:\n",
    "                change_steps -= 1\n",
    "                y_new[i].append(change_to)\n",
    "                error_array[i].append(True)\n",
    "                continue\n",
    "            \n",
    "            if current_tag.startswith('B') and np.random.random() < frac and j >= 3:\n",
    "                new_tag = current_tag.replace('B', 'I')\n",
    "                y_new[i][j - 3] = current_tag; error_array[i][j-3] = True\n",
    "                y_new[i][j - 2] = new_tag; error_array[i][j-2] = True\n",
    "                y_new[i][j - 1] = new_tag; error_array[i][j-1] = True\n",
    "                y_new[i].append(new_tag); \n",
    "                error_array[i].append(False)\n",
    "                \n",
    "                if (len(y[i])-j)>3 and not(current_tag=='O') and y[i][j+1] == 'O' and np.random.random() < frac:\n",
    "                    change_to = current_tag.replace('B', 'I')\n",
    "                    change_steps = 3\n",
    "                \n",
    "                continue\n",
    "            \n",
    "            if (len(y[i])-j)>3 and not(current_tag=='O') and y[i][j+1] == 'O' and np.random.random() < frac:\n",
    "                change_to = current_tag.replace('B', 'I')\n",
    "                change_steps = 3\n",
    "                y_new[i].append(current_tag); \n",
    "                error_array[i].append(False)\n",
    "                continue\n",
    "            \n",
    "            error_array[i].append(False)\n",
    "            y_new[i].append(current_tag)\n",
    "        \n",
    "    return y_new, error_array"
   ]
  },
  {
   "cell_type": "code",
   "execution_count": 314,
   "metadata": {},
   "outputs": [],
   "source": [
    "y_train_new, error_train_array = blur_labels(y_train, frac=0.25)"
   ]
  },
  {
   "cell_type": "code",
   "execution_count": 316,
   "metadata": {},
   "outputs": [
    {
     "name": "stdout",
     "output_type": "stream",
     "text": [
      "Num tags: 839711\n",
      "Num errs: 95655\n"
     ]
    },
    {
     "data": {
      "text/plain": [
       "0.11391419190650116"
      ]
     },
     "execution_count": 316,
     "metadata": {},
     "output_type": "execute_result"
    }
   ],
   "source": [
    "t = sum([len(a) for a in error_train_array]); print('Num tags:', t)\n",
    "e = sum([sum(a) for a in error_train_array]); print('Num errs:', e)\n",
    "e/t"
   ]
  },
  {
   "cell_type": "code",
   "execution_count": 272,
   "metadata": {},
   "outputs": [
    {
     "name": "stdout",
     "output_type": "stream",
     "text": [
      "num samples: 38367\n",
      "2 folds: 0 1 "
     ]
    },
    {
     "data": {
      "text/plain": [
       "<matplotlib.legend.Legend at 0x1d05015ef98>"
      ]
     },
     "execution_count": 272,
     "metadata": {},
     "output_type": "execute_result"
    },
    {
     "data": {
      "image/png": "[encoded data removed]",
      "text/plain": [
       "<Figure size 432x288 with 1 Axes>"
      ]
     },
     "metadata": {
      "needs_background": "light"
     },
     "output_type": "display_data"
    }
   ],
   "source": [
    "crf.fit(X_train, y_train_new)\n",
    "y_train_pred_probs = crf.predict_marginals(X_train)\n",
    "scores = score_mislabeled(y_train_new, y_train_pred_probs)\n",
    "kfold_scores = score_kfold(X_train, y_train_new, k=2)\n",
    "\n",
    "random_list, method_list, optimal_list = get_performance(scores, error_train_array, num_to_inspect=100000)\n",
    "_, kfold_list, _ = get_performance(kfold_scores, error_train_array, num_to_inspect=100000)\n",
    "\n",
    "n = len(random_list)\n",
    "\n",
    "plt.plot(range(n), random_list, 'k--', label='Random')\n",
    "plt.plot(range(n), method_list, label='LNO')\n",
    "plt.plot(range(n), kfold_list, label='k=2')\n",
    "plt.plot(range(n), optimal_list, label='Optimal')\n",
    "plt.legend()"
   ]
  },
  {
   "cell_type": "code",
   "execution_count": 275,
   "metadata": {},
   "outputs": [
    {
     "data": {
      "text/plain": [
       "<matplotlib.legend.Legend at 0x1cf9efd3f28>"
      ]
     },
     "execution_count": 275,
     "metadata": {},
     "output_type": "execute_result"
    },
    {
     "data": {
      "image/png": "[encoded data removed]",
      "text/plain": [
       "<Figure size 432x288 with 1 Axes>"
      ]
     },
     "metadata": {
      "needs_background": "light"
     },
     "output_type": "display_data"
    }
   ],
   "source": [
    "random_list, method_list, optimal_list = get_performance(scores, error_train_array, num_to_inspect=160000)\n",
    "_, kfold_list, _ = get_performance(kfold_scores, error_train_array, num_to_inspect=160000)\n",
    "\n",
    "n = len(random_list)\n",
    "\n",
    "plt.plot(range(n), random_list, 'k--', label='Random')\n",
    "plt.plot(range(n), method_list, label='LNO')\n",
    "plt.plot(range(n), kfold_list, label='k=2')\n",
    "plt.plot(range(n), optimal_list, label='Optimal')\n",
    "plt.legend()"
   ]
  },
  {
   "cell_type": "code",
   "execution_count": 273,
   "metadata": {},
   "outputs": [
    {
     "name": "stdout",
     "output_type": "stream",
     "text": [
      "0.44994844103544074\n"
     ]
    }
   ],
   "source": [
    "y_pred = crf.predict(X_test)\n",
    "f1_score = flat_f1_score(y_test, y_pred, average = 'macro')\n",
    "print(f1_score)"
   ]
  }
 ],
 "metadata": {
  "kernelspec": {
   "display_name": "Python 3",
   "language": "python",
   "name": "python3"
  },
  "language_info": {
   "codemirror_mode": {
    "name": "ipython",
    "version": 3
   },
   "file_extension": ".py",
   "mimetype": "text/x-python",
   "name": "python",
   "nbconvert_exporter": "python",
   "pygments_lexer": "ipython3",
   "version": "3.7.3"
  }
 },
 "nbformat": 4,
 "nbformat_minor": 2
}
