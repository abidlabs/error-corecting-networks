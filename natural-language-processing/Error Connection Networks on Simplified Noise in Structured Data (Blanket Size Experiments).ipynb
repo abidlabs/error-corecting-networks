{
 "cells": [
  {
   "cell_type": "code",
   "execution_count": 1,
   "metadata": {},
   "outputs": [],
   "source": [
    "import pandas as pd\n",
    "import numpy as np\n",
    "import matplotlib.pyplot as plt\n",
    "\n",
    "from sklearn.model_selection import train_test_split\n",
    "from sklearn_crfsuite import CRF\n",
    "from sklearn_crfsuite.metrics import flat_f1_score\n",
    "from sklearn_crfsuite.metrics import flat_classification_report\n",
    "\n",
    "from nltk.tokenize.treebank import TreebankWordDetokenizer\n",
    "%matplotlib inline"
   ]
  },
  {
   "cell_type": "markdown",
   "metadata": {},
   "source": [
    "# Downloading and Preprocessing the Data"
   ]
  },
  {
   "cell_type": "code",
   "execution_count": 2,
   "metadata": {},
   "outputs": [
    {
     "data": {
      "text/html": [
       "<div>\n",
       "<style scoped>\n",
       "    .dataframe tbody tr th:only-of-type {\n",
       "        vertical-align: middle;\n",
       "    }\n",
       "\n",
       "    .dataframe tbody tr th {\n",
       "        vertical-align: top;\n",
       "    }\n",
       "\n",
       "    .dataframe thead th {\n",
       "        text-align: right;\n",
       "    }\n",
       "</style>\n",
       "<table border=\"1\" class=\"dataframe\">\n",
       "  <thead>\n",
       "    <tr style=\"text-align: right;\">\n",
       "      <th></th>\n",
       "      <th>Sentence #</th>\n",
       "      <th>Word</th>\n",
       "      <th>POS</th>\n",
       "      <th>Tag</th>\n",
       "    </tr>\n",
       "  </thead>\n",
       "  <tbody>\n",
       "    <tr>\n",
       "      <th>count</th>\n",
       "      <td>47959</td>\n",
       "      <td>1048575</td>\n",
       "      <td>1048575</td>\n",
       "      <td>1048575</td>\n",
       "    </tr>\n",
       "    <tr>\n",
       "      <th>unique</th>\n",
       "      <td>47959</td>\n",
       "      <td>35178</td>\n",
       "      <td>42</td>\n",
       "      <td>17</td>\n",
       "    </tr>\n",
       "    <tr>\n",
       "      <th>top</th>\n",
       "      <td>Sentence: 41951</td>\n",
       "      <td>the</td>\n",
       "      <td>NN</td>\n",
       "      <td>O</td>\n",
       "    </tr>\n",
       "    <tr>\n",
       "      <th>freq</th>\n",
       "      <td>1</td>\n",
       "      <td>52573</td>\n",
       "      <td>145807</td>\n",
       "      <td>887908</td>\n",
       "    </tr>\n",
       "  </tbody>\n",
       "</table>\n",
       "</div>"
      ],
      "text/plain": [
       "             Sentence #     Word      POS      Tag\n",
       "count             47959  1048575  1048575  1048575\n",
       "unique            47959    35178       42       17\n",
       "top     Sentence: 41951      the       NN        O\n",
       "freq                  1    52573   145807   887908"
      ]
     },
     "execution_count": 2,
     "metadata": {},
     "output_type": "execute_result"
    }
   ],
   "source": [
    "df = pd.read_csv('../data/ner_dataset.csv', encoding = \"ISO-8859-1\")\n",
    "df.describe()"
   ]
  },
  {
   "cell_type": "code",
   "execution_count": 3,
   "metadata": {},
   "outputs": [
    {
     "data": {
      "text/html": [
       "<div>\n",
       "<style scoped>\n",
       "    .dataframe tbody tr th:only-of-type {\n",
       "        vertical-align: middle;\n",
       "    }\n",
       "\n",
       "    .dataframe tbody tr th {\n",
       "        vertical-align: top;\n",
       "    }\n",
       "\n",
       "    .dataframe thead th {\n",
       "        text-align: right;\n",
       "    }\n",
       "</style>\n",
       "<table border=\"1\" class=\"dataframe\">\n",
       "  <thead>\n",
       "    <tr style=\"text-align: right;\">\n",
       "      <th></th>\n",
       "      <th>Sentence #</th>\n",
       "      <th>Word</th>\n",
       "      <th>POS</th>\n",
       "      <th>Tag</th>\n",
       "    </tr>\n",
       "  </thead>\n",
       "  <tbody>\n",
       "    <tr>\n",
       "      <th>0</th>\n",
       "      <td>Sentence: 1</td>\n",
       "      <td>Thousands</td>\n",
       "      <td>NNS</td>\n",
       "      <td>O</td>\n",
       "    </tr>\n",
       "    <tr>\n",
       "      <th>1</th>\n",
       "      <td>NaN</td>\n",
       "      <td>of</td>\n",
       "      <td>IN</td>\n",
       "      <td>O</td>\n",
       "    </tr>\n",
       "    <tr>\n",
       "      <th>2</th>\n",
       "      <td>NaN</td>\n",
       "      <td>demonstrators</td>\n",
       "      <td>NNS</td>\n",
       "      <td>O</td>\n",
       "    </tr>\n",
       "    <tr>\n",
       "      <th>3</th>\n",
       "      <td>NaN</td>\n",
       "      <td>have</td>\n",
       "      <td>VBP</td>\n",
       "      <td>O</td>\n",
       "    </tr>\n",
       "    <tr>\n",
       "      <th>4</th>\n",
       "      <td>NaN</td>\n",
       "      <td>marched</td>\n",
       "      <td>VBN</td>\n",
       "      <td>O</td>\n",
       "    </tr>\n",
       "    <tr>\n",
       "      <th>5</th>\n",
       "      <td>NaN</td>\n",
       "      <td>through</td>\n",
       "      <td>IN</td>\n",
       "      <td>O</td>\n",
       "    </tr>\n",
       "    <tr>\n",
       "      <th>6</th>\n",
       "      <td>NaN</td>\n",
       "      <td>London</td>\n",
       "      <td>NNP</td>\n",
       "      <td>B-geo</td>\n",
       "    </tr>\n",
       "    <tr>\n",
       "      <th>7</th>\n",
       "      <td>NaN</td>\n",
       "      <td>to</td>\n",
       "      <td>TO</td>\n",
       "      <td>O</td>\n",
       "    </tr>\n",
       "    <tr>\n",
       "      <th>8</th>\n",
       "      <td>NaN</td>\n",
       "      <td>protest</td>\n",
       "      <td>VB</td>\n",
       "      <td>O</td>\n",
       "    </tr>\n",
       "    <tr>\n",
       "      <th>9</th>\n",
       "      <td>NaN</td>\n",
       "      <td>the</td>\n",
       "      <td>DT</td>\n",
       "      <td>O</td>\n",
       "    </tr>\n",
       "  </tbody>\n",
       "</table>\n",
       "</div>"
      ],
      "text/plain": [
       "    Sentence #           Word  POS    Tag\n",
       "0  Sentence: 1      Thousands  NNS      O\n",
       "1          NaN             of   IN      O\n",
       "2          NaN  demonstrators  NNS      O\n",
       "3          NaN           have  VBP      O\n",
       "4          NaN        marched  VBN      O\n",
       "5          NaN        through   IN      O\n",
       "6          NaN         London  NNP  B-geo\n",
       "7          NaN             to   TO      O\n",
       "8          NaN        protest   VB      O\n",
       "9          NaN            the   DT      O"
      ]
     },
     "execution_count": 3,
     "metadata": {},
     "output_type": "execute_result"
    }
   ],
   "source": [
    "df.head(10)"
   ]
  },
  {
   "cell_type": "code",
   "execution_count": 4,
   "metadata": {},
   "outputs": [
    {
     "name": "stdout",
     "output_type": "stream",
     "text": [
      "['O' 'B-geo' 'B-gpe' 'B-per' 'I-geo' 'B-org' 'I-org' 'B-tim' 'B-art'\n",
      " 'I-art' 'I-per' 'I-gpe' 'I-tim' 'B-nat' 'B-eve' 'I-eve' 'I-nat']\n"
     ]
    }
   ],
   "source": [
    "print(df['Tag'].unique())"
   ]
  },
  {
   "cell_type": "code",
   "execution_count": 5,
   "metadata": {},
   "outputs": [],
   "source": [
    "df = df.fillna(method = 'ffill')"
   ]
  },
  {
   "cell_type": "code",
   "execution_count": 6,
   "metadata": {},
   "outputs": [],
   "source": [
    "# This is a class te get sentence. The each sentence will be list of tuples with its tag and pos.\n",
    "class sentence(object):\n",
    "    def __init__(self, df):\n",
    "        self.n_sent = 1\n",
    "        self.df = df\n",
    "        self.empty = False\n",
    "        agg = lambda s : [(w, p, t) for w, p, t in zip(s['Word'].values.tolist(),\n",
    "                                                       s['POS'].values.tolist(),\n",
    "                                                       s['Tag'].values.tolist())]\n",
    "        self.grouped = self.df.groupby(\"Sentence #\").apply(agg)\n",
    "        self.sentences = [s for s in self.grouped]\n",
    "        \n",
    "    def get_text(self):\n",
    "        try:\n",
    "            s = self.grouped['Sentence: {}'.format(self.n_sent)]\n",
    "            self.n_sent +=1\n",
    "            return s\n",
    "        except:\n",
    "            return None"
   ]
  },
  {
   "cell_type": "code",
   "execution_count": 7,
   "metadata": {},
   "outputs": [
    {
     "data": {
      "text/plain": [
       "'Thousands of demonstrators have marched through London to protest the war in Iraq and demand the withdrawal of British troops from that country .'"
      ]
     },
     "execution_count": 7,
     "metadata": {},
     "output_type": "execute_result"
    }
   ],
   "source": [
    "#Displaying one full sentence\n",
    "getter = sentence(df)\n",
    "sentences = [\" \".join([s[0] for s in sent]) for sent in getter.sentences]\n",
    "sentences[0]"
   ]
  },
  {
   "cell_type": "code",
   "execution_count": 8,
   "metadata": {},
   "outputs": [
    {
     "name": "stdout",
     "output_type": "stream",
     "text": [
      "[('Thousands', 'NNS', 'O'), ('of', 'IN', 'O'), ('demonstrators', 'NNS', 'O'), ('have', 'VBP', 'O'), ('marched', 'VBN', 'O'), ('through', 'IN', 'O'), ('London', 'NNP', 'B-geo'), ('to', 'TO', 'O'), ('protest', 'VB', 'O'), ('the', 'DT', 'O'), ('war', 'NN', 'O'), ('in', 'IN', 'O'), ('Iraq', 'NNP', 'B-geo'), ('and', 'CC', 'O'), ('demand', 'VB', 'O'), ('the', 'DT', 'O'), ('withdrawal', 'NN', 'O'), ('of', 'IN', 'O'), ('British', 'JJ', 'B-gpe'), ('troops', 'NNS', 'O'), ('from', 'IN', 'O'), ('that', 'DT', 'O'), ('country', 'NN', 'O'), ('.', '.', 'O')]\n"
     ]
    }
   ],
   "source": [
    "sent = getter.get_text()\n",
    "print(sent)"
   ]
  },
  {
   "cell_type": "code",
   "execution_count": 9,
   "metadata": {},
   "outputs": [],
   "source": [
    "sentences = getter.sentences"
   ]
  },
  {
   "cell_type": "code",
   "execution_count": 10,
   "metadata": {},
   "outputs": [],
   "source": [
    "def word2features(sent, i):\n",
    "    word = sent[i][0]\n",
    "    postag = sent[i][1]\n",
    "\n",
    "    features = {\n",
    "        'bias': 1.0,\n",
    "        'word.lower()': word.lower(),\n",
    "        'word[-3:]': word[-3:],\n",
    "        'word[-2:]': word[-2:],\n",
    "        'word.isupper()': word.isupper(),\n",
    "        'word.istitle()': word.istitle(),\n",
    "        'word.isdigit()': word.isdigit(),\n",
    "        'postag': postag,\n",
    "        'postag[:2]': postag[:2],\n",
    "    }\n",
    "    if i > 0:\n",
    "        word1 = sent[i-1][0]\n",
    "        postag1 = sent[i-1][1]\n",
    "        features.update({\n",
    "            '-1:word.lower()': word1.lower(),\n",
    "            '-1:word.istitle()': word1.istitle(),\n",
    "            '-1:word.isupper()': word1.isupper(),\n",
    "            '-1:postag': postag1,\n",
    "            '-1:postag[:2]': postag1[:2],\n",
    "        })\n",
    "    else:\n",
    "        features['BOS'] = True\n",
    "\n",
    "    if i < len(sent)-1:\n",
    "        word1 = sent[i+1][0]\n",
    "        postag1 = sent[i+1][1]\n",
    "        features.update({\n",
    "            '+1:word.lower()': word1.lower(),\n",
    "            '+1:word.istitle()': word1.istitle(),\n",
    "            '+1:word.isupper()': word1.isupper(),\n",
    "            '+1:postag': postag1,\n",
    "            '+1:postag[:2]': postag1[:2],\n",
    "        })\n",
    "    else:\n",
    "        features['EOS'] = True\n",
    "\n",
    "    return features\n",
    "\n",
    "\n",
    "def sent2features(sent):\n",
    "    return [word2features(sent, i) for i in range(len(sent))]\n",
    "\n",
    "def sent2labels(sent):\n",
    "    return [label for token, postag, label in sent]\n",
    "\n",
    "def sent2tokens(sent):\n",
    "    return [token for token, postag, label in sent]"
   ]
  },
  {
   "cell_type": "code",
   "execution_count": 11,
   "metadata": {},
   "outputs": [],
   "source": [
    "reduced_tag_set = ['B-geo', 'B-gpe', 'B-org', 'B-per', 'B-tim', 'I-geo',\n",
    "                   'I-gpe', 'I-org', 'I-per', 'I-tim', 'O']"
   ]
  },
  {
   "cell_type": "code",
   "execution_count": 90,
   "metadata": {},
   "outputs": [],
   "source": [
    "X = [sent2features(s) for s in sentences]\n",
    "y = [sent2labels(s) for s in sentences]\n",
    "y = [[label if label in reduced_tag_set else 'O' for label in y_i] for y_i in y]  # reduce tag set"
   ]
  },
  {
   "cell_type": "code",
   "execution_count": 91,
   "metadata": {},
   "outputs": [],
   "source": [
    "X_train, X_test, y_train, y_test = train_test_split(X, y, test_size = 0.2)\n",
    "X_train, X_val, y_train, y_val = train_test_split(X_train, y_train, test_size = 0.025)"
   ]
  },
  {
   "cell_type": "code",
   "execution_count": 14,
   "metadata": {},
   "outputs": [],
   "source": [
    "crf = CRF(algorithm = 'lbfgs',\n",
    "         c1 = 0.1,\n",
    "         c2 = 0.1,\n",
    "         max_iterations = 100,\n",
    "         all_possible_transitions = False)"
   ]
  },
  {
   "cell_type": "markdown",
   "metadata": {},
   "source": [
    "# GMB-Simple-Blurry"
   ]
  },
  {
   "cell_type": "code",
   "execution_count": 92,
   "metadata": {},
   "outputs": [],
   "source": [
    "import copy, random\n",
    "\n",
    "def blur_labels(y, frac=0.25):\n",
    "    y_new = []\n",
    "    error_array = []\n",
    "    \n",
    "    counter = 0\n",
    "    \n",
    "    for i in range(len(y)):\n",
    "        error_array.append(list())\n",
    "        y_new.append(list())\n",
    "        change_steps = 0\n",
    "        change_to = None\n",
    "        \n",
    "        for j in range(len(y[i])):\n",
    "            \n",
    "            current_tag = y[i][j]\n",
    "            if current_tag=='B-geo' and  j >= 3:\n",
    "                for k in range(3):\n",
    "                    y_new[i][j - k - 1] = current_tag\n",
    "                    error_array[i][j - k - 1] = True\n",
    "                \n",
    "                y_new[i].append(current_tag)\n",
    "                error_array[i].append(False)\n",
    "            else:\n",
    "                error_array[i].append(False)\n",
    "                y_new[i].append(current_tag)\n",
    "        \n",
    "    return y_new, error_array"
   ]
  },
  {
   "cell_type": "code",
   "execution_count": 93,
   "metadata": {},
   "outputs": [],
   "source": [
    "y_train_new, error_train_array = blur_labels(y_train)"
   ]
  },
  {
   "cell_type": "code",
   "execution_count": 94,
   "metadata": {},
   "outputs": [
    {
     "name": "stdout",
     "output_type": "stream",
     "text": [
      "Num tags: 818759\n",
      "Num errs: 72683\n"
     ]
    },
    {
     "data": {
      "text/plain": [
       "0.08877215395494889"
      ]
     },
     "execution_count": 94,
     "metadata": {},
     "output_type": "execute_result"
    }
   ],
   "source": [
    "t = sum([len(a) for a in error_train_array]); print('Num tags:', t)\n",
    "e = sum([sum(a) for a in error_train_array]); print('Num errs:', e)\n",
    "e/t"
   ]
  },
  {
   "cell_type": "code",
   "execution_count": 95,
   "metadata": {},
   "outputs": [
    {
     "name": "stdout",
     "output_type": "stream",
     "text": [
      "37407\n"
     ]
    }
   ],
   "source": [
    "print(len(X_train))"
   ]
  },
  {
   "cell_type": "code",
   "execution_count": 19,
   "metadata": {},
   "outputs": [
    {
     "name": "stdout",
     "output_type": "stream",
     "text": [
      "0.8483061494875579\n"
     ]
    }
   ],
   "source": [
    "crf.fit(X_train, y_train)\n",
    "y_pred = crf.predict(X_test)\n",
    "f1_score = flat_f1_score(y_test, y_pred, average = 'macro')\n",
    "print(f1_score)"
   ]
  },
  {
   "cell_type": "code",
   "execution_count": 20,
   "metadata": {},
   "outputs": [
    {
     "name": "stdout",
     "output_type": "stream",
     "text": [
      "              precision    recall  f1-score   support\n",
      "\n",
      "       B-geo       0.85      0.91      0.88      7526\n",
      "       B-gpe       0.97      0.94      0.95      3172\n",
      "       B-org       0.81      0.72      0.76      4024\n",
      "       B-per       0.85      0.84      0.84      3420\n",
      "       B-tim       0.93      0.88      0.90      4089\n",
      "       I-geo       0.81      0.79      0.80      1522\n",
      "       I-gpe       0.96      0.59      0.73        37\n",
      "       I-org       0.83      0.78      0.80      3260\n",
      "       I-per       0.84      0.91      0.87      3484\n",
      "       I-tim       0.83      0.75      0.79      1283\n",
      "           O       0.99      0.99      0.99    177544\n",
      "\n",
      "   micro avg       0.97      0.97      0.97    209361\n",
      "   macro avg       0.88      0.83      0.85    209361\n",
      "weighted avg       0.97      0.97      0.97    209361\n",
      "\n"
     ]
    }
   ],
   "source": [
    "report = flat_classification_report(y_test, y_pred, output_dict=True)\n",
    "clean_precision, clean_recall, clean_f1 = report['B-geo']['precision'], report['B-geo']['recall'], report['B-geo']['f1-score'] \n",
    "print(flat_classification_report(y_test, y_pred))"
   ]
  },
  {
   "cell_type": "code",
   "execution_count": 21,
   "metadata": {},
   "outputs": [
    {
     "name": "stdout",
     "output_type": "stream",
     "text": [
      "0.776479596400982\n"
     ]
    }
   ],
   "source": [
    "crf.fit(X_train, y_train_new)\n",
    "y_pred = crf.predict(X_test)\n",
    "f1_score = flat_f1_score(y_test, y_pred, average = 'macro')\n",
    "print(f1_score)"
   ]
  },
  {
   "cell_type": "code",
   "execution_count": 22,
   "metadata": {},
   "outputs": [
    {
     "name": "stdout",
     "output_type": "stream",
     "text": [
      "              precision    recall  f1-score   support\n",
      "\n",
      "       B-geo       0.27      0.87      0.41      7526\n",
      "       B-gpe       0.96      0.89      0.93      3172\n",
      "       B-org       0.76      0.71      0.73      4024\n",
      "       B-per       0.84      0.81      0.82      3420\n",
      "       B-tim       0.92      0.82      0.87      4089\n",
      "       I-geo       0.85      0.62      0.71      1522\n",
      "       I-gpe       0.92      0.59      0.72        37\n",
      "       I-org       0.79      0.76      0.78      3260\n",
      "       I-per       0.84      0.85      0.85      3484\n",
      "       I-tim       0.83      0.73      0.78      1283\n",
      "           O       0.99      0.91      0.95    177544\n",
      "\n",
      "   micro avg       0.89      0.89      0.89    209361\n",
      "   macro avg       0.82      0.78      0.78    209361\n",
      "weighted avg       0.95      0.89      0.91    209361\n",
      "\n"
     ]
    }
   ],
   "source": [
    "report = flat_classification_report(y_test, y_pred, output_dict=True)\n",
    "dirty_precision, dirty_recall, dirty_f1 = report['B-geo']['precision'], report['B-geo']['recall'], report['B-geo']['f1-score'] \n",
    "print(flat_classification_report(y_test, y_pred))"
   ]
  },
  {
   "cell_type": "markdown",
   "metadata": {},
   "source": [
    "# Understanding the Mistakes"
   ]
  },
  {
   "cell_type": "markdown",
   "metadata": {},
   "source": [
    "### Seeing the training data"
   ]
  },
  {
   "cell_type": "code",
   "execution_count": 23,
   "metadata": {},
   "outputs": [
    {
     "name": "stdout",
     "output_type": "stream",
     "text": [
      "-MR. CHOLMONDELEY was charged with killing a plainclothes KENYAN game warden who was investigating allegations his ranch harbored illegal trade in game meat . \n",
      "-and the chairman of the U.S. JOINT CHIEFS OF STAFF GENERAL PETER PACE SUNDAY flatly denied recent media reports of a scheduled withdrawal of AMERICAN AND BRITISH forces . \n",
      "-the MONGOLS gained fame in the 13TH CENTURY when under CHINGGIS KHAAN they established a huge EURASIAN empire through conquest . \n",
      "-journalists in KENYA and abroad are urging KENYAN PRESIDENT MWAI KIBAKI to reject legislation that could require reporters to divulge their news sources . \n",
      "-one *ENDED *AFTER *A U.S. ship fired warning shots to deter the IRANIAN vessel . \n",
      "-he had previously been jailed and fined for his work . \n",
      "-RSF says the recently-detained journalists include photographers MAJID SAIDI and TOHID BIGHI , blogger HENGHAMEH SHAHIDI , and journalists SOMAIEH NOSRATI and SAID MATINPOUR . \n",
      "-the leaders are expected to use the summit , which opens MONDAY , to pressure rich countries for *MORE *ENGAGEMENT *IN AFRICA . \n",
      "-authorities say three villagers may have come into contact with the infected chicken , and are being isolated in a hospital . \n",
      "-PAKISTAN is estimated to have about 50 nuclear weapons . \n"
     ]
    }
   ],
   "source": [
    "for i in range(10):\n",
    "    print(\"-\", end=\"\")\n",
    "    for w, word in enumerate(X_train[i]):\n",
    "        word = word['word.lower()']\n",
    "        if error_train_array[i][w]:\n",
    "            print('*', end='')            \n",
    "        if y_train_new[i][w] == 'O':\n",
    "            print(word.lower(), end=' ')\n",
    "        else:\n",
    "            print(word.upper(), end=' ')            \n",
    "    print()"
   ]
  },
  {
   "cell_type": "markdown",
   "metadata": {},
   "source": [
    "### Seeing the predictions on the test data"
   ]
  },
  {
   "cell_type": "code",
   "execution_count": 24,
   "metadata": {},
   "outputs": [
    {
     "name": "stdout",
     "output_type": "stream",
     "text": [
      "-in last week 's elections , the opposition nationalists won 81 of the *113 *SEATS *IN TAIWAN 's legislature . \n",
      "-the court said in its decision WEDNESDAY that the principle of universal jurisdiction takes precedence over the existence , or not , of national interests . \n",
      "-NORTH KOREA has rejected a recent UNITED NATIONS resolution *THAT *CRITICIZED PYONGYANG 's human rights record . \n",
      "-fighting THURSDAY left 12 suspected TALEBAN militants *DEAD *IN *SOUTHERN NAWZAD district . \n",
      "-meanwhile , the *CHIEF U.S. negotiator at stalled nuclear talks , *CHRISTOPHER *HILL *, *SAYS NORTH KOREA is blocking progress in the negotiations . \n",
      "-all the goods were once driven out by the ills from that common share which they each had in the affairs of mankind ; for the ills by reason of their numbers had prevailed to possess the earth . \n",
      "-DEMOCRATIC PARTY officials say U.S. SENATOR CHRISTOPHER DODD of the *NORTHEASTERN *STATE *OF CONNECTICUT will seek the *2008 democratic presidential nomination . \n",
      "-in late *2010 *, COLOMBIA experienced its most severe flooding in decades , with damages estimated to exceed $ 6 billion . \n",
      "-traders worried that rejection of the controversial plan could hurt *U.S. economic growth , and cut demand for energy . \n",
      "-also WEDNESDAY , scientists with the *non-profit *WORLD WILDLIFE FUND rejected claims that the toxic slick poses less of a threat as it becomes diluted . \n"
     ]
    }
   ],
   "source": [
    "for i in range(10):\n",
    "    print(\"-\", end=\"\")\n",
    "    for w, word in enumerate(X_test[i]):\n",
    "        word = word['word.lower()']\n",
    "        if y_pred[i][w] != y_test[i][w]:\n",
    "            print('*', end='')\n",
    "            \n",
    "        if y_pred[i][w] == 'O':\n",
    "            print(word.lower(), end=' ')\n",
    "        else:\n",
    "            print(word.upper(), end=' ')            \n",
    "    print()"
   ]
  },
  {
   "cell_type": "markdown",
   "metadata": {},
   "source": [
    "# Let's Try to Fix the Mistakes"
   ]
  },
  {
   "cell_type": "markdown",
   "metadata": {},
   "source": [
    "For reference, the clean F1 is: **0.84** "
   ]
  },
  {
   "cell_type": "code",
   "execution_count": 25,
   "metadata": {},
   "outputs": [],
   "source": [
    "def measure_method(error_pred, error_array, X, y_corrected):\n",
    "    # measure what percent of errors are fixed\n",
    "    np = 0; nn=0; tp = 0; fp = 0;\n",
    "    for i in range(len(error_pred)):\n",
    "        for j in range(len(error_pred[i])):\n",
    "            if error_pred[i][j] and error_pred[i][j] == error_array[i][j]:\n",
    "                tp += 1\n",
    "            elif error_pred[i][j]:\n",
    "                fp += 1\n",
    "            if error_array[i][j]:\n",
    "                np += 1\n",
    "            else:\n",
    "                nn += 1\n",
    "\n",
    "    \n",
    "    print(\"TP errors detected: {}\".format(tp/np))\n",
    "    print(\"FP errors detected: {}\".format(fp/nn)) \n",
    "\n",
    "    # measure accuracy\n",
    "    crf.fit(X, y_corrected)\n",
    "    y_pred = crf.predict(X_test)\n",
    "    f1_score = flat_f1_score(y_test, y_pred, average = 'macro')\n",
    "    print(\"F1 score on trained model: {}\".format(f1_score))\n",
    "    \n",
    "    report = flat_classification_report(y_test, y_pred, output_dict=True)\n",
    "    precision, recall, f1 = report['B-geo']['precision'], report['B-geo']['recall'], report['B-geo']['f1-score'] \n",
    "    print(flat_classification_report(y_test, y_pred))\n",
    "\n",
    "    return precision, recall, f1"
   ]
  },
  {
   "cell_type": "markdown",
   "metadata": {},
   "source": [
    "## Pseudolabeled from Validation"
   ]
  },
  {
   "cell_type": "code",
   "execution_count": 26,
   "metadata": {},
   "outputs": [],
   "source": [
    "def pseudolabeled_on_validation(X_val, y_val):\n",
    "    \n",
    "    crf.fit(X_val, y_val)\n",
    "    y_pred = crf.predict(X_train)\n",
    "\n",
    "    error_pred = []\n",
    "    y_corrected = []\n",
    "\n",
    "    for i in range(len(y_pred)):    \n",
    "        error_pred.append([])\n",
    "        y_corrected.append([])\n",
    "\n",
    "        for j in range(len(y_pred[i])):\n",
    "            if not(y_pred[i][j]==y_train_new[i][j]):\n",
    "                error_pred[i].append(True)\n",
    "            else:\n",
    "                error_pred[i].append(False)\n",
    "\n",
    "    return measure_method(error_pred, error_train_array, X_train, y_pred)"
   ]
  },
  {
   "cell_type": "markdown",
   "metadata": {},
   "source": [
    "### GTC with X, y, neighboring y"
   ]
  },
  {
   "cell_type": "code",
   "execution_count": 96,
   "metadata": {},
   "outputs": [
    {
     "name": "stdout",
     "output_type": "stream",
     "text": [
      "dict_keys(['bias', 'word.lower()', 'word[-3:]', 'word[-2:]', 'word.isupper()', 'word.istitle()', 'word.isdigit()', 'postag', 'postag[:2]', 'BOS', '+1:word.lower()', '+1:word.istitle()', '+1:word.isupper()', '+1:postag', '+1:postag[:2]'])\n"
     ]
    },
    {
     "ename": "ZeroDivisionError",
     "evalue": "division by zero",
     "output_type": "error",
     "traceback": [
      "\u001b[1;31m---------------------------------------------------------------------------\u001b[0m",
      "\u001b[1;31mZeroDivisionError\u001b[0m                         Traceback (most recent call last)",
      "\u001b[1;32m<ipython-input-96-a45c237890a4>\u001b[0m in \u001b[0;36m<module>\u001b[1;34m\u001b[0m\n\u001b[0;32m      8\u001b[0m     \u001b[1;32mfor\u001b[0m \u001b[0mj\u001b[0m \u001b[1;32min\u001b[0m \u001b[0mrange\u001b[0m\u001b[1;33m(\u001b[0m\u001b[0mlen\u001b[0m\u001b[1;33m(\u001b[0m\u001b[0mX_train\u001b[0m\u001b[1;33m[\u001b[0m\u001b[0mi\u001b[0m\u001b[1;33m]\u001b[0m\u001b[1;33m)\u001b[0m\u001b[1;33m)\u001b[0m\u001b[1;33m:\u001b[0m\u001b[1;33m\u001b[0m\u001b[1;33m\u001b[0m\u001b[0m\n\u001b[0;32m      9\u001b[0m         \u001b[0mprint\u001b[0m\u001b[1;33m(\u001b[0m\u001b[0mX_train\u001b[0m\u001b[1;33m[\u001b[0m\u001b[0mi\u001b[0m\u001b[1;33m]\u001b[0m\u001b[1;33m[\u001b[0m\u001b[0mj\u001b[0m\u001b[1;33m]\u001b[0m\u001b[1;33m.\u001b[0m\u001b[0mkeys\u001b[0m\u001b[1;33m(\u001b[0m\u001b[1;33m)\u001b[0m\u001b[1;33m)\u001b[0m\u001b[1;33m\u001b[0m\u001b[1;33m\u001b[0m\u001b[0m\n\u001b[1;32m---> 10\u001b[1;33m         \u001b[1;36m1\u001b[0m\u001b[1;33m/\u001b[0m\u001b[1;36m0\u001b[0m\u001b[1;33m\u001b[0m\u001b[1;33m\u001b[0m\u001b[0m\n\u001b[0m\u001b[0;32m     11\u001b[0m         \u001b[1;32mfor\u001b[0m \u001b[0mkey\u001b[0m \u001b[1;32min\u001b[0m \u001b[0mX_train\u001b[0m\u001b[1;33m[\u001b[0m\u001b[0mi\u001b[0m\u001b[1;33m]\u001b[0m\u001b[1;33m[\u001b[0m\u001b[0mj\u001b[0m\u001b[1;33m]\u001b[0m\u001b[1;33m.\u001b[0m\u001b[0mkeys\u001b[0m\u001b[1;33m(\u001b[0m\u001b[1;33m)\u001b[0m\u001b[1;33m:\u001b[0m\u001b[1;33m\u001b[0m\u001b[1;33m\u001b[0m\u001b[0m\n\u001b[0;32m     12\u001b[0m             \u001b[1;32mif\u001b[0m \u001b[1;32mnot\u001b[0m\u001b[1;33m(\u001b[0m\u001b[0mkey\u001b[0m \u001b[1;32min\u001b[0m \u001b[0mkeys_prioritized\u001b[0m\u001b[1;33m)\u001b[0m\u001b[1;33m:\u001b[0m\u001b[1;33m\u001b[0m\u001b[1;33m\u001b[0m\u001b[0m\n",
      "\u001b[1;31mZeroDivisionError\u001b[0m: division by zero"
     ]
    }
   ],
   "source": [
    "keys_prioritized = ['word.isupper()', 'word.istitle()', 'word.isdigit()', '+1:word.istitle()', \n",
    "                    '+1:word.isupper()', 'BOS', 'bias',  'word.lower()', 'word[-3:]', 'word[-2:]',\n",
    "                    '+1:word.lower()', 'postag', 'postag[:2]', '+1:postag', '+1:postag[:2]', \n",
    "                    '-1:postag', '-1:postag[:2]', '-1:word.istitle()', '-1:word.lower()',\n",
    "                    '-1:word.isupper()', 'EOS']\n",
    "\n",
    "for i in range(len(X_train)):\n",
    "    for j in range(len(X_train[i])):\n",
    "        print(X_train[i][j].keys())\n",
    "        1/0\n",
    "        for key in X_train[i][j].keys():\n",
    "            if not(key in keys_prioritized):\n",
    "                print(key)"
   ]
  },
  {
   "cell_type": "code",
   "execution_count": 97,
   "metadata": {},
   "outputs": [],
   "source": [
    "def gtc_with_x_y_neighboring_y(X_val, y_val, num_x_keys=1):\n",
    "    keys_prioritized = ['word.isupper()', 'word.istitle()', 'word.isdigit()', '+1:word.istitle()', \n",
    "                        '+1:word.isupper()', 'BOS', 'bias',  'word.lower()', 'word[-3:]', 'word[-2:]',\n",
    "                        '+1:word.lower()', 'postag', 'postag[:2]', '+1:postag', '+1:postag[:2]', \n",
    "                        '-1:postag', '-1:postag[:2]', '-1:word.istitle()', '-1:word.lower()',\n",
    "                        '-1:word.isupper()', 'EOS']\n",
    "    \n",
    "    crf.fit(X_train, y_train_new)\n",
    "    y_val_pred = crf.predict(X_val)\n",
    "\n",
    "    correction_network_input = []\n",
    "\n",
    "    for i in range(len(y_val_pred)):\n",
    "        correction_network_input.append([])\n",
    "        for j in range(len(y_val_pred[i])):\n",
    "            if num_x_keys is None:\n",
    "                X_val_sub = X_val[i][j].copy()\n",
    "            else:\n",
    "                X_val_sub = {k: X_val[i][j][k] for k in keys_prioritized[:num_x_keys] if k in X_val[i][j]}\n",
    "            correction_network_input[i].append(X_val_sub)\n",
    "            correction_network_input[i][j]['y'] = y_val_pred[i][j]     \n",
    "            if j >= 1:\n",
    "                correction_network_input[i][j]['y-1'] = y_val_pred[i][j-1]\n",
    "            else:\n",
    "                correction_network_input[i][j]['y-1'] = 'N'\n",
    "            if j >= 2:\n",
    "                correction_network_input[i][j]['y-2'] = y_val_pred[i][j-2]\n",
    "            else:\n",
    "                correction_network_input[i][j]['y-2'] = 'N'\n",
    "            if j < len(y_val_pred[i]) - 1:\n",
    "                correction_network_input[i][j]['y+1'] = y_val_pred[i][j+1]\n",
    "            else:\n",
    "                correction_network_input[i][j]['y+1'] = 'N'\n",
    "            if j < len(y_val_pred[i]) - 2:\n",
    "                correction_network_input[i][j]['y+2'] = y_val_pred[i][j+2]\n",
    "            else:\n",
    "                correction_network_input[i][j]['y+2'] = 'N'\n",
    "\n",
    "    crf.fit(correction_network_input, y_val)\n",
    "\n",
    "    X_expanded = []\n",
    "\n",
    "    for i in range(len(y_train_new)):\n",
    "        X_expanded.append([])\n",
    "        for j in range(len(y_train_new[i])):\n",
    "            if num_x_keys is None:\n",
    "                X_train_sub = X_train[i][j].copy()\n",
    "            else:\n",
    "                X_train_sub = {k: X_train[i][j][k] for k in keys_prioritized[:num_x_keys] if k in X_train[i][j]}\n",
    "            X_expanded[i].append(X_train_sub)\n",
    "            X_expanded[i][j]['y'] = y_train_new[i][j]     \n",
    "            if j >= 1:\n",
    "                X_expanded[i][j]['y-1'] = y_train_new[i][j-1]\n",
    "            else:\n",
    "                X_expanded[i][j]['y-1'] = 'N'\n",
    "            if j >= 2:\n",
    "                X_expanded[i][j]['y-2'] = y_train_new[i][j-2]\n",
    "            else:\n",
    "                X_expanded[i][j]['y-2'] = 'N'\n",
    "            if j < len(y_train_new[i]) - 1:\n",
    "                X_expanded[i][j]['y+1'] = y_train_new[i][j+1]\n",
    "            else:\n",
    "                X_expanded[i][j]['y+1'] = 'N'\n",
    "            if j < len(y_train_new[i]) - 2:\n",
    "                X_expanded[i][j]['y+2'] = y_train_new[i][j+2]\n",
    "            else:\n",
    "                X_expanded[i][j]['y+2'] = 'N'\n",
    "\n",
    "    # Go from X_expanded to X_corrected\n",
    "    y_corrected = crf.predict(X_expanded)\n",
    "\n",
    "    error_pred = []\n",
    "\n",
    "    for i in range(len(y_corrected)):    \n",
    "        error_pred.append([])    \n",
    "        for j in range(len(y_corrected[i])):\n",
    "            if not(y_corrected[i][j]==y_train_new[i][j]):\n",
    "                error_pred[i].append(True)\n",
    "            else:\n",
    "                error_pred[i].append(False)\n",
    "\n",
    "    return measure_method(error_pred, error_train_array, X_train, y_corrected)"
   ]
  },
  {
   "cell_type": "markdown",
   "metadata": {},
   "source": [
    "### GTC with y, neighboring y only"
   ]
  },
  {
   "cell_type": "code",
   "execution_count": 48,
   "metadata": {},
   "outputs": [],
   "source": [
    "def gtc_with_y_neighboring_y(X_val, y_val, num_ys=1):\n",
    "    \n",
    "    crf.fit(X_train, y_train_new)\n",
    "    y_val_pred = crf.predict(X_val)\n",
    "\n",
    "    correction_network_input = []\n",
    "\n",
    "    for i in range(len(y_val_pred)):\n",
    "        correction_network_input.append([])\n",
    "        for j in range(len(y_val_pred[i])):\n",
    "            correction_network_input[i].append(dict())\n",
    "            correction_network_input[i][j]['y'] = y_val_pred[i][j] \n",
    "            for k in range(1, 1+num_ys):\n",
    "                if j >= k:\n",
    "                    correction_network_input[i][j]['y-{}'.format(k)] = y_val_pred[i][j-k]\n",
    "                else:\n",
    "                    correction_network_input[i][j]['y-{}'.format(k)] = 'N'\n",
    "                if j < len(y_val_pred[i]) - k:\n",
    "                    correction_network_input[i][j]['y+{}'.format(k)] = y_val_pred[i][j+1]\n",
    "                else:\n",
    "                    correction_network_input[i][j]['y+{}'.format(k)] = 'N'\n",
    "    \n",
    "    crf.fit(correction_network_input, y_val)\n",
    "\n",
    "    X_expanded = []\n",
    "\n",
    "    for i in range(len(y_train_new)):\n",
    "        X_expanded.append([])\n",
    "        for j in range(len(y_train_new[i])):\n",
    "            X_expanded[i].append(dict())\n",
    "            X_expanded[i][j]['y'] = y_train_new[i][j]     \n",
    "            for k in range(1, 1+num_ys):\n",
    "                if j >= k:\n",
    "                    X_expanded[i][j]['y-{}'.format(k)] = y_train_new[i][j-k]\n",
    "                else:\n",
    "                    X_expanded[i][j]['y-{}'.format(k)] = 'N'\n",
    "                if j < len(y_train_new[i]) - k:\n",
    "                    X_expanded[i][j]['y+{}'.format(k)] = y_train_new[i][j+k]\n",
    "                else:\n",
    "                    X_expanded[i][j]['y+{}'.format(k)] = 'N'\n",
    "\n",
    "    # Go from X_expanded to X_corrected\n",
    "    y_corrected = crf.predict(X_expanded)\n",
    "\n",
    "    error_pred = []\n",
    "\n",
    "    for i in range(len(y_corrected)):    \n",
    "        error_pred.append([])    \n",
    "        for j in range(len(y_corrected[i])):\n",
    "            if not(y_corrected[i][j]==y_train_new[i][j]):\n",
    "                error_pred[i].append(True)\n",
    "            else:\n",
    "                error_pred[i].append(False)\n",
    "\n",
    "    return measure_method(error_pred, error_train_array, X_train, y_corrected)"
   ]
  },
  {
   "cell_type": "markdown",
   "metadata": {},
   "source": [
    "### How do results change based on markov blanket size?"
   ]
  },
  {
   "cell_type": "code",
   "execution_count": 32,
   "metadata": {},
   "outputs": [],
   "source": [
    "n = 100\n",
    "X_val_ = X_val[:n]\n",
    "y_val_ = y_val[:n]"
   ]
  },
  {
   "cell_type": "code",
   "execution_count": 34,
   "metadata": {},
   "outputs": [
    {
     "name": "stdout",
     "output_type": "stream",
     "text": [
      "TP errors detected: 0.9515329539195888\n",
      "FP errors detected: 0.06473636304800147\n"
     ]
    },
    {
     "name": "stderr",
     "output_type": "stream",
     "text": [
      "C:\\Users\\islam\\Anaconda3\\envs\\tensorflow\\lib\\site-packages\\sklearn\\metrics\\classification.py:1143: UndefinedMetricWarning: F-score is ill-defined and being set to 0.0 in labels with no predicted samples.\n",
      "  'precision', 'predicted', average, warn_for)\n"
     ]
    },
    {
     "name": "stdout",
     "output_type": "stream",
     "text": [
      "F1 score on trained model: 0.6097666647500205\n"
     ]
    },
    {
     "name": "stderr",
     "output_type": "stream",
     "text": [
      "C:\\Users\\islam\\Anaconda3\\envs\\tensorflow\\lib\\site-packages\\sklearn\\metrics\\classification.py:1143: UndefinedMetricWarning: Precision and F-score are ill-defined and being set to 0.0 in labels with no predicted samples.\n",
      "  'precision', 'predicted', average, warn_for)\n"
     ]
    },
    {
     "name": "stdout",
     "output_type": "stream",
     "text": [
      "              precision    recall  f1-score   support\n",
      "\n",
      "       B-geo       0.69      0.83      0.75      7526\n",
      "       B-gpe       0.87      0.74      0.80      3172\n",
      "       B-org       0.56      0.48      0.51      4024\n",
      "       B-per       0.75      0.58      0.65      3420\n",
      "       B-tim       0.88      0.67      0.76      4089\n",
      "       I-geo       0.43      0.65      0.52      1522\n",
      "       I-gpe       0.00      0.00      0.00        37\n",
      "       I-org       0.50      0.49      0.49      3260\n",
      "       I-per       0.76      0.68      0.72      3484\n",
      "       I-tim       0.83      0.37      0.52      1283\n",
      "           O       0.98      0.99      0.98    177544\n",
      "\n",
      "   micro avg       0.94      0.94      0.94    209361\n",
      "   macro avg       0.66      0.59      0.61    209361\n",
      "weighted avg       0.94      0.94      0.94    209361\n",
      "\n"
     ]
    }
   ],
   "source": [
    "ppr, pre, pf1 = pseudolabeled_on_validation(X_val_, y_val_)"
   ]
  },
  {
   "cell_type": "code",
   "execution_count": 35,
   "metadata": {},
   "outputs": [
    {
     "name": "stdout",
     "output_type": "stream",
     "text": [
      "TP errors detected: 1.0\n",
      "FP errors detected: 0.030239311931721947\n",
      "F1 score on trained model: 0.7063974578376757\n",
      "              precision    recall  f1-score   support\n",
      "\n",
      "       B-geo       0.84      0.14      0.23      7526\n",
      "       B-gpe       0.98      0.91      0.95      3172\n",
      "       B-org       0.82      0.66      0.74      4024\n",
      "       B-per       0.85      0.80      0.82      3420\n",
      "       B-tim       0.93      0.85      0.89      4089\n",
      "       I-geo       0.83      0.72      0.77      1522\n",
      "       I-gpe       0.00      0.00      0.00        37\n",
      "       I-org       0.82      0.74      0.78      3260\n",
      "       I-per       0.84      0.87      0.85      3484\n",
      "       I-tim       0.83      0.72      0.77      1283\n",
      "           O       0.95      1.00      0.97    177544\n",
      "\n",
      "   micro avg       0.94      0.94      0.94    209361\n",
      "   macro avg       0.79      0.67      0.71    209361\n",
      "weighted avg       0.94      0.94      0.93    209361\n",
      "\n",
      "TP errors detected: 1.0\n",
      "FP errors detected: 0.006014813958003709\n",
      "F1 score on trained model: 0.7509310061896893\n",
      "              precision    recall  f1-score   support\n",
      "\n",
      "       B-geo       0.83      0.83      0.83      7526\n",
      "       B-gpe       0.98      0.91      0.94      3172\n",
      "       B-org       0.81      0.66      0.73      4024\n",
      "       B-per       0.85      0.73      0.78      3420\n",
      "       B-tim       0.92      0.84      0.88      4089\n",
      "       I-geo       0.78      0.70      0.74      1522\n",
      "       I-gpe       0.00      0.00      0.00        37\n",
      "       I-org       0.77      0.75      0.76      3260\n",
      "       I-per       0.83      0.87      0.85      3484\n",
      "       I-tim       0.82      0.73      0.77      1283\n",
      "           O       0.98      0.99      0.99    177544\n",
      "\n",
      "   micro avg       0.96      0.96      0.96    209361\n",
      "   macro avg       0.78      0.73      0.75    209361\n",
      "weighted avg       0.96      0.96      0.96    209361\n",
      "\n",
      "TP errors detected: 0.9939839855389699\n",
      "FP errors detected: 0.008034899140327758\n",
      "F1 score on trained model: 0.7485714791909192\n",
      "              precision    recall  f1-score   support\n",
      "\n",
      "       B-geo       0.83      0.82      0.82      7526\n",
      "       B-gpe       0.98      0.90      0.94      3172\n",
      "       B-org       0.81      0.64      0.71      4024\n",
      "       B-per       0.83      0.73      0.78      3420\n",
      "       B-tim       0.92      0.84      0.88      4089\n",
      "       I-geo       0.78      0.71      0.74      1522\n",
      "       I-gpe       0.00      0.00      0.00        37\n",
      "       I-org       0.76      0.75      0.75      3260\n",
      "       I-per       0.83      0.88      0.85      3484\n",
      "       I-tim       0.81      0.73      0.77      1283\n",
      "           O       0.98      0.99      0.99    177544\n",
      "\n",
      "   micro avg       0.96      0.96      0.96    209361\n",
      "   macro avg       0.78      0.73      0.75    209361\n",
      "weighted avg       0.96      0.96      0.96    209361\n",
      "\n",
      "TP errors detected: 0.9827004278996201\n",
      "FP errors detected: 0.009619846682832856\n",
      "F1 score on trained model: 0.7406824383213664\n",
      "              precision    recall  f1-score   support\n",
      "\n",
      "       B-geo       0.83      0.83      0.83      7526\n",
      "       B-gpe       0.98      0.86      0.92      3172\n",
      "       B-org       0.79      0.63      0.70      4024\n",
      "       B-per       0.83      0.72      0.78      3420\n",
      "       B-tim       0.91      0.83      0.87      4089\n",
      "       I-geo       0.79      0.67      0.72      1522\n",
      "       I-gpe       0.00      0.00      0.00        37\n",
      "       I-org       0.73      0.75      0.74      3260\n",
      "       I-per       0.83      0.87      0.85      3484\n",
      "       I-tim       0.80      0.71      0.75      1283\n",
      "           O       0.98      0.99      0.99    177544\n",
      "\n",
      "   micro avg       0.96      0.96      0.96    209361\n",
      "   macro avg       0.77      0.72      0.74    209361\n",
      "weighted avg       0.96      0.96      0.96    209361\n",
      "\n",
      "TP errors detected: 0.8712629393738262\n",
      "FP errors detected: 0.009815383217181877\n",
      "F1 score on trained model: 0.7417359709131873\n",
      "              precision    recall  f1-score   support\n",
      "\n",
      "       B-geo       0.81      0.85      0.83      7526\n",
      "       B-gpe       0.98      0.86      0.92      3172\n",
      "       B-org       0.79      0.63      0.70      4024\n",
      "       B-per       0.83      0.74      0.78      3420\n",
      "       B-tim       0.92      0.84      0.88      4089\n",
      "       I-geo       0.75      0.68      0.71      1522\n",
      "       I-gpe       0.00      0.00      0.00        37\n",
      "       I-org       0.75      0.75      0.75      3260\n",
      "       I-per       0.82      0.89      0.85      3484\n",
      "       I-tim       0.79      0.70      0.75      1283\n",
      "           O       0.98      0.99      0.99    177544\n",
      "\n",
      "   micro avg       0.96      0.96      0.96    209361\n",
      "   macro avg       0.77      0.72      0.74    209361\n",
      "weighted avg       0.96      0.96      0.96    209361\n",
      "\n",
      "TP errors detected: 0.9083052068181497\n",
      "FP errors detected: 0.010797196942469571\n",
      "F1 score on trained model: 0.7434862826007826\n",
      "              precision    recall  f1-score   support\n",
      "\n",
      "       B-geo       0.81      0.84      0.83      7526\n",
      "       B-gpe       0.98      0.87      0.92      3172\n",
      "       B-org       0.79      0.63      0.70      4024\n",
      "       B-per       0.84      0.73      0.78      3420\n",
      "       B-tim       0.92      0.84      0.88      4089\n",
      "       I-geo       0.75      0.70      0.72      1522\n",
      "       I-gpe       0.00      0.00      0.00        37\n",
      "       I-org       0.74      0.76      0.75      3260\n",
      "       I-per       0.84      0.88      0.86      3484\n",
      "       I-tim       0.80      0.72      0.76      1283\n",
      "           O       0.98      0.99      0.99    177544\n",
      "\n",
      "   micro avg       0.96      0.96      0.96    209361\n",
      "   macro avg       0.77      0.72      0.74    209361\n",
      "weighted avg       0.96      0.96      0.96    209361\n",
      "\n",
      "TP errors detected: 0.9117933654375733\n",
      "FP errors detected: 0.011460919544978222\n",
      "F1 score on trained model: 0.7426247037413475\n",
      "              precision    recall  f1-score   support\n",
      "\n",
      "       B-geo       0.81      0.84      0.83      7526\n",
      "       B-gpe       0.98      0.87      0.92      3172\n",
      "       B-org       0.80      0.63      0.70      4024\n",
      "       B-per       0.84      0.72      0.78      3420\n",
      "       B-tim       0.92      0.84      0.87      4089\n",
      "       I-geo       0.75      0.70      0.73      1522\n",
      "       I-gpe       0.00      0.00      0.00        37\n",
      "       I-org       0.76      0.75      0.75      3260\n",
      "       I-per       0.84      0.88      0.86      3484\n",
      "       I-tim       0.79      0.70      0.74      1283\n",
      "           O       0.98      0.99      0.99    177544\n",
      "\n",
      "   micro avg       0.96      0.96      0.96    209361\n",
      "   macro avg       0.77      0.72      0.74    209361\n",
      "weighted avg       0.96      0.96      0.96    209361\n",
      "\n",
      "TP errors detected: 0.8891697617601785\n",
      "FP errors detected: 0.012642400858157522\n",
      "F1 score on trained model: 0.7409885404817473\n",
      "              precision    recall  f1-score   support\n",
      "\n",
      "       B-geo       0.81      0.83      0.82      7526\n",
      "       B-gpe       0.98      0.88      0.93      3172\n",
      "       B-org       0.79      0.63      0.70      4024\n",
      "       B-per       0.83      0.72      0.77      3420\n",
      "       B-tim       0.92      0.84      0.88      4089\n",
      "       I-geo       0.73      0.70      0.72      1522\n",
      "       I-gpe       0.00      0.00      0.00        37\n",
      "       I-org       0.76      0.74      0.75      3260\n",
      "       I-per       0.83      0.88      0.85      3484\n",
      "       I-tim       0.79      0.69      0.74      1283\n",
      "           O       0.98      0.99      0.99    177544\n",
      "\n",
      "   micro avg       0.96      0.96      0.96    209361\n",
      "   macro avg       0.77      0.72      0.74    209361\n",
      "weighted avg       0.96      0.96      0.96    209361\n",
      "\n",
      "TP errors detected: 0.8666026464814789\n",
      "FP errors detected: 0.013811489010709067\n",
      "F1 score on trained model: 0.7404642581501999\n",
      "              precision    recall  f1-score   support\n",
      "\n",
      "       B-geo       0.81      0.84      0.83      7526\n",
      "       B-gpe       0.98      0.89      0.93      3172\n",
      "       B-org       0.78      0.63      0.70      4024\n",
      "       B-per       0.84      0.72      0.78      3420\n",
      "       B-tim       0.92      0.84      0.88      4089\n",
      "       I-geo       0.74      0.68      0.71      1522\n",
      "       I-gpe       0.00      0.00      0.00        37\n",
      "       I-org       0.75      0.74      0.75      3260\n",
      "       I-per       0.83      0.88      0.85      3484\n",
      "       I-tim       0.79      0.69      0.74      1283\n",
      "           O       0.98      0.99      0.99    177544\n",
      "\n",
      "   micro avg       0.96      0.96      0.96    209361\n",
      "   macro avg       0.77      0.72      0.74    209361\n",
      "weighted avg       0.96      0.96      0.96    209361\n"
     ]
    },
    {
     "name": "stdout",
     "output_type": "stream",
     "text": [
      "\n",
      "TP errors detected: 0.8500515456638092\n",
      "FP errors detected: 0.01495854487770016\n",
      "F1 score on trained model: 0.7399603590309792\n",
      "              precision    recall  f1-score   support\n",
      "\n",
      "       B-geo       0.80      0.83      0.81      7526\n",
      "       B-gpe       0.98      0.89      0.93      3172\n",
      "       B-org       0.78      0.63      0.70      4024\n",
      "       B-per       0.85      0.72      0.78      3420\n",
      "       B-tim       0.92      0.85      0.88      4089\n",
      "       I-geo       0.73      0.68      0.70      1522\n",
      "       I-gpe       0.00      0.00      0.00        37\n",
      "       I-org       0.75      0.74      0.75      3260\n",
      "       I-per       0.83      0.89      0.85      3484\n",
      "       I-tim       0.80      0.70      0.75      1283\n",
      "           O       0.98      0.99      0.99    177544\n",
      "\n",
      "   micro avg       0.96      0.96      0.96    209361\n",
      "   macro avg       0.77      0.72      0.74    209361\n",
      "weighted avg       0.96      0.96      0.96    209361\n",
      "\n"
     ]
    }
   ],
   "source": [
    "yny_prs = []\n",
    "yny_res = []\n",
    "yny_f1s = []\n",
    "\n",
    "iss = range(10)\n",
    "\n",
    "for i in iss:\n",
    "    pr, re, f1 = gtc_with_y_neighboring_y(X_val_, y_val_, num_ys=i)\n",
    "    yny_prs.append(pr)\n",
    "    yny_res.append(re)\n",
    "    yny_f1s.append(f1)"
   ]
  },
  {
   "cell_type": "code",
   "execution_count": 38,
   "metadata": {
    "scrolled": true
   },
   "outputs": [
    {
     "name": "stdout",
     "output_type": "stream",
     "text": [
      "TP errors detected: 0.850644673850108\n",
      "FP errors detected: 0.016257072707919366\n",
      "F1 score on trained model: 0.737953356733842\n",
      "              precision    recall  f1-score   support\n",
      "\n",
      "       B-geo       0.79      0.83      0.81      7526\n",
      "       B-gpe       0.98      0.89      0.93      3172\n",
      "       B-org       0.78      0.63      0.70      4024\n",
      "       B-per       0.86      0.70      0.77      3420\n",
      "       B-tim       0.92      0.85      0.88      4089\n",
      "       I-geo       0.71      0.70      0.70      1522\n",
      "       I-gpe       0.00      0.00      0.00        37\n",
      "       I-org       0.74      0.75      0.75      3260\n",
      "       I-per       0.83      0.87      0.85      3484\n",
      "       I-tim       0.77      0.70      0.73      1283\n",
      "           O       0.98      0.99      0.99    177544\n",
      "\n",
      "   micro avg       0.96      0.96      0.96    209361\n",
      "   macro avg       0.76      0.72      0.74    209361\n",
      "weighted avg       0.96      0.96      0.96    209361\n",
      "\n",
      "TP errors detected: 0.8287554193557498\n",
      "FP errors detected: 0.01800037730289022\n",
      "F1 score on trained model: 0.7371560515825281\n",
      "              precision    recall  f1-score   support\n",
      "\n",
      "       B-geo       0.81      0.83      0.82      7526\n",
      "       B-gpe       0.98      0.88      0.93      3172\n",
      "       B-org       0.76      0.65      0.70      4024\n",
      "       B-per       0.85      0.70      0.77      3420\n",
      "       B-tim       0.92      0.84      0.88      4089\n",
      "       I-geo       0.69      0.69      0.69      1522\n",
      "       I-gpe       0.00      0.00      0.00        37\n",
      "       I-org       0.76      0.74      0.75      3260\n",
      "       I-per       0.83      0.86      0.85      3484\n",
      "       I-tim       0.79      0.71      0.75      1283\n",
      "           O       0.98      0.99      0.99    177544\n",
      "\n",
      "   micro avg       0.96      0.96      0.96    209361\n",
      "   macro avg       0.76      0.72      0.74    209361\n",
      "weighted avg       0.96      0.96      0.96    209361\n",
      "\n",
      "TP errors detected: 0.8232195562836282\n",
      "FP errors detected: 0.01793703448190392\n",
      "F1 score on trained model: 0.7389348762392476\n",
      "              precision    recall  f1-score   support\n",
      "\n",
      "       B-geo       0.81      0.83      0.82      7526\n",
      "       B-gpe       0.98      0.88      0.93      3172\n",
      "       B-org       0.77      0.63      0.69      4024\n",
      "       B-per       0.85      0.71      0.77      3420\n",
      "       B-tim       0.92      0.84      0.88      4089\n",
      "       I-geo       0.72      0.70      0.71      1522\n",
      "       I-gpe       0.00      0.00      0.00        37\n",
      "       I-org       0.77      0.73      0.75      3260\n",
      "       I-per       0.82      0.87      0.84      3484\n",
      "       I-tim       0.80      0.70      0.75      1283\n",
      "           O       0.98      0.99      0.99    177544\n",
      "\n",
      "   micro avg       0.96      0.96      0.96    209361\n",
      "   macro avg       0.76      0.72      0.74    209361\n",
      "weighted avg       0.96      0.96      0.96    209361\n",
      "\n"
     ]
    }
   ],
   "source": [
    "yny_prs = []\n",
    "yny_res = []\n",
    "yny_f1s = []\n",
    "\n",
    "iss = range(10)\n",
    "\n",
    "for i in iss:\n",
    "    pr, re, f1 = gtc_with_y_neighboring_y(X_val_, y_val_, num_ys=i)\n",
    "    yny_prs.append(pr)\n",
    "    yny_res.append(re)\n",
    "    yny_f1s.append(f1)"
   ]
  },
  {
   "cell_type": "code",
   "execution_count": 37,
   "metadata": {},
   "outputs": [
    {
     "data": {
      "text/plain": [
       "Text(0, 0.5, 'Model performance (F1 score)')"
      ]
     },
     "execution_count": 37,
     "metadata": {},
     "output_type": "execute_result"
    },
    {
     "data": {
      "image/png": "[encoded data removed]",
      "text/plain": [
       "<Figure size 432x288 with 1 Axes>"
      ]
     },
     "metadata": {
      "needs_background": "light"
     },
     "output_type": "display_data"
    }
   ],
   "source": [
    "plt.plot(iss, yny_f1s, '-o', label='ECN with Markov Blanket')\n",
    "plt.plot(iss, [pf1]*len(iss), '-o', label='Pseudolabel')\n",
    "plt.plot(iss, [dirty_f1]*len(iss), 'k--', label='Only corrupted training dataset')\n",
    "plt.plot(iss, [clean_f1]*len(iss), 'k-', label='Clean training dataset (ideal)')\n",
    "plt.legend()\n",
    "plt.xlabel('Validation Dataset Size')\n",
    "plt.ylabel('Model performance (F1 score)')"
   ]
  },
  {
   "cell_type": "code",
   "execution_count": null,
   "metadata": {},
   "outputs": [],
   "source": [
    "iss2 = [10, 15, 20]\n",
    "\n",
    "for i in iss2:\n",
    "    pr, re, f1 = gtc_with_y_neighboring_y(X_val_, y_val_, num_ys=i)\n",
    "    yny_prs.append(pr)\n",
    "    yny_res.append(re)\n",
    "    yny_f1s.append(f1)"
   ]
  },
  {
   "cell_type": "code",
   "execution_count": 44,
   "metadata": {},
   "outputs": [
    {
     "data": {
      "text/plain": [
       "Text(0, 0.5, 'Model performance (F1 score)')"
      ]
     },
     "execution_count": 44,
     "metadata": {},
     "output_type": "execute_result"
    },
    {
     "data": {
      "image/png": "[encoded data removed]",
      "text/plain": [
       "<Figure size 432x288 with 1 Axes>"
      ]
     },
     "metadata": {
      "needs_background": "light"
     },
     "output_type": "display_data"
    }
   ],
   "source": [
    "plt.plot(list(iss) + iss2, yny_f1s, '-o', label='ECN with Markov Blanket')\n",
    "plt.plot(list(iss) + iss2, [pf1]*len(list(iss)+iss2), '-o', label='Pseudolabel')\n",
    "plt.plot(list(iss) + iss2, [dirty_f1]*len(list(iss)+iss2), 'k--', label='Only corrupted training dataset')\n",
    "plt.plot(list(iss) + iss2, [clean_f1]*len(list(iss)+iss2), 'k-', label='Clean training dataset (ideal)')\n",
    "plt.legend()\n",
    "plt.xlabel('Number of neighboring labels')\n",
    "plt.ylabel('Model performance (F1 score)')"
   ]
  },
  {
   "cell_type": "code",
   "execution_count": 45,
   "metadata": {},
   "outputs": [
    {
     "data": {
      "text/plain": [
       "Text(0.5, 1.0, 'Precision')"
      ]
     },
     "execution_count": 45,
     "metadata": {},
     "output_type": "execute_result"
    },
    {
     "data": {
      "image/png": "[encoded data removed]",
      "text/plain": [
       "<Figure size 432x288 with 1 Axes>"
      ]
     },
     "metadata": {
      "needs_background": "light"
     },
     "output_type": "display_data"
    }
   ],
   "source": [
    "plt.plot(list(iss) + iss2, yny_prs, '-o', label='ECN with Markov Blanket')\n",
    "plt.plot(list(iss) + iss2, [ppr]*len(list(iss)+iss2), '-o', label='Pseudolabel')\n",
    "plt.plot(list(iss) + iss2, [dirty_precision]*len(list(iss)+iss2), 'k--', label='Only corrupted training dataset')\n",
    "plt.plot(list(iss) + iss2, [clean_precision]*len(list(iss)+iss2), 'k-', label='Clean training dataset (ideal)')\n",
    "plt.legend()\n",
    "plt.xlabel('Number of neighboring labels')\n",
    "plt.ylabel('Model performance (F1 score)')\n",
    "plt.title('Precision')"
   ]
  },
  {
   "cell_type": "code",
   "execution_count": 46,
   "metadata": {},
   "outputs": [
    {
     "data": {
      "text/plain": [
       "Text(0.5, 1.0, 'Recall')"
      ]
     },
     "execution_count": 46,
     "metadata": {},
     "output_type": "execute_result"
    },
    {
     "data": {
      "image/png": "[encoded data removed]",
      "text/plain": [
       "<Figure size 432x288 with 1 Axes>"
      ]
     },
     "metadata": {
      "needs_background": "light"
     },
     "output_type": "display_data"
    }
   ],
   "source": [
    "plt.plot(list(iss) + iss2, yny_res, '-o', label='ECN with Markov Blanket')\n",
    "plt.plot(list(iss) + iss2, [pre]*len(list(iss)+iss2), '-o', label='Pseudolabel')\n",
    "plt.plot(list(iss) + iss2, [dirty_recall]*len(list(iss)+iss2), 'k--', label='Only corrupted training dataset')\n",
    "plt.plot(list(iss) + iss2, [clean_recall]*len(list(iss)+iss2), 'k-', label='Clean training dataset (ideal)')\n",
    "plt.legend()\n",
    "plt.xlabel('Number of neighboring labels')\n",
    "plt.ylabel('Model performance (F1 score)')\n",
    "plt.title('Recall')"
   ]
  },
  {
   "cell_type": "markdown",
   "metadata": {},
   "source": [
    "#### With X features"
   ]
  },
  {
   "cell_type": "code",
   "execution_count": 54,
   "metadata": {
    "scrolled": true
   },
   "outputs": [
    {
     "name": "stdout",
     "output_type": "stream",
     "text": [
      "TP errors detected: 1.0\n",
      "FP errors detected: 0.008482429940774463\n",
      "F1 score on trained model: 0.7435239235063609\n",
      "              precision    recall  f1-score   support\n",
      "\n",
      "       B-geo       0.83      0.82      0.82      7526\n",
      "       B-gpe       0.98      0.90      0.94      3172\n",
      "       B-org       0.80      0.64      0.71      4024\n",
      "       B-per       0.82      0.74      0.78      3420\n",
      "       B-tim       0.92      0.83      0.88      4089\n",
      "       I-geo       0.77      0.65      0.71      1522\n",
      "       I-gpe       0.00      0.00      0.00        37\n",
      "       I-org       0.74      0.74      0.74      3260\n",
      "       I-per       0.84      0.86      0.85      3484\n",
      "       I-tim       0.81      0.73      0.77      1283\n",
      "           O       0.98      0.99      0.99    177544\n",
      "\n",
      "   micro avg       0.96      0.96      0.96    209361\n",
      "   macro avg       0.77      0.72      0.74    209361\n",
      "weighted avg       0.96      0.96      0.96    209361\n",
      "\n",
      "TP errors detected: 1.0\n",
      "FP errors detected: 0.008595345404271785\n",
      "F1 score on trained model: 0.7465706554866681\n",
      "              precision    recall  f1-score   support\n",
      "\n",
      "       B-geo       0.83      0.82      0.82      7526\n",
      "       B-gpe       0.98      0.90      0.94      3172\n",
      "       B-org       0.79      0.66      0.72      4024\n",
      "       B-per       0.84      0.73      0.78      3420\n",
      "       B-tim       0.92      0.84      0.88      4089\n",
      "       I-geo       0.78      0.66      0.71      1522\n",
      "       I-gpe       0.00      0.00      0.00        37\n",
      "       I-org       0.73      0.76      0.75      3260\n",
      "       I-per       0.85      0.86      0.85      3484\n",
      "       I-tim       0.80      0.73      0.77      1283\n",
      "           O       0.98      0.99      0.99    177544\n",
      "\n",
      "   micro avg       0.96      0.96      0.96    209361\n",
      "   macro avg       0.77      0.72      0.75    209361\n",
      "weighted avg       0.96      0.96      0.96    209361\n",
      "\n",
      "TP errors detected: 0.9323410204629224\n",
      "FP errors detected: 0.00793437683745819\n",
      "F1 score on trained model: 0.7482086017155922\n",
      "              precision    recall  f1-score   support\n",
      "\n",
      "       B-geo       0.80      0.90      0.85      7526\n",
      "       B-gpe       0.97      0.92      0.94      3172\n",
      "       B-org       0.80      0.63      0.71      4024\n",
      "       B-per       0.84      0.72      0.78      3420\n",
      "       B-tim       0.92      0.83      0.88      4089\n",
      "       I-geo       0.68      0.74      0.71      1522\n",
      "       I-gpe       0.00      0.00      0.00        37\n",
      "       I-org       0.78      0.76      0.77      3260\n",
      "       I-per       0.84      0.85      0.84      3484\n",
      "       I-tim       0.82      0.71      0.76      1283\n",
      "           O       0.99      0.99      0.99    177544\n",
      "\n",
      "   micro avg       0.97      0.97      0.97    209361\n",
      "   macro avg       0.77      0.73      0.75    209361\n",
      "weighted avg       0.96      0.97      0.96    209361\n",
      "\n",
      "TP errors detected: 0.9286692745477397\n",
      "FP errors detected: 0.008627016814764936\n",
      "F1 score on trained model: 0.7486213233611959\n",
      "              precision    recall  f1-score   support\n",
      "\n",
      "       B-geo       0.80      0.90      0.85      7526\n",
      "       B-gpe       0.97      0.92      0.94      3172\n",
      "       B-org       0.80      0.64      0.71      4024\n",
      "       B-per       0.83      0.73      0.78      3420\n",
      "       B-tim       0.93      0.84      0.88      4089\n",
      "       I-geo       0.69      0.74      0.71      1522\n",
      "       I-gpe       0.00      0.00      0.00        37\n",
      "       I-org       0.78      0.76      0.77      3260\n",
      "       I-per       0.84      0.85      0.84      3484\n",
      "       I-tim       0.81      0.72      0.76      1283\n",
      "           O       0.99      0.99      0.99    177544\n",
      "\n",
      "   micro avg       0.97      0.97      0.97    209361\n",
      "   macro avg       0.77      0.73      0.75    209361\n",
      "weighted avg       0.96      0.97      0.96    209361\n",
      "\n",
      "TP errors detected: 0.928909350242194\n",
      "FP errors detected: 0.008800521063553505\n",
      "F1 score on trained model: 0.7473303860403259\n",
      "              precision    recall  f1-score   support\n",
      "\n",
      "       B-geo       0.80      0.90      0.85      7526\n",
      "       B-gpe       0.97      0.91      0.94      3172\n",
      "       B-org       0.80      0.64      0.71      4024\n",
      "       B-per       0.83      0.72      0.77      3420\n",
      "       B-tim       0.93      0.83      0.88      4089\n",
      "       I-geo       0.69      0.75      0.72      1522\n",
      "       I-gpe       0.00      0.00      0.00        37\n",
      "       I-org       0.78      0.76      0.77      3260\n",
      "       I-per       0.83      0.85      0.84      3484\n",
      "       I-tim       0.79      0.73      0.76      1283\n",
      "           O       0.99      0.99      0.99    177544\n",
      "\n",
      "   micro avg       0.97      0.97      0.97    209361\n",
      "   macro avg       0.76      0.73      0.75    209361\n",
      "weighted avg       0.96      0.97      0.96    209361\n",
      "\n",
      "TP errors detected: 0.9311406419906512\n",
      "FP errors detected: 0.008613246636289653\n",
      "F1 score on trained model: 0.7485427376829566\n",
      "              precision    recall  f1-score   support\n",
      "\n",
      "       B-geo       0.80      0.90      0.85      7526\n",
      "       B-gpe       0.97      0.92      0.94      3172\n",
      "       B-org       0.81      0.64      0.71      4024\n",
      "       B-per       0.83      0.72      0.77      3420\n",
      "       B-tim       0.93      0.83      0.88      4089\n",
      "       I-geo       0.69      0.74      0.72      1522\n",
      "       I-gpe       0.00      0.00      0.00        37\n",
      "       I-org       0.78      0.76      0.77      3260\n",
      "       I-per       0.84      0.84      0.84      3484\n",
      "       I-tim       0.80      0.72      0.76      1283\n",
      "           O       0.99      0.99      0.99    177544\n",
      "\n",
      "   micro avg       0.97      0.97      0.97    209361\n",
      "   macro avg       0.77      0.73      0.75    209361\n",
      "weighted avg       0.96      0.97      0.96    209361\n",
      "\n",
      "TP errors detected: 0.9311123977913036\n",
      "FP errors detected: 0.008647672082477862\n",
      "F1 score on trained model: 0.7472166632718569\n",
      "              precision    recall  f1-score   support\n",
      "\n",
      "       B-geo       0.80      0.90      0.85      7526\n",
      "       B-gpe       0.97      0.91      0.94      3172\n",
      "       B-org       0.80      0.63      0.71      4024\n",
      "       B-per       0.84      0.72      0.77      3420\n",
      "       B-tim       0.93      0.84      0.88      4089\n",
      "       I-geo       0.68      0.75      0.71      1522\n",
      "       I-gpe       0.00      0.00      0.00        37\n",
      "       I-org       0.78      0.76      0.77      3260\n",
      "       I-per       0.84      0.84      0.84      3484\n",
      "       I-tim       0.80      0.73      0.76      1283\n",
      "           O       0.99      0.99      0.99    177544\n",
      "\n",
      "   micro avg       0.97      0.97      0.97    209361\n",
      "   macro avg       0.77      0.73      0.75    209361\n",
      "weighted avg       0.96      0.97      0.96    209361\n",
      "\n",
      "TP errors detected: 0.9286833966474135\n",
      "FP errors detected: 0.009538602629828686\n",
      "F1 score on trained model: 0.74754068692149\n",
      "              precision    recall  f1-score   support\n",
      "\n",
      "       B-geo       0.80      0.90      0.85      7526\n",
      "       B-gpe       0.97      0.92      0.94      3172\n",
      "       B-org       0.80      0.64      0.71      4024\n",
      "       B-per       0.83      0.72      0.77      3420\n",
      "       B-tim       0.93      0.83      0.88      4089\n",
      "       I-geo       0.69      0.74      0.72      1522\n",
      "       I-gpe       0.00      0.00      0.00        37\n",
      "       I-org       0.77      0.75      0.76      3260\n",
      "       I-per       0.83      0.85      0.84      3484\n",
      "       I-tim       0.81      0.71      0.76      1283\n",
      "           O       0.99      0.99      0.99    177544\n",
      "\n",
      "   micro avg       0.97      0.97      0.97    209361\n",
      "   macro avg       0.77      0.73      0.75    209361\n",
      "weighted avg       0.96      0.97      0.96    209361\n",
      "\n",
      "TP errors detected: 0.9291211817373007\n",
      "FP errors detected: 0.006714339024548097\n",
      "F1 score on trained model: 0.7544983060784279\n",
      "              precision    recall  f1-score   support\n",
      "\n",
      "       B-geo       0.80      0.90      0.85      7526\n",
      "       B-gpe       0.97      0.92      0.95      3172\n",
      "       B-org       0.79      0.65      0.72      4024\n",
      "       B-per       0.85      0.75      0.80      3420\n",
      "       B-tim       0.93      0.83      0.87      4089\n",
      "       I-geo       0.71      0.76      0.73      1522\n",
      "       I-gpe       0.00      0.00      0.00        37\n",
      "       I-org       0.79      0.76      0.77      3260\n",
      "       I-per       0.84      0.88      0.86      3484\n",
      "       I-tim       0.83      0.71      0.77      1283\n",
      "           O       0.99      0.99      0.99    177544\n",
      "\n",
      "   micro avg       0.97      0.97      0.97    209361\n",
      "   macro avg       0.77      0.74      0.75    209361\n",
      "weighted avg       0.97      0.97      0.97    209361\n"
     ]
    },
    {
     "name": "stdout",
     "output_type": "stream",
     "text": [
      "\n",
      "TP errors detected: 0.9313524734857579\n",
      "FP errors detected: 0.006432050365804791\n",
      "F1 score on trained model: 0.7572953123147127\n",
      "              precision    recall  f1-score   support\n",
      "\n",
      "       B-geo       0.80      0.90      0.85      7526\n",
      "       B-gpe       0.97      0.92      0.95      3172\n",
      "       B-org       0.79      0.67      0.72      4024\n",
      "       B-per       0.86      0.74      0.79      3420\n",
      "       B-tim       0.93      0.85      0.88      4089\n",
      "       I-geo       0.73      0.76      0.74      1522\n",
      "       I-gpe       0.00      0.00      0.00        37\n",
      "       I-org       0.80      0.77      0.79      3260\n",
      "       I-per       0.84      0.87      0.86      3484\n",
      "       I-tim       0.84      0.69      0.76      1283\n",
      "           O       0.99      0.99      0.99    177544\n",
      "\n",
      "   micro avg       0.97      0.97      0.97    209361\n",
      "   macro avg       0.78      0.74      0.76    209361\n",
      "weighted avg       0.97      0.97      0.97    209361\n",
      "\n"
     ]
    }
   ],
   "source": [
    "xny_prs = []\n",
    "xny_res = []\n",
    "xny_f1s = []\n",
    "\n",
    "iss = range(10)\n",
    "\n",
    "for i in iss:\n",
    "    pr, re, f1 = gtc_with_x_y_neighboring_y(X_val_, y_val_, num_x_keys=i)\n",
    "    xny_prs.append(pr)\n",
    "    xny_res.append(re)\n",
    "    xny_f1s.append(f1)"
   ]
  },
  {
   "cell_type": "code",
   "execution_count": 55,
   "metadata": {},
   "outputs": [
    {
     "data": {
      "text/plain": [
       "Text(0, 0.5, 'Model performance (F1 score)')"
      ]
     },
     "execution_count": 55,
     "metadata": {},
     "output_type": "execute_result"
    },
    {
     "data": {
      "image/png": "[encoded data removed]",
      "text/plain": [
       "<Figure size 432x288 with 1 Axes>"
      ]
     },
     "metadata": {
      "needs_background": "light"
     },
     "output_type": "display_data"
    }
   ],
   "source": [
    "plt.plot(iss, xny_f1s, '-o', label='ECN with Markov Blanket')\n",
    "plt.plot(iss, [pf1]*len(iss), '-o', label='Pseudolabel')\n",
    "plt.plot(iss, [dirty_f1]*len(iss), 'k--', label='Only corrupted training dataset')\n",
    "plt.plot(iss, [clean_f1]*len(iss), 'k-', label='Clean training dataset (ideal)')\n",
    "plt.legend()\n",
    "plt.xlabel('Number of features from X')\n",
    "plt.ylabel('Model performance (F1 score)')"
   ]
  },
  {
   "cell_type": "code",
   "execution_count": 72,
   "metadata": {},
   "outputs": [
    {
     "data": {
      "text/plain": [
       "20"
      ]
     },
     "execution_count": 72,
     "metadata": {},
     "output_type": "execute_result"
    }
   ],
   "source": [
    "len(keys_prioritized)"
   ]
  },
  {
   "cell_type": "code",
   "execution_count": 71,
   "metadata": {},
   "outputs": [
    {
     "data": {
      "text/plain": [
       "['word.isupper()',\n",
       " 'word.istitle()',\n",
       " 'word.isdigit()',\n",
       " '+1:word.istitle()',\n",
       " '+1:word.isupper()',\n",
       " 'BOS',\n",
       " 'bias',\n",
       " 'word.lower()',\n",
       " 'word[-3:]',\n",
       " 'word[-2:]',\n",
       " '+1:word.lower()',\n",
       " 'postag',\n",
       " 'postag[:2]',\n",
       " '+1:postag',\n",
       " '+1:postag[:2]',\n",
       " '-1:postag',\n",
       " '-1:postag[:2]',\n",
       " '-1:word.istitle()']"
      ]
     },
     "execution_count": 71,
     "metadata": {},
     "output_type": "execute_result"
    }
   ],
   "source": [
    "keys_prioritized = ['word.isupper()', 'word.istitle()', 'word.isdigit()', '+1:word.istitle()', \n",
    "                        '+1:word.isupper()', 'BOS', 'bias',  'word.lower()', 'word[-3:]', 'word[-2:]',\n",
    "                        '+1:word.lower()', 'postag', 'postag[:2]', '+1:postag', '+1:postag[:2]', \n",
    "                        '-1:postag', '-1:postag[:2]', '-1:word.istitle()', '-1:word.lower()',\n",
    "                        '-1:word.isupper()',]\n",
    "\n",
    "keys_prioritized[:max(list(iss2))]"
   ]
  },
  {
   "cell_type": "code",
   "execution_count": 63,
   "metadata": {
    "scrolled": true
   },
   "outputs": [
    {
     "name": "stdout",
     "output_type": "stream",
     "text": [
      "TP errors detected: 0.9364787956673398\n",
      "FP errors detected: 0.006611062685983473\n",
      "F1 score on trained model: 0.757312813037327\n",
      "              precision    recall  f1-score   support\n",
      "\n",
      "       B-geo       0.81      0.89      0.85      7526\n",
      "       B-gpe       0.97      0.92      0.95      3172\n",
      "       B-org       0.79      0.67      0.73      4024\n",
      "       B-per       0.85      0.75      0.79      3420\n",
      "       B-tim       0.93      0.85      0.89      4089\n",
      "       I-geo       0.73      0.75      0.74      1522\n",
      "       I-gpe       0.00      0.00      0.00        37\n",
      "       I-org       0.82      0.75      0.78      3260\n",
      "       I-per       0.84      0.88      0.86      3484\n",
      "       I-tim       0.85      0.68      0.76      1283\n",
      "           O       0.99      0.99      0.99    177544\n",
      "\n",
      "   micro avg       0.97      0.97      0.97    209361\n",
      "   macro avg       0.78      0.74      0.76    209361\n",
      "weighted avg       0.97      0.97      0.97    209361\n",
      "\n",
      "TP errors detected: 0.9384558896216689\n",
      "FP errors detected: 0.005834424619977499\n",
      "F1 score on trained model: 0.7612014886783126\n",
      "              precision    recall  f1-score   support\n",
      "\n",
      "       B-geo       0.82      0.90      0.86      7526\n",
      "       B-gpe       0.97      0.92      0.95      3172\n",
      "       B-org       0.80      0.68      0.73      4024\n",
      "       B-per       0.86      0.75      0.80      3420\n",
      "       B-tim       0.93      0.84      0.88      4089\n",
      "       I-geo       0.74      0.76      0.75      1522\n",
      "       I-gpe       0.00      0.00      0.00        37\n",
      "       I-org       0.81      0.76      0.78      3260\n",
      "       I-per       0.84      0.88      0.86      3484\n",
      "       I-tim       0.84      0.71      0.77      1283\n",
      "           O       0.99      0.99      0.99    177544\n",
      "\n",
      "   micro avg       0.97      0.97      0.97    209361\n",
      "   macro avg       0.78      0.75      0.76    209361\n",
      "weighted avg       0.97      0.97      0.97    209361\n",
      "\n",
      "TP errors detected: 0.9361257431754954\n",
      "FP errors detected: 0.007263769145711897\n",
      "F1 score on trained model: 0.75888663474753\n",
      "              precision    recall  f1-score   support\n",
      "\n",
      "       B-geo       0.81      0.90      0.86      7526\n",
      "       B-gpe       0.97      0.92      0.94      3172\n",
      "       B-org       0.80      0.68      0.73      4024\n",
      "       B-per       0.86      0.76      0.80      3420\n",
      "       B-tim       0.92      0.83      0.88      4089\n",
      "       I-geo       0.75      0.76      0.75      1522\n",
      "       I-gpe       0.00      0.00      0.00        37\n",
      "       I-org       0.81      0.75      0.78      3260\n",
      "       I-per       0.84      0.89      0.86      3484\n",
      "       I-tim       0.85      0.66      0.75      1283\n",
      "           O       0.99      0.99      0.99    177544\n",
      "\n",
      "   micro avg       0.97      0.97      0.97    209361\n",
      "   macro avg       0.78      0.74      0.76    209361\n",
      "weighted avg       0.97      0.97      0.97    209361\n",
      "\n",
      "TP errors detected: 0.9359421558797362\n",
      "FP errors detected: 0.0077732657492973764\n",
      "F1 score on trained model: 0.756770370849233\n",
      "              precision    recall  f1-score   support\n",
      "\n",
      "       B-geo       0.81      0.91      0.86      7526\n",
      "       B-gpe       0.97      0.92      0.94      3172\n",
      "       B-org       0.81      0.67      0.74      4024\n",
      "       B-per       0.86      0.75      0.80      3420\n",
      "       B-tim       0.93      0.84      0.88      4089\n",
      "       I-geo       0.74      0.77      0.76      1522\n",
      "       I-gpe       0.00      0.00      0.00        37\n",
      "       I-org       0.81      0.75      0.78      3260\n",
      "       I-per       0.84      0.88      0.86      3484\n",
      "       I-tim       0.84      0.63      0.72      1283\n",
      "           O       0.99      0.99      0.99    177544\n",
      "\n",
      "   micro avg       0.97      0.97      0.97    209361\n",
      "   macro avg       0.78      0.74      0.76    209361\n",
      "weighted avg       0.97      0.97      0.97    209361\n",
      "\n",
      "TP errors detected: 0.9379898603324343\n",
      "FP errors detected: 0.007497862179791712\n",
      "F1 score on trained model: 0.7573938127533306\n",
      "              precision    recall  f1-score   support\n",
      "\n",
      "       B-geo       0.82      0.91      0.86      7526\n",
      "       B-gpe       0.97      0.92      0.94      3172\n",
      "       B-org       0.81      0.67      0.73      4024\n",
      "       B-per       0.85      0.78      0.81      3420\n",
      "       B-tim       0.93      0.84      0.88      4089\n",
      "       I-geo       0.74      0.77      0.75      1522\n",
      "       I-gpe       0.00      0.00      0.00        37\n",
      "       I-org       0.81      0.74      0.77      3260\n",
      "       I-per       0.85      0.88      0.86      3484\n",
      "       I-tim       0.86      0.62      0.72      1283\n",
      "           O       0.99      0.99      0.99    177544\n",
      "\n",
      "   micro avg       0.97      0.97      0.97    209361\n",
      "   macro avg       0.78      0.74      0.76    209361\n",
      "weighted avg       0.97      0.97      0.97    209361\n",
      "\n",
      "TP errors detected: 0.9381169592294982\n",
      "FP errors detected: 0.0078104452311806415\n",
      "F1 score on trained model: 0.7575806306131551\n",
      "              precision    recall  f1-score   support\n",
      "\n",
      "       B-geo       0.82      0.90      0.86      7526\n",
      "       B-gpe       0.97      0.92      0.94      3172\n",
      "       B-org       0.81      0.66      0.73      4024\n",
      "       B-per       0.85      0.79      0.82      3420\n",
      "       B-tim       0.93      0.83      0.88      4089\n",
      "       I-geo       0.75      0.75      0.75      1522\n",
      "       I-gpe       0.00      0.00      0.00        37\n",
      "       I-org       0.81      0.74      0.77      3260\n",
      "       I-per       0.84      0.89      0.87      3484\n",
      "       I-tim       0.87      0.61      0.72      1283\n",
      "           O       0.99      0.99      0.99    177544\n",
      "\n",
      "   micro avg       0.97      0.97      0.97    209361\n",
      "   macro avg       0.79      0.74      0.76    209361\n",
      "weighted avg       0.97      0.97      0.97    209361\n",
      "\n",
      "TP errors detected: 0.9390490178079677\n",
      "FP errors detected: 0.008355744298801857\n",
      "F1 score on trained model: 0.7561666164115625\n",
      "              precision    recall  f1-score   support\n",
      "\n",
      "       B-geo       0.82      0.90      0.86      7526\n",
      "       B-gpe       0.97      0.91      0.94      3172\n",
      "       B-org       0.80      0.67      0.73      4024\n",
      "       B-per       0.85      0.78      0.81      3420\n",
      "       B-tim       0.93      0.84      0.88      4089\n",
      "       I-geo       0.75      0.74      0.74      1522\n",
      "       I-gpe       0.00      0.00      0.00        37\n",
      "       I-org       0.80      0.75      0.78      3260\n",
      "       I-per       0.84      0.88      0.86      3484\n",
      "       I-tim       0.86      0.62      0.72      1283\n",
      "           O       0.99      0.99      0.99    177544\n",
      "\n",
      "   micro avg       0.97      0.97      0.97    209361\n",
      "   macro avg       0.78      0.74      0.76    209361\n",
      "weighted avg       0.97      0.97      0.97    209361\n",
      "\n",
      "TP errors detected: 0.938710087415797\n",
      "FP errors detected: 0.008299286567053196\n",
      "F1 score on trained model: 0.754741107161886\n",
      "              precision    recall  f1-score   support\n",
      "\n",
      "       B-geo       0.81      0.90      0.86      7526\n",
      "       B-gpe       0.97      0.91      0.94      3172\n",
      "       B-org       0.80      0.67      0.73      4024\n",
      "       B-per       0.85      0.76      0.81      3420\n",
      "       B-tim       0.93      0.84      0.88      4089\n",
      "       I-geo       0.73      0.75      0.74      1522\n",
      "       I-gpe       0.00      0.00      0.00        37\n",
      "       I-org       0.80      0.75      0.78      3260\n",
      "       I-per       0.84      0.88      0.86      3484\n",
      "       I-tim       0.85      0.63      0.72      1283\n",
      "           O       0.99      0.99      0.99    177544\n",
      "\n",
      "   micro avg       0.97      0.97      0.97    209361\n",
      "   macro avg       0.78      0.73      0.75    209361\n",
      "weighted avg       0.97      0.97      0.97    209361\n",
      "\n",
      "TP errors detected: 0.9389784073095988\n",
      "FP errors detected: 0.008668327350190786\n",
      "F1 score on trained model: 0.7544172841686391\n",
      "              precision    recall  f1-score   support\n",
      "\n",
      "       B-geo       0.81      0.90      0.86      7526\n",
      "       B-gpe       0.97      0.91      0.94      3172\n",
      "       B-org       0.81      0.66      0.73      4024\n",
      "       B-per       0.85      0.77      0.81      3420\n",
      "       B-tim       0.93      0.83      0.88      4089\n",
      "       I-geo       0.74      0.74      0.74      1522\n",
      "       I-gpe       0.00      0.00      0.00        37\n",
      "       I-org       0.82      0.74      0.78      3260\n",
      "       I-per       0.84      0.88      0.86      3484\n",
      "       I-tim       0.86      0.61      0.72      1283\n",
      "           O       0.99      1.00      0.99    177544\n",
      "\n",
      "   micro avg       0.97      0.97      0.97    209361\n",
      "   macro avg       0.78      0.73      0.75    209361\n",
      "weighted avg       0.97      0.97      0.97    209361\n"
     ]
    },
    {
     "name": "stdout",
     "output_type": "stream",
     "text": [
      "\n"
     ]
    }
   ],
   "source": [
    "iss2 = range(10, 19)\n",
    "\n",
    "for i in iss2:\n",
    "    pr, re, f1 = gtc_with_x_y_neighboring_y(X_val_, y_val_, num_x_keys=i)\n",
    "    xny_prs.append(pr)\n",
    "    xny_res.append(re)\n",
    "    xny_f1s.append(f1)"
   ]
  },
  {
   "cell_type": "code",
   "execution_count": 65,
   "metadata": {
    "scrolled": true
   },
   "outputs": [
    {
     "data": {
      "text/plain": [
       "Text(0, 0.5, 'Model performance (F1 score)')"
      ]
     },
     "execution_count": 65,
     "metadata": {},
     "output_type": "execute_result"
    },
    {
     "data": {
      "image/png": "[encoded data removed]",
      "text/plain": [
       "<Figure size 432x288 with 1 Axes>"
      ]
     },
     "metadata": {
      "needs_background": "light"
     },
     "output_type": "display_data"
    }
   ],
   "source": [
    "plt.plot(list(iss) + list(iss2), xny_f1s, '-o', label='ECN with Markov Blanket')\n",
    "plt.plot(list(iss) + list(iss2), [pf1]*len(list(iss) + list(iss2)), '-o', label='Pseudolabel')\n",
    "plt.plot(list(iss) + list(iss2), [dirty_f1]*len(list(iss) + list(iss2)), 'k--', label='Only corrupted training dataset')\n",
    "plt.plot(list(iss) + list(iss2), [clean_f1]*len(list(iss) + list(iss2)), 'k-', label='Clean training dataset (ideal)')\n",
    "plt.legend()\n",
    "plt.xlabel('Number of features from X')\n",
    "plt.ylabel('Model performance (F1 score)')"
   ]
  },
  {
   "cell_type": "code",
   "execution_count": 79,
   "metadata": {},
   "outputs": [
    {
     "name": "stdout",
     "output_type": "stream",
     "text": [
      "TP errors detected: 0.938328790724605\n",
      "FP errors detected: 0.008123028282569571\n",
      "F1 score on trained model: 0.7556352798322774\n",
      "              precision    recall  f1-score   support\n",
      "\n",
      "       B-geo       0.82      0.90      0.86      7526\n",
      "       B-gpe       0.97      0.91      0.94      3172\n",
      "       B-org       0.80      0.67      0.73      4024\n",
      "       B-per       0.86      0.77      0.81      3420\n",
      "       B-tim       0.93      0.84      0.88      4089\n",
      "       I-geo       0.74      0.74      0.74      1522\n",
      "       I-gpe       0.00      0.00      0.00        37\n",
      "       I-org       0.81      0.75      0.78      3260\n",
      "       I-per       0.84      0.88      0.86      3484\n",
      "       I-tim       0.85      0.62      0.72      1283\n",
      "           O       0.99      0.99      0.99    177544\n",
      "\n",
      "   micro avg       0.97      0.97      0.97    209361\n",
      "   macro avg       0.78      0.73      0.76    209361\n",
      "weighted avg       0.97      0.97      0.97    209361\n",
      "\n"
     ]
    },
    {
     "data": {
      "text/plain": [
       "(0.8197077647627098, 0.9019399415360085, 0.8588599987347378)"
      ]
     },
     "execution_count": 79,
     "metadata": {},
     "output_type": "execute_result"
    }
   ],
   "source": [
    "gtc_with_x_y_neighboring_y(X_val_, y_val_, num_x_keys=25)"
   ]
  },
  {
   "cell_type": "code",
   "execution_count": 98,
   "metadata": {},
   "outputs": [
    {
     "name": "stdout",
     "output_type": "stream",
     "text": [
      "TP errors detected: 0.9420222060179134\n",
      "FP errors detected: 0.00498072582417877\n",
      "F1 score on trained model: 0.766410934484587\n",
      "              precision    recall  f1-score   support\n",
      "\n",
      "       B-geo       0.84      0.90      0.87      7502\n",
      "       B-gpe       0.97      0.91      0.94      3275\n",
      "       B-org       0.80      0.72      0.75      4032\n",
      "       B-per       0.85      0.79      0.82      3384\n",
      "       B-tim       0.93      0.85      0.89      4033\n",
      "       I-geo       0.80      0.77      0.78      1485\n",
      "       I-gpe       0.00      0.00      0.00        41\n",
      "       I-org       0.80      0.78      0.79      3331\n",
      "       I-per       0.85      0.86      0.86      3433\n",
      "       I-tim       0.86      0.65      0.74      1266\n",
      "           O       0.99      0.99      0.99    177263\n",
      "\n",
      "   micro avg       0.97      0.97      0.97    209045\n",
      "   macro avg       0.79      0.75      0.77    209045\n",
      "weighted avg       0.97      0.97      0.97    209045\n",
      "\n"
     ]
    },
    {
     "data": {
      "text/plain": [
       "(0.8438517405459555, 0.8982937883231138, 0.8702221074380165)"
      ]
     },
     "execution_count": 98,
     "metadata": {},
     "output_type": "execute_result"
    }
   ],
   "source": [
    "gtc_with_x_y_neighboring_y(X_val_, y_val_, num_x_keys=None)"
   ]
  },
  {
   "cell_type": "code",
   "execution_count": 100,
   "metadata": {},
   "outputs": [
    {
     "data": {
      "text/plain": [
       "Text(0, 0.5, 'Model performance (F1 score)')"
      ]
     },
     "execution_count": 100,
     "metadata": {},
     "output_type": "execute_result"
    },
    {
     "data": {
      "image/png": "[encoded data removed]",
      "text/plain": [
       "<Figure size 432x288 with 1 Axes>"
      ]
     },
     "metadata": {
      "needs_background": "light"
     },
     "output_type": "display_data"
    }
   ],
   "source": [
    "plt.plot(list(iss) + list(iss2), xny_prs, '-o', label='ECN with Markov Blanket')\n",
    "plt.plot(list(iss) + list(iss2), [ppr]*len(list(iss) + list(iss2)), '-o', label='Pseudolabel')\n",
    "plt.plot(list(iss) + list(iss2), [dirty_precision]*len(list(iss) + list(iss2)), 'k--', label='Only corrupted training dataset')\n",
    "plt.plot(list(iss) + list(iss2), [clean_precision]*len(list(iss) + list(iss2)), 'k-', label='Clean training dataset (ideal)')\n",
    "plt.legend()\n",
    "plt.xlabel('Number of features from X')\n",
    "plt.ylabel('Model performance (F1 score)')"
   ]
  },
  {
   "cell_type": "code",
   "execution_count": 101,
   "metadata": {},
   "outputs": [
    {
     "data": {
      "text/plain": [
       "Text(0, 0.5, 'Model performance (F1 score)')"
      ]
     },
     "execution_count": 101,
     "metadata": {},
     "output_type": "execute_result"
    },
    {
     "data": {
      "image/png": "[encoded data removed]",
      "text/plain": [
       "<Figure size 432x288 with 1 Axes>"
      ]
     },
     "metadata": {
      "needs_background": "light"
     },
     "output_type": "display_data"
    }
   ],
   "source": [
    "plt.plot(list(iss) + list(iss2), xny_res, '-o', label='ECN with Markov Blanket')\n",
    "plt.plot(list(iss) + list(iss2), [pre]*len(list(iss) + list(iss2)), '-o', label='Pseudolabel')\n",
    "plt.plot(list(iss) + list(iss2), [dirty_recall]*len(list(iss) + list(iss2)), 'k--', label='Only corrupted training dataset')\n",
    "plt.plot(list(iss) + list(iss2), [clean_recall]*len(list(iss) + list(iss2)), 'k-', label='Clean training dataset (ideal)')\n",
    "plt.legend()\n",
    "plt.xlabel('Number of features from X')\n",
    "plt.ylabel('Model performance (F1 score)')"
   ]
  }
 ],
 "metadata": {
  "kernelspec": {
   "display_name": "Python 3.6 (tensorflow)",
   "language": "python",
   "name": "tensorflow"
  },
  "language_info": {
   "codemirror_mode": {
    "name": "ipython",
    "version": 3
   },
   "file_extension": ".py",
   "mimetype": "text/x-python",
   "name": "python",
   "nbconvert_exporter": "python",
   "pygments_lexer": "ipython3",
   "version": "3.6.7"
  }
 },
 "nbformat": 4,
 "nbformat_minor": 2
}
